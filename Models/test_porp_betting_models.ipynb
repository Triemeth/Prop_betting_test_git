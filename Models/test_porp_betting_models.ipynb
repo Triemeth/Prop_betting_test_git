{
  "nbformat": 4,
  "nbformat_minor": 0,
  "metadata": {
    "colab": {
      "provenance": []
    },
    "kernelspec": {
      "name": "python3",
      "display_name": "Python 3"
    },
    "language_info": {
      "name": "python"
    }
  },
  "cells": [
    {
      "cell_type": "code",
      "execution_count": 1,
      "metadata": {
        "id": "edwWQuLvjFw_",
        "colab": {
          "base_uri": "https://localhost:8080/"
        },
        "outputId": "145e3dcb-3a76-4534-beb8-f1ff79d2e563"
      },
      "outputs": [
        {
          "output_type": "stream",
          "name": "stdout",
          "text": [
            "Mounted at /content/drive\n",
            "\n",
            " Current path: /content/drive/My Drive\n"
          ]
        }
      ],
      "source": [
        "def mount_drive(dir):\n",
        "  import os\n",
        "  colab = 1\n",
        "  if colab == 1:\n",
        "    from google.colab import drive\n",
        "    drive.mount('/content/drive', force_remount = True)\n",
        "    current_folder = dir\n",
        "    dest_folder = '/content/drive/My Drive/' + current_folder\n",
        "    os.chdir(dest_folder)\n",
        "    print('\\n Current path: ' + os.getcwd())\n",
        "\n",
        "mount_drive('')"
      ]
    },
    {
      "cell_type": "code",
      "source": [
        "pip install nba_api"
      ],
      "metadata": {
        "colab": {
          "base_uri": "https://localhost:8080/"
        },
        "id": "bK0pExZ0C28S",
        "outputId": "5619cb88-74f7-47c5-d5be-90d79fc2a745"
      },
      "execution_count": 2,
      "outputs": [
        {
          "output_type": "stream",
          "name": "stdout",
          "text": [
            "Collecting nba_api\n",
            "  Downloading nba_api-1.7.0-py3-none-any.whl.metadata (5.5 kB)\n",
            "Requirement already satisfied: numpy<2.0.0,>=1.22.2 in /usr/local/lib/python3.11/dist-packages (from nba_api) (1.26.4)\n",
            "Requirement already satisfied: requests<3.0.0,>=2.32.3 in /usr/local/lib/python3.11/dist-packages (from nba_api) (2.32.3)\n",
            "Requirement already satisfied: charset-normalizer<4,>=2 in /usr/local/lib/python3.11/dist-packages (from requests<3.0.0,>=2.32.3->nba_api) (3.4.1)\n",
            "Requirement already satisfied: idna<4,>=2.5 in /usr/local/lib/python3.11/dist-packages (from requests<3.0.0,>=2.32.3->nba_api) (3.10)\n",
            "Requirement already satisfied: urllib3<3,>=1.21.1 in /usr/local/lib/python3.11/dist-packages (from requests<3.0.0,>=2.32.3->nba_api) (2.3.0)\n",
            "Requirement already satisfied: certifi>=2017.4.17 in /usr/local/lib/python3.11/dist-packages (from requests<3.0.0,>=2.32.3->nba_api) (2024.12.14)\n",
            "Downloading nba_api-1.7.0-py3-none-any.whl (280 kB)\n",
            "\u001b[2K   \u001b[90m━━━━━━━━━━━━━━━━━━━━━━━━━━━━━━━━━━━━━━━━\u001b[0m \u001b[32m280.2/280.2 kB\u001b[0m \u001b[31m6.0 MB/s\u001b[0m eta \u001b[36m0:00:00\u001b[0m\n",
            "\u001b[?25hInstalling collected packages: nba_api\n",
            "Successfully installed nba_api-1.7.0\n"
          ]
        }
      ]
    },
    {
      "cell_type": "code",
      "source": [
        "import pandas as pd\n",
        "import numpy as np\n",
        "import tensorflow as tf\n",
        "from tensorflow import keras\n",
        "from keras.models import Sequential\n",
        "from sklearn.linear_model import LinearRegression\n",
        "from keras.layers import Conv2D, MaxPooling1D, Activation, Flatten, Dense, AveragePooling1D, LSTM, GRU, Lambda\n",
        "from keras.layers import MaxPooling2D, AveragePooling2D, BatchNormalization, Dropout, Input, Conv1D, Reshape\n",
        "from keras.callbacks import EarlyStopping\n",
        "import matplotlib.pyplot as plt\n",
        "from sklearn.ensemble import ExtraTreesRegressor\n",
        "from sklearn.preprocessing import MinMaxScaler, StandardScaler, RobustScaler, MaxAbsScaler\n",
        "from sklearn.model_selection import train_test_split\n",
        "from sklearn.metrics import mean_squared_error, r2_score\n",
        "import xgboost as xgb\n",
        "from sklearn.ensemble import RandomForestRegressor\n",
        "import pandas as pd\n",
        "from nba_api.stats.static import players\n",
        "from nba_api.stats.static import teams\n",
        "from nba_api.stats.endpoints import leaguegamefinder\n",
        "from nba_api.stats.endpoints import leagueleaders\n",
        "from sklearn.preprocessing import LabelEncoder\n",
        "import re\n",
        "from nba_api.stats.endpoints import playergamelog\n",
        "import requests\n",
        "from nba_api.stats.static import teams"
      ],
      "metadata": {
        "id": "xwFVpTfhjftu"
      },
      "execution_count": 3,
      "outputs": []
    },
    {
      "cell_type": "code",
      "source": [
        "import warnings\n",
        "warnings.filterwarnings(\"ignore\")"
      ],
      "metadata": {
        "id": "rRhoPgyOL7-u"
      },
      "execution_count": 4,
      "outputs": []
    },
    {
      "cell_type": "code",
      "source": [
        "def normalizer(data_train, data_test, normalization_bit=1):\n",
        "  if normalization_bit == 1:\n",
        "    scaler = MinMaxScaler()\n",
        "  elif normalization_bit == 2:\n",
        "    scaler = StandardScaler()\n",
        "  elif normalization_bit == 3:\n",
        "    scaler = MaxAbsScaler()\n",
        "  elif normalization_bit == 4:\n",
        "    scaler = RobustScaler()\n",
        "  else:\n",
        "    return data_train, data_test\n",
        "\n",
        "\n",
        "  data_train = scaler.fit_transform(data_train)\n",
        "  data_test = scaler.transform(data_test)\n",
        "\n",
        "  return data_train, data_test"
      ],
      "metadata": {
        "id": "udP02U_QlgG4"
      },
      "execution_count": 5,
      "outputs": []
    },
    {
      "cell_type": "code",
      "source": [
        "def getMetrics(y_pred, y_true):\n",
        "  mse = mean_squared_error(y_true, y_pred)\n",
        "  r2 = r2_score(y_true, y_pred)\n",
        "  print(\"MSE: \", mse)\n",
        "  print(\"R2: \", r2)"
      ],
      "metadata": {
        "id": "9ydOOBIqvCGT"
      },
      "execution_count": 6,
      "outputs": []
    },
    {
      "cell_type": "code",
      "source": [
        "def compile_fit(model, X_train, y_train, X_test, y_test):\n",
        "\n",
        "  model.compile(\n",
        "      optimizer = 'adam',\n",
        "      loss = 'mse',\n",
        "      metrics = ['mse']\n",
        "  )\n",
        "\n",
        "  history = model.fit(\n",
        "      X_train,\n",
        "      y_train,\n",
        "      validation_split = 0.2,\n",
        "      epochs = 100,\n",
        "      batch_size = 64,\n",
        "      #callbacks = [early_stop],\n",
        "      validation_data = [X_test, y_test],\n",
        "      verbose = 1\n",
        "      )\n",
        "\n",
        "  y_pred = model.predict(X_test)\n",
        "\n",
        "  return history, y_pred"
      ],
      "metadata": {
        "id": "ynsUiEEOw2fy"
      },
      "execution_count": 7,
      "outputs": []
    },
    {
      "cell_type": "code",
      "source": [
        "def dnn_regression(input_shape, X_train, X_test, y_train, y_test):\n",
        "  model = Sequential([\n",
        "      Dense(64, activation = 'relu', input_shape = (input_shape,)),\n",
        "      Dropout(0.3),\n",
        "      Dense(32, activation = 'relu'),\n",
        "      Dropout(0.3),\n",
        "      Dense(16, activation = 'relu'),\n",
        "      Dropout(0.3),\n",
        "      Dense(1)\n",
        "  ])\n",
        "\n",
        "  history, y_pred = compile_fit(model, X_train, y_train, X_test, y_test)\n",
        "\n",
        "  return history, y_pred, model"
      ],
      "metadata": {
        "id": "NPRvY3Uuwwz4"
      },
      "execution_count": 8,
      "outputs": []
    },
    {
      "cell_type": "code",
      "source": [
        "def cnn_regression(input_shape, X_train, y_train, X_test, y_test, kernel_size = 1, pool_size = 2):\n",
        "\n",
        "  model = Sequential([\n",
        "      Conv1D(32, kernel_size = kernel_size, activation = 'relu', input_shape = input_shape),\n",
        "      MaxPooling1D(pool_size = pool_size),\n",
        "      Conv1D(64, kernel_size = kernel_size, activation = 'relu'),\n",
        "      Flatten(),\n",
        "      Dense(64, activation = 'relu'),\n",
        "      Dropout(0.3),\n",
        "      Dense(32, activation = 'relu'),\n",
        "      Dense(1)\n",
        "    ])\n",
        "\n",
        "  history, y_pred = compile_fit(model, X_train, y_train, X_test, y_test)\n",
        "\n",
        "  return history, y_pred, model"
      ],
      "metadata": {
        "id": "BqckPca-xm2t"
      },
      "execution_count": 9,
      "outputs": []
    },
    {
      "cell_type": "code",
      "source": [
        "def lstm_regression(input_shape, X_train, y_train, X_test, y_test):\n",
        "  model = Sequential([\n",
        "      LSTM(64, activation = 'tanh', input_shape = input_shape, return_sequences = True),\n",
        "      Dropout(0.3),\n",
        "      LSTM(32, activation = 'tanh'),\n",
        "      Dense(32, activation = 'relu'),\n",
        "      Dropout(0.3),\n",
        "      Dense(16, activation = 'relu'),\n",
        "      Dense(1)\n",
        "  ])\n",
        "\n",
        "  history, y_pred = compile_fit(model, X_train, y_train, X_test, y_test)\n",
        "\n",
        "  return history, y_pred, model"
      ],
      "metadata": {
        "id": "fDoBSwalxthN"
      },
      "execution_count": 10,
      "outputs": []
    },
    {
      "cell_type": "code",
      "source": [
        "def gru_regression(input_shape, X_train, y_train, X_test, y_test):\n",
        "  model = Sequential([\n",
        "      GRU(64, activation = 'tanh', input_shape = input_shape, return_sequences = True),\n",
        "      Dropout(0.3),\n",
        "      GRU(32, activation = 'tanh'),\n",
        "      Dense(32, activation = 'relu'),\n",
        "      Dropout(0.3),\n",
        "      Dense(16, activation = 'relu'),\n",
        "      Dense(1)\n",
        "  ])\n",
        "\n",
        "  history, y_pred = compile_fit(model, X_train, y_train, X_test, y_test)\n",
        "\n",
        "  return history, y_pred, model"
      ],
      "metadata": {
        "id": "DmTYAwZYxxdT"
      },
      "execution_count": 11,
      "outputs": []
    },
    {
      "cell_type": "code",
      "source": [
        "def extra_tree_regression(X_train, y_train, X_test, y_test, n_trees = 100):\n",
        "  model = ExtraTreesRegressor(\n",
        "            n_estimators = n_trees,\n",
        "            random_state = 0\n",
        "          )\n",
        "  model.fit(X_train, y_train)\n",
        "\n",
        "  y_pred = model.predict(X_test)\n",
        "\n",
        "  return y_pred, model"
      ],
      "metadata": {
        "id": "JgPAIXdMx1LZ"
      },
      "execution_count": 12,
      "outputs": []
    },
    {
      "cell_type": "code",
      "source": [
        "def plotLosses(history):\n",
        "  plt.figure(figsize = (8,6))\n",
        "  plt.plot(history.history['loss'], 'r', label = 'Training_loss / MSE')\n",
        "  plt.plot(history.history['val_loss'], 'b', label = 'Test_loss / MSE')\n",
        "  plt.title(\"Train-Test MSE / Loss\")\n",
        "  plt.legend()\n",
        "  plt.show()"
      ],
      "metadata": {
        "id": "HZNab43QxPkY"
      },
      "execution_count": 13,
      "outputs": []
    },
    {
      "cell_type": "code",
      "source": [
        "original_get = requests.get\n",
        "\n",
        "def custom_get(*args, **kwargs):\n",
        "    kwargs['timeout'] = 60\n",
        "    return original_get(*args, **kwargs)\n",
        "\n",
        "requests.get = custom_get"
      ],
      "metadata": {
        "id": "vpw-ytXwCyIQ"
      },
      "execution_count": 14,
      "outputs": []
    },
    {
      "cell_type": "code",
      "source": [
        "def clac_avg_PER(league_avg_stats):\n",
        "    points = league_avg_stats['PTS'].mean()\n",
        "    fga = league_avg_stats['FGA'].mean()\n",
        "    fta = league_avg_stats['FTA'].mean()\n",
        "    tov = league_avg_stats['TOV'].mean()\n",
        "    reb = league_avg_stats['REB'].mean()\n",
        "    ast = league_avg_stats['AST'].mean()\n",
        "    blk = league_avg_stats['BLK'].mean()\n",
        "    stl = league_avg_stats['STL'].mean()\n",
        "    pf = league_avg_stats['PF'].mean()\n",
        "\n",
        "    missed_fg = (fga - league_avg_stats['FGM'].mean())\n",
        "    missed_ft = (fta - league_avg_stats['FTM'].mean())\n",
        "\n",
        "    player_efficiency_avg = (\n",
        "        points + reb + ast + stl + blk - missed_fg - missed_ft - tov - pf\n",
        "    )\n",
        "\n",
        "    return player_efficiency_avg\n"
      ],
      "metadata": {
        "id": "Hk05XE08DFRB"
      },
      "execution_count": 15,
      "outputs": []
    },
    {
      "cell_type": "code",
      "source": [
        "def calc_PER(player_stats, league_avg_stats):\n",
        "    player_efficiency_avg = clac_avg_PER(league_avg_stats)\n",
        "\n",
        "    points = player_stats['PTS']\n",
        "    fga = player_stats['FGA']\n",
        "    fta = player_stats['FTA']\n",
        "    tov = player_stats['TOV']\n",
        "    reb = player_stats['REB']\n",
        "    ast = player_stats['AST']\n",
        "    blk = player_stats['BLK']\n",
        "    stl = player_stats['STL']\n",
        "    pf = player_stats['PF']\n",
        "    min_played = player_stats['MIN']\n",
        "\n",
        "    missed_fg = (fga - player_stats['FGM'])\n",
        "    missed_ft = (fta - player_stats['FTM'])\n",
        "\n",
        "    player_efficiency = (\n",
        "        points + reb + ast + stl + blk - missed_fg - missed_ft - tov - pf\n",
        "    )\n",
        "\n",
        "    return player_efficiency/(player_efficiency_avg * min_played)"
      ],
      "metadata": {
        "id": "x6cQfdqgDVNd"
      },
      "execution_count": 16,
      "outputs": []
    },
    {
      "cell_type": "code",
      "source": [
        "def calculate_ts_pct(player_stats):\n",
        "\n",
        "    pts = player_stats['PTS']\n",
        "    fga = player_stats['FGA']\n",
        "    fta = player_stats['FTA']\n",
        "\n",
        "    ts_pct = pts / (2 * (fga + 0.44 * fta))\n",
        "    return ts_pct"
      ],
      "metadata": {
        "id": "5WR11FZxDcjD"
      },
      "execution_count": 17,
      "outputs": []
    },
    {
      "cell_type": "code",
      "source": [
        "def calculate_ast_to_ratio(player_stats):\n",
        "    ast = player_stats['AST']\n",
        "    tov = player_stats['TOV']\n",
        "\n",
        "    return ast / tov"
      ],
      "metadata": {
        "id": "yo95rRq0De-t"
      },
      "execution_count": 18,
      "outputs": []
    },
    {
      "cell_type": "code",
      "source": [
        "def extra_player_metrics(df_player, df_leaders):\n",
        "    df_player[\"PER_score\"] = calc_PER(df_player ,df_leaders)\n",
        "    df_player[\"PCT_score\"] = calculate_ts_pct(df_player)\n",
        "    df_player[\"AST_ratio\"]= calculate_ast_to_ratio(df_player)\n",
        "\n",
        "    return df_player"
      ],
      "metadata": {
        "id": "eXRD69QFDg_H"
      },
      "execution_count": 19,
      "outputs": []
    },
    {
      "cell_type": "code",
      "source": [
        "def home_away_averages(player_df):\n",
        "    player_df[\"Home_Average_PTS\"] = player_df[player_df['Home'] == 1]['PTS'].mean()\n",
        "    player_df[\"Away_Average_PTS\"] = player_df[player_df['Home'] == 0]['PTS'].mean()\n",
        "\n",
        "    player_df[\"Home_Average_REB\"] = player_df[player_df['Home'] == 1]['REB'].mean()\n",
        "    player_df[\"Away_Average_REB\"] = player_df[player_df['Home'] == 0]['REB'].mean()\n",
        "\n",
        "    player_df[\"Home_Average_AST\"] = player_df[player_df['Home'] == 1]['AST'].mean()\n",
        "    player_df[\"Away_Average_AST\"] = player_df[player_df['Home'] == 0]['AST'].mean()\n",
        "\n",
        "    return player_df"
      ],
      "metadata": {
        "id": "sG-eNwo3Di94"
      },
      "execution_count": 20,
      "outputs": []
    },
    {
      "cell_type": "code",
      "source": [
        "def recent_game_averages(player_df):\n",
        "    player_df = player_df.copy()\n",
        "\n",
        "    # Reverse the DataFrame to calculate the averages starting from the most recent game\n",
        "    player_df = player_df[::-1]\n",
        "\n",
        "    # Points of last # of games\n",
        "    player_df.loc[:, \"Avg_points_last_3\"] = player_df[\"PTS\"].rolling(window=3).mean()\n",
        "    player_df.loc[:, \"Avg_points_last_5\"] = player_df[\"PTS\"].rolling(window=5).mean()\n",
        "    player_df.loc[:, \"Avg_points_last_7\"] = player_df[\"PTS\"].rolling(window=7).mean()\n",
        "\n",
        "    # Assists of last # of games\n",
        "    player_df.loc[:, \"Avg_Assists_last_3\"] = player_df[\"AST\"].rolling(window=3).mean()\n",
        "    player_df.loc[:, \"Avg_Assists_last_5\"] = player_df[\"AST\"].rolling(window=5).mean()\n",
        "    player_df.loc[:, \"Avg_Assists_last_7\"] = player_df[\"AST\"].rolling(window=7).mean()\n",
        "\n",
        "    # Rebounds of last # of games\n",
        "    player_df.loc[:, \"Avg_Rebounds_last_3\"] = player_df[\"REB\"].rolling(window=3).mean()\n",
        "    player_df.loc[:, \"Avg_Rebounds_last_5\"] = player_df[\"REB\"].rolling(window=5).mean()\n",
        "    player_df.loc[:, \"Avg_Rebounds_last_7\"] = player_df[\"REB\"].rolling(window=7).mean()\n",
        "\n",
        "    # Reverse back to original order\n",
        "    player_df = player_df[::-1]\n",
        "\n",
        "    return player_df"
      ],
      "metadata": {
        "id": "nZQG7myqDmVz"
      },
      "execution_count": 21,
      "outputs": []
    },
    {
      "cell_type": "code",
      "source": [
        "def calc_possesions(team_df, column_name):\n",
        "    team_df[column_name] = (\n",
        "    team_df['FGA'] +\n",
        "    0.44 * team_df['FTA'] -\n",
        "    team_df['OREB'] +\n",
        "    team_df['TOV'])\n",
        "\n",
        "    return team_df"
      ],
      "metadata": {
        "id": "Jrc-c-u-DpZy"
      },
      "execution_count": 22,
      "outputs": []
    },
    {
      "cell_type": "code",
      "source": [
        "def win_loss_ecoder(df):\n",
        "    labelEncoder = LabelEncoder()\n",
        "    df['WL'] = labelEncoder.fit_transform(df['WL'])\n",
        "\n",
        "    return df"
      ],
      "metadata": {
        "id": "Llkq6bz9DrTE"
      },
      "execution_count": 23,
      "outputs": []
    },
    {
      "cell_type": "code",
      "source": [
        "def get_player(player_name):\n",
        "\n",
        "    #get specific player data\n",
        "    player_dict = players.get_players()\n",
        "    player_stat = [player for player in player_dict if player['full_name'] == player_name][0]\n",
        "    players_id_stat = player_stat['id']\n",
        "\n",
        "    #Get current year\n",
        "    gamelog_player_df = playergamelog.PlayerGameLog(player_id = players_id_stat, season = \"2024\").get_data_frames()[0]\n",
        "    gamelog_player_df = pd.DataFrame(gamelog_player_df)\n",
        "\n",
        "    #get average leaguge data\n",
        "    leaders = leagueleaders.LeagueLeaders(season='2023-24')\n",
        "    df_leaders = leaders.get_data_frames()[0]\n",
        "    df_leaders = pd.DataFrame(df_leaders)\n",
        "\n",
        "    gamelog_player_df = extra_player_metrics(gamelog_player_df, df_leaders)\n",
        "\n",
        "    #Encode Wins and loss to binary\n",
        "    gamelog_player_df = win_loss_ecoder(gamelog_player_df)\n",
        "\n",
        "    #Regex for home an away binary encoding\n",
        "    gamelog_player_df[\"Home\"] = gamelog_player_df[\"MATCHUP\"].apply(lambda x: 0 if re.search(r'@', x) else 1)\n",
        "\n",
        "    gamelog_player_df = home_away_averages(gamelog_player_df)\n",
        "    gamelog_player_df = recent_game_averages(gamelog_player_df)\n",
        "\n",
        "    gamelog_player_df[\"GAME_ID\"] = gamelog_player_df[\"Game_ID\"]\n",
        "\n",
        "    #Drop cols\n",
        "    gamelog_player_df = gamelog_player_df.drop(columns=[\"Player_ID\", \"MATCHUP\", \"SEASON_ID\", \"VIDEO_AVAILABLE\", \"Game_ID\"])\n",
        "\n",
        "    return gamelog_player_df"
      ],
      "metadata": {
        "id": "9xL6Kf_LDutd"
      },
      "execution_count": 24,
      "outputs": []
    },
    {
      "cell_type": "code",
      "source": [
        "def combine_games(df):\n",
        "\n",
        "    agg_functions = {\n",
        "        'GAME_ID': 'first',\n",
        "        'GAME_DATE': 'first',\n",
        "        'WL': lambda x: x.loc[x.idxmax()],\n",
        "        'MIN': 'sum',\n",
        "        'PTS': 'sum',\n",
        "        'FGM': 'sum',\n",
        "        'FGA': 'sum',\n",
        "        'FG_PCT': lambda x: x.sum() / len(x),\n",
        "        'FG3M': 'sum',\n",
        "        'FG3A': 'sum',\n",
        "        'FG3_PCT': lambda x: x.sum() / len(x),\n",
        "        'FTM': 'sum',\n",
        "        'FTA': 'sum',\n",
        "        'FT_PCT': lambda x: x.sum() / len(x),\n",
        "        'OREB': 'sum',\n",
        "        'DREB': 'sum',\n",
        "        'REB': 'sum',\n",
        "        'AST': 'sum',\n",
        "        'STL': 'sum',\n",
        "        'BLK': 'sum',\n",
        "        'TOV': 'sum',\n",
        "        'PF': 'sum',\n",
        "        'PLUS_MINUS': 'sum',\n",
        "        'Home': lambda x: x.loc[x.idxmax()],\n",
        "        'OPP': 'first',\n",
        "        'SEASON_ID': 'first',\n",
        "        'TEAM_ID': 'first',\n",
        "        'TEAM_ABBREVIATION': 'first',\n",
        "        'TEAM_NAME': 'first',\n",
        "        'MATCHUP': 'first'\n",
        "        }\n",
        "\n",
        "    df = df.groupby(df['GAME_ID']).aggregate(agg_functions)\n",
        "\n",
        "    return df\n"
      ],
      "metadata": {
        "id": "3uhOVF1oDyMs"
      },
      "execution_count": 25,
      "outputs": []
    },
    {
      "cell_type": "code",
      "source": [
        "def get_team(team_name):\n",
        "    #Get starting team data\n",
        "    team_dict = teams.get_teams()\n",
        "    team_stat = [team for team in team_dict if team['full_name'] == team_name][0]\n",
        "    team_stat_ID = team_stat['id']\n",
        "    team_stat_games = leaguegamefinder.LeagueGameFinder(team_id_nullable = team_stat_ID).get_data_frames()[0]\n",
        "\n",
        "    #Filter only the most recent season\n",
        "    team_stat_games['GAME_DATE'] = pd.to_datetime(team_stat_games['GAME_DATE'], errors='coerce')\n",
        "    comparison_date = pd.to_datetime(\"2024-8-21\")\n",
        "    team_stat_games = team_stat_games[team_stat_games[\"GAME_DATE\"] > comparison_date]\n",
        "\n",
        "    #Encode Wins and loss to binary\n",
        "    team_stat_games = win_loss_ecoder(team_stat_games)\n",
        "\n",
        "    #Regex for home an away binary encoding\n",
        "    team_stat_games[\"Home\"] = team_stat_games[\"MATCHUP\"].apply(lambda x: 0 if re.search(r'@', x) else 1)\n",
        "\n",
        "    #Regex what team is being played then encode to numeric values\n",
        "    team_stat_games[\"OPP\"] = team_stat_games[\"MATCHUP\"].str.extract(r'[.@]\\s*(\\w+)')\n",
        "    #labelEncoder = LabelEncoder()\n",
        "    #team_stat_games[\"OPP\"] = labelEncoder.fit_transform(team_stat_games[\"OPP\"])\n",
        "\n",
        "    team_stat_games = combine_games(team_stat_games)\n",
        "    team_stat_games = calc_possesions(team_stat_games, \"Team_possesions\")\n",
        "\n",
        "    #Drop cols\n",
        "    team_stat_games = team_stat_games.drop(columns=[\"SEASON_ID\", \"TEAM_ID\", \"TEAM_ABBREVIATION\", \"TEAM_NAME\", \"MATCHUP\"])\n",
        "\n",
        "    return team_stat_games\n"
      ],
      "metadata": {
        "id": "Gd8DCLxKD01D"
      },
      "execution_count": 26,
      "outputs": []
    },
    {
      "cell_type": "code",
      "source": [
        "def calc_usage_pace_offensive_rating(df):\n",
        "    required_columns = ['FGA', 'FTA', 'TOV', 'MIN_team', 'PTS_team', 'Team_possesions_team', 'OREB']\n",
        "    for col in required_columns:\n",
        "        if col not in df.columns:\n",
        "            raise ValueError(f\"Missing required column: {col}\")\n",
        "\n",
        "    df['GAME_DATE'] = pd.to_datetime(df['GAME_DATE'], format='%b %d, %Y')\n",
        "    df = df.sort_values(by=\"GAME_DATE\", ascending=True)\n",
        "\n",
        "    # Calculate per-game stats\n",
        "    df['Player_possessions'] = (\n",
        "        df['FGA'] - df['OREB'] + df['TOV'] + (0.44 * df['FTA'])\n",
        "    )\n",
        "\n",
        "    df['Offensive_Rating'] = (\n",
        "        (df['PTS'] / df['Player_possessions']) * 100\n",
        "    ).fillna(0)\n",
        "\n",
        "    # Handle cases where possessions might be zero or very small\n",
        "    df['Player_possessions'] = df['Player_possessions'].replace(0, 0.1)\n",
        "    df['Offensive_Rating'] = df['Offensive_Rating'].replace([float('inf'), -float('inf')], 0)\n",
        "\n",
        "    # Calculate cumulative averages\n",
        "    df['Cumulative_Offensive_Rating'] = df['Offensive_Rating'].expanding().mean()\n",
        "\n",
        "    df['team_possessions'] = (\n",
        "        df['FGA_team'] - df['OREB_team'] + df['TOV_team'] + (0.44 * df['FTA_team'])\n",
        "    )\n",
        "\n",
        "    df['team_off_rating'] = (\n",
        "        (df['PTS_team']/df['Team_possesions_team']) * 100\n",
        "    ).fillna(0)\n",
        "\n",
        "    df['team_possessions'] = df['Team_possesions_team'].replace(0, 0.1)\n",
        "    df['team_off_rating'] = df['team_off_rating'].replace([float('inf'), -float('inf')], 0)\n",
        "\n",
        "    # Calculate cumulative averages\n",
        "    df['Cumulative_team_off_Rating'] = df['team_off_rating'].expanding().mean()\n",
        "\n",
        "    df['Team_Pace'] = (\n",
        "        (df['team_possessions'] / (df['MIN_team'] / 5)) * 48\n",
        "    ).replace([float('inf'), -float('inf')], 0).fillna(0)\n",
        "\n",
        "    df['Cumulative_Team_Pace'] = df['Team_Pace'].expanding().mean()\n",
        "\n",
        "    # Calculate Usage Percentage\n",
        "    df['Cumulative_FGA'] = df['FGA'].cumsum()\n",
        "    df['Cumulative_FTA'] = df['FTA'].cumsum()\n",
        "    df['Cumulative_TO'] = df['TOV'].cumsum()\n",
        "    df['Cumulative_MIN'] = df['MIN_team'].cumsum()\n",
        "    df['Cumulative_PTS'] = df['PTS_team'].cumsum()\n",
        "\n",
        "    df['Usage_Percentage'] = (\n",
        "        100\n",
        "        * (\n",
        "            (df['Cumulative_FGA'] + 0.44 * df['Cumulative_FTA'] + df['Cumulative_TO'])\n",
        "            * df['MIN_team']\n",
        "        )\n",
        "        / (df['Cumulative_MIN'] * df['team_possessions'])\n",
        "    )\n",
        "\n",
        "    # Drop cumulative columns if not needed for output\n",
        "    df = df.drop(columns=['Cumulative_FGA', 'Cumulative_FTA', 'Cumulative_TO', 'Cumulative_MIN', 'Cumulative_PTS'])\n",
        "\n",
        "    return df"
      ],
      "metadata": {
        "id": "Mb5ZEYw0D3q-"
      },
      "execution_count": 27,
      "outputs": []
    },
    {
      "cell_type": "code",
      "source": [
        "from functools import lru_cache\n",
        "\n",
        "def calculate_defensive_rating_up_to_game(main_team_data):\n",
        "    # Get all NBA team data upfront\n",
        "    all_teams = teams.get_teams()\n",
        "    team_id_map = {team['full_name']: team['id'] for team in all_teams}\n",
        "\n",
        "    # Cache to store previously fetched opponent data\n",
        "    opp_team_cache = {}\n",
        "\n",
        "    all_team_def_ratings = []\n",
        "\n",
        "    for index, row in main_team_data.iterrows():\n",
        "        opp_name = row['full_opp_name']\n",
        "        game_date = pd.to_datetime(row['GAME_DATE'], errors='coerce')\n",
        "\n",
        "        # Get opponent's data from cache or API\n",
        "        if opp_name not in opp_team_cache:\n",
        "            opp_team_ID = team_id_map.get(opp_name)\n",
        "            if opp_team_ID:\n",
        "                opp_games = leaguegamefinder.LeagueGameFinder(team_id_nullable=opp_team_ID).get_data_frames()[0]\n",
        "                opp_team_cache[opp_name] = opp_games\n",
        "            else:\n",
        "                opp_team_cache[opp_name] = pd.DataFrame()  # Handle missing teams\n",
        "\n",
        "        opp_team_games = opp_team_cache[opp_name]\n",
        "\n",
        "        if not opp_team_games.empty:\n",
        "            opp_team_games['GAME_DATE'] = pd.to_datetime(opp_team_games['GAME_DATE'], errors='coerce')\n",
        "            opp_team_games = opp_team_games[opp_team_games['GAME_DATE'] < game_date]\n",
        "\n",
        "            opp_team_games = calc_possesions(opp_team_games, \"opp_possessions\")\n",
        "            opp_team_games['CUMULATIVE_POINTS_ALLOWED'] = opp_team_games['PTS'].cumsum()\n",
        "            opp_team_games['CUMULATIVE_OPP_POSSESSIONS'] = opp_team_games['opp_possessions'].cumsum()\n",
        "\n",
        "            if not opp_team_games.empty:\n",
        "                def_rating = (\n",
        "                    100 * opp_team_games['CUMULATIVE_POINTS_ALLOWED'].iloc[-1] /\n",
        "                    opp_team_games['CUMULATIVE_OPP_POSSESSIONS'].iloc[-1]\n",
        "                )\n",
        "            else:\n",
        "                def_rating = None\n",
        "        else:\n",
        "            def_rating = None\n",
        "\n",
        "        all_team_def_ratings.append({\n",
        "            'GAME_ID': row['GAME_ID'],\n",
        "            'GAME_DATE_player': row['GAME_DATE'],\n",
        "            'Opp_Team': opp_name,\n",
        "            'Defensive_Rating': def_rating\n",
        "        })\n",
        "\n",
        "    return pd.DataFrame(all_team_def_ratings)"
      ],
      "metadata": {
        "id": "MXDQyjUqD4et"
      },
      "execution_count": 28,
      "outputs": []
    },
    {
      "cell_type": "code",
      "source": [
        "\"\"\"def calculate_defensive_rating_up_to_game(main_team_data):\n",
        "    all_team_def_ratings = []\n",
        "\n",
        "    #iterate though all the data and obtain the opposing teams data\n",
        "    for index, row in main_team_data.iterrows():\n",
        "        opp_name = row['full_opp_name']\n",
        "        game_date = pd.to_datetime(row['GAME_DATE'], errors='coerce')\n",
        "\n",
        "        team_dict = teams.get_teams()\n",
        "        opp_team = [team for team in team_dict if team['full_name'] == opp_name][0]\n",
        "        opp_team_ID = opp_team['id']\n",
        "        opp_team_games = leaguegamefinder.LeagueGameFinder(team_id_nullable=opp_team_ID).get_data_frames()[0]\n",
        "\n",
        "        opp_team_games['GAME_DATE'] = pd.to_datetime(opp_team_games['GAME_DATE'], errors='coerce')\n",
        "        opp_team_games = opp_team_games[opp_team_games['GAME_DATE'] < game_date]\n",
        "\n",
        "        opp_team_games = calc_possesions(opp_team_games, \"opp_possessions\")\n",
        "        opp_team_games['CUMULATIVE_POINTS_ALLOWED'] = opp_team_games['PTS'].cumsum()\n",
        "        opp_team_games['CUMULATIVE_OPP_POSSESSIONS'] = opp_team_games['opp_possessions'].cumsum()\n",
        "\n",
        "        #calulate defensive rating doe each team\n",
        "        if not opp_team_games.empty:\n",
        "            def_rating = (\n",
        "                100 * opp_team_games['CUMULATIVE_POINTS_ALLOWED'].iloc[-1] /\n",
        "                opp_team_games['CUMULATIVE_OPP_POSSESSIONS'].iloc[-1]\n",
        "            )\n",
        "        else:\n",
        "            def_rating = None\n",
        "\n",
        "        #only keep what is needed for adding to main data frame\n",
        "        all_team_def_ratings.append({\n",
        "            'GAME_ID': row['GAME_ID'],\n",
        "            'GAME_DATE_player': row['GAME_DATE'],\n",
        "            'Opp_Team': opp_name,\n",
        "            'Defensive_Rating': def_rating\n",
        "        })\n",
        "\n",
        "    return pd.DataFrame(all_team_def_ratings)\"\"\""
      ],
      "metadata": {
        "id": "gmnK7bOajYZA",
        "colab": {
          "base_uri": "https://localhost:8080/",
          "height": 105
        },
        "outputId": "7c4a7a7e-760d-4e63-85f6-9994af6a7edc"
      },
      "execution_count": 29,
      "outputs": [
        {
          "output_type": "execute_result",
          "data": {
            "text/plain": [
              "'def calculate_defensive_rating_up_to_game(main_team_data):\\n    all_team_def_ratings = []\\n\\n    #iterate though all the data and obtain the opposing teams data\\n    for index, row in main_team_data.iterrows():\\n        opp_name = row[\\'full_opp_name\\']\\n        game_date = pd.to_datetime(row[\\'GAME_DATE\\'], errors=\\'coerce\\')\\n\\n        team_dict = teams.get_teams()\\n        opp_team = [team for team in team_dict if team[\\'full_name\\'] == opp_name][0]\\n        opp_team_ID = opp_team[\\'id\\']\\n        opp_team_games = leaguegamefinder.LeagueGameFinder(team_id_nullable=opp_team_ID).get_data_frames()[0]\\n\\n        opp_team_games[\\'GAME_DATE\\'] = pd.to_datetime(opp_team_games[\\'GAME_DATE\\'], errors=\\'coerce\\')\\n        opp_team_games = opp_team_games[opp_team_games[\\'GAME_DATE\\'] < game_date]\\n\\n        opp_team_games = calc_possesions(opp_team_games, \"opp_possessions\")\\n        opp_team_games[\\'CUMULATIVE_POINTS_ALLOWED\\'] = opp_team_games[\\'PTS\\'].cumsum()\\n        opp_team_games[\\'CUMULATIVE_OPP_POSSESSIONS\\'] = opp_team_games[\\'opp_possessions\\'].cumsum()\\n\\n        #calulate defensive rating doe each team\\n        if not opp_team_games.empty:\\n            def_rating = (\\n                100 * opp_team_games[\\'CUMULATIVE_POINTS_ALLOWED\\'].iloc[-1] /\\n                opp_team_games[\\'CUMULATIVE_OPP_POSSESSIONS\\'].iloc[-1]\\n            )\\n        else:\\n            def_rating = None\\n\\n        #only keep what is needed for adding to main data frame\\n        all_team_def_ratings.append({\\n            \\'GAME_ID\\': row[\\'GAME_ID\\'],\\n            \\'GAME_DATE_player\\': row[\\'GAME_DATE\\'],\\n            \\'Opp_Team\\': opp_name,\\n            \\'Defensive_Rating\\': def_rating\\n        })\\n\\n    return pd.DataFrame(all_team_def_ratings)'"
            ],
            "application/vnd.google.colaboratory.intrinsic+json": {
              "type": "string"
            }
          },
          "metadata": {},
          "execution_count": 29
        }
      ]
    },
    {
      "cell_type": "code",
      "source": [
        "\"\"\"\"def calculate_opponent_pace_up_to_game(main_team_data):\n",
        "    all_team_paces = []\n",
        "\n",
        "    #iterate through the main data obtaining oposing teams data\n",
        "    for index, row in main_team_data.iterrows():\n",
        "        opp_name = row['full_opp_name']\n",
        "        game_date = pd.to_datetime(row['GAME_DATE_player'], errors='coerce')\n",
        "\n",
        "        team_dict = teams.get_teams()\n",
        "        opp_team_list = [team for team in team_dict if team['full_name'].strip().lower() == opp_name.strip().lower()]\n",
        "        opp_team = opp_team_list[0]\n",
        "        opp_team_ID = opp_team['id']\n",
        "        opp_team_games = leaguegamefinder.LeagueGameFinder(team_id_nullable=opp_team_ID).get_data_frames()[0]\n",
        "\n",
        "        opp_team_games['GAME_DATE'] = pd.to_datetime(opp_team_games['GAME_DATE'], errors='coerce')\n",
        "        opp_team_games = opp_team_games[opp_team_games['GAME_DATE'] < game_date]\n",
        "\n",
        "        opp_team_games = calc_possesions(opp_team_games, \"opp_possessions\")\n",
        "\n",
        "        opp_team_games['GAME_MINUTES'] = 48\n",
        "\n",
        "        opp_team_games['CUMULATIVE_OPP_POSSESSIONS'] = opp_team_games['opp_possessions'].cumsum()\n",
        "        opp_team_games['CUMULATIVE_GAME_MINUTES'] = opp_team_games['GAME_MINUTES'].cumsum()\n",
        "\n",
        "        #calculate the pace of the opposing team\n",
        "        if not opp_team_games.empty:\n",
        "            avg_pace = (\n",
        "                opp_team_games['CUMULATIVE_OPP_POSSESSIONS'].iloc[-1] *\n",
        "                48 /\n",
        "                opp_team_games['CUMULATIVE_GAME_MINUTES'].iloc[-1]\n",
        "            )\n",
        "        else:\n",
        "            avg_pace = None\n",
        "\n",
        "        #only keep what is needed for megring the data\n",
        "        all_team_paces.append({\n",
        "            'GAME_ID': row['GAME_ID'],\n",
        "            'GAME_DATE_player': row['GAME_DATE_player'],\n",
        "            'Opp_Team': opp_name,\n",
        "            'Opponent_Pace': avg_pace\n",
        "        })\n",
        "\n",
        "    return pd.DataFrame(all_team_paces)\n",
        "\"\"\""
      ],
      "metadata": {
        "id": "EwyYSjmWD9_O",
        "colab": {
          "base_uri": "https://localhost:8080/",
          "height": 105
        },
        "outputId": "abb7416b-4d8b-414f-b057-147402cd729b"
      },
      "execution_count": 30,
      "outputs": [
        {
          "output_type": "execute_result",
          "data": {
            "text/plain": [
              "'\"def calculate_opponent_pace_up_to_game(main_team_data):\\n    all_team_paces = []\\n\\n    #iterate through the main data obtaining oposing teams data\\n    for index, row in main_team_data.iterrows():\\n        opp_name = row[\\'full_opp_name\\']\\n        game_date = pd.to_datetime(row[\\'GAME_DATE_player\\'], errors=\\'coerce\\')\\n\\n        team_dict = teams.get_teams()\\n        opp_team_list = [team for team in team_dict if team[\\'full_name\\'].strip().lower() == opp_name.strip().lower()]\\n        opp_team = opp_team_list[0]\\n        opp_team_ID = opp_team[\\'id\\']\\n        opp_team_games = leaguegamefinder.LeagueGameFinder(team_id_nullable=opp_team_ID).get_data_frames()[0]\\n\\n        opp_team_games[\\'GAME_DATE\\'] = pd.to_datetime(opp_team_games[\\'GAME_DATE\\'], errors=\\'coerce\\')\\n        opp_team_games = opp_team_games[opp_team_games[\\'GAME_DATE\\'] < game_date]\\n\\n        opp_team_games = calc_possesions(opp_team_games, \"opp_possessions\")\\n\\n        opp_team_games[\\'GAME_MINUTES\\'] = 48\\n\\n        opp_team_games[\\'CUMULATIVE_OPP_POSSESSIONS\\'] = opp_team_games[\\'opp_possessions\\'].cumsum()\\n        opp_team_games[\\'CUMULATIVE_GAME_MINUTES\\'] = opp_team_games[\\'GAME_MINUTES\\'].cumsum()\\n\\n        #calculate the pace of the opposing team\\n        if not opp_team_games.empty:\\n            avg_pace = (\\n                opp_team_games[\\'CUMULATIVE_OPP_POSSESSIONS\\'].iloc[-1] *\\n                48 /\\n                opp_team_games[\\'CUMULATIVE_GAME_MINUTES\\'].iloc[-1]\\n            )\\n        else:\\n            avg_pace = None\\n\\n        #only keep what is needed for megring the data\\n        all_team_paces.append({\\n            \\'GAME_ID\\': row[\\'GAME_ID\\'],\\n            \\'GAME_DATE_player\\': row[\\'GAME_DATE_player\\'],\\n            \\'Opp_Team\\': opp_name,\\n            \\'Opponent_Pace\\': avg_pace\\n        })\\n\\n    return pd.DataFrame(all_team_paces)\\n'"
            ],
            "application/vnd.google.colaboratory.intrinsic+json": {
              "type": "string"
            }
          },
          "metadata": {},
          "execution_count": 30
        }
      ]
    },
    {
      "cell_type": "code",
      "source": [
        "def calculate_opponent_pace_up_to_game(main_team_data):\n",
        "    # Get all NBA team data upfront\n",
        "    all_teams = teams.get_teams()\n",
        "    team_id_map = {team['full_name'].strip().lower(): team['id'] for team in all_teams}\n",
        "\n",
        "    # Cache to store previously fetched opponent data\n",
        "    opp_team_cache = {}\n",
        "\n",
        "    all_team_paces = []\n",
        "\n",
        "    for index, row in main_team_data.iterrows():\n",
        "        opp_name = row['full_opp_name'].strip().lower()\n",
        "        game_date = pd.to_datetime(row['GAME_DATE_player'], errors='coerce')\n",
        "\n",
        "        # Get opponent's data from cache or API\n",
        "        if opp_name not in opp_team_cache:\n",
        "            opp_team_ID = team_id_map.get(opp_name)\n",
        "            if opp_team_ID:\n",
        "                try:\n",
        "                    opp_games = leaguegamefinder.LeagueGameFinder(team_id_nullable=opp_team_ID).get_data_frames()[0]\n",
        "                    opp_team_cache[opp_name] = opp_games\n",
        "                except Exception as e:\n",
        "                    print(f\"Error fetching data for {opp_name}: {e}\")\n",
        "                    opp_team_cache[opp_name] = pd.DataFrame()  # Handle errors gracefully\n",
        "            else:\n",
        "                opp_team_cache[opp_name] = pd.DataFrame()  # Handle missing teams\n",
        "\n",
        "        opp_team_games = opp_team_cache[opp_name]\n",
        "\n",
        "        if not opp_team_games.empty:\n",
        "            opp_team_games['GAME_DATE'] = pd.to_datetime(opp_team_games['GAME_DATE'], errors='coerce')\n",
        "            opp_team_games = opp_team_games[opp_team_games['GAME_DATE'] < game_date]\n",
        "\n",
        "            opp_team_games = calc_possesions(opp_team_games, \"opp_possessions\")\n",
        "\n",
        "            opp_team_games['GAME_MINUTES'] = 48  # Assume each game is 48 minutes\n",
        "            opp_team_games['CUMULATIVE_OPP_POSSESSIONS'] = opp_team_games['opp_possessions'].cumsum()\n",
        "            opp_team_games['CUMULATIVE_GAME_MINUTES'] = opp_team_games['GAME_MINUTES'].cumsum()\n",
        "\n",
        "            if not opp_team_games.empty:\n",
        "                avg_pace = (\n",
        "                    opp_team_games['CUMULATIVE_OPP_POSSESSIONS'].iloc[-1] *\n",
        "                    48 /\n",
        "                    opp_team_games['CUMULATIVE_GAME_MINUTES'].iloc[-1]\n",
        "                )\n",
        "            else:\n",
        "                avg_pace = None\n",
        "        else:\n",
        "            avg_pace = None\n",
        "\n",
        "        all_team_paces.append({\n",
        "            'GAME_ID': row['GAME_ID'],\n",
        "            'GAME_DATE_player': row['GAME_DATE_player'],\n",
        "            'Opp_Team': row['full_opp_name'],\n",
        "            'Opponent_Pace': avg_pace\n",
        "        })\n",
        "\n",
        "    return pd.DataFrame(all_team_paces)"
      ],
      "metadata": {
        "id": "NzQshI0Jjsxi"
      },
      "execution_count": 31,
      "outputs": []
    },
    {
      "cell_type": "code",
      "source": [
        "nba_teams = {\n",
        "    \"ATL\": \"Atlanta Hawks\",\n",
        "    \"BOS\": \"Boston Celtics\",\n",
        "    \"BKN\": \"Brooklyn Nets\",\n",
        "    \"CHA\": \"Charlotte Hornets\",\n",
        "    \"CHI\": \"Chicago Bulls\",\n",
        "    \"CLE\": \"Cleveland Cavaliers\",\n",
        "    \"DAL\": \"Dallas Mavericks\",\n",
        "    \"DEN\": \"Denver Nuggets\",\n",
        "    \"DET\": \"Detroit Pistons\",\n",
        "    \"GSW\": \"Golden State Warriors\",\n",
        "    \"HOU\": \"Houston Rockets\",\n",
        "    \"IND\": \"Indiana Pacers\",\n",
        "    \"LAC\": \"Los Angeles Clippers\",\n",
        "    \"LAL\": \"Los Angeles Lakers\",\n",
        "    \"MEM\": \"Memphis Grizzlies\",\n",
        "    \"MIA\": \"Miami Heat\",\n",
        "    \"MIL\": \"Milwaukee Bucks\",\n",
        "    \"MIN\": \"Minnesota Timberwolves\",\n",
        "    \"NOP\": \"New Orleans Pelicans\",\n",
        "    \"NYK\": \"New York Knicks\",\n",
        "    \"OKC\": \"Oklahoma City Thunder\",\n",
        "    \"ORL\": \"Orlando Magic\",\n",
        "    \"PHI\": \"Philadelphia 76ers\",\n",
        "    \"PHX\": \"Phoenix Suns\",\n",
        "    \"POR\": \"Portland Trail Blazers\",\n",
        "    \"SAC\": \"Sacramento Kings\",\n",
        "    \"SAS\": \"San Antonio Spurs\",\n",
        "    \"TOR\": \"Toronto Raptors\",\n",
        "    \"UTA\": \"Utah Jazz\",\n",
        "    \"WAS\": \"Washington Wizards\"\n",
        "}"
      ],
      "metadata": {
        "id": "CdZaLOALD_Qv"
      },
      "execution_count": 32,
      "outputs": []
    },
    {
      "cell_type": "code",
      "source": [
        "in_player = input(\"What player do you want to bet on? \")\n",
        "players_team = input(\"What team does your player play for? \")\n",
        "opp_team = input(\"What team is your player playing? \")\n",
        "bet_type = input(\"ast, reb, pts? \")"
      ],
      "metadata": {
        "colab": {
          "base_uri": "https://localhost:8080/"
        },
        "id": "eFv-tUj3EOEG",
        "outputId": "fc80f6ae-4163-4a40-b8d2-d1469eeb3b64"
      },
      "execution_count": 33,
      "outputs": [
        {
          "name": "stdout",
          "output_type": "stream",
          "text": [
            "What player do you want to bet on? Luka Dončić\n",
            "What team does your player play for? Dallas Mavericks\n",
            "What team is your player playing? Detroit Pistons\n",
            "ast, reb, pts? pts\n"
          ]
        }
      ]
    },
    {
      "cell_type": "code",
      "source": [
        "response = requests.get(\"https://stats.nba.com/some_endpoint\", timeout=60)"
      ],
      "metadata": {
        "id": "lInjvqEOLa1b"
      },
      "execution_count": 34,
      "outputs": []
    },
    {
      "cell_type": "code",
      "source": [
        "player_df = get_player(in_player)"
      ],
      "metadata": {
        "id": "aLla-IMOLmIA"
      },
      "execution_count": 35,
      "outputs": []
    },
    {
      "cell_type": "code",
      "source": [
        "players_team_df = get_team(players_team)"
      ],
      "metadata": {
        "id": "j3M8m7CdLwdd"
      },
      "execution_count": 36,
      "outputs": []
    },
    {
      "cell_type": "code",
      "source": [
        "opp_team_df = get_team(opp_team)"
      ],
      "metadata": {
        "id": "ASe95HM1Lyyz"
      },
      "execution_count": 37,
      "outputs": []
    },
    {
      "cell_type": "code",
      "source": [
        "players_team_df = players_team_df.rename(columns=lambda col: f\"{col}_team\")\n",
        "players_full_stat = pd.merge(player_df, players_team_df, left_on='GAME_ID', right_index=True, how='inner')"
      ],
      "metadata": {
        "id": "E3qadfG5K9Zx"
      },
      "execution_count": 38,
      "outputs": []
    },
    {
      "cell_type": "code",
      "source": [
        "players_full_stat = calc_usage_pace_offensive_rating(players_full_stat)\n",
        "\n",
        "opp_team_df['full_opp_name'] = [\n",
        "            nba_teams[team] if team in nba_teams else \"Unknown Team\"\n",
        "            for team in opp_team_df[\"OPP\"]\n",
        "]"
      ],
      "metadata": {
        "id": "uLPLJ36ULEQU"
      },
      "execution_count": 39,
      "outputs": []
    },
    {
      "cell_type": "code",
      "source": [
        "opp_team_df_def = calculate_defensive_rating_up_to_game(opp_team_df)"
      ],
      "metadata": {
        "collapsed": true,
        "id": "IgeDAgFYMT5j"
      },
      "execution_count": 40,
      "outputs": []
    },
    {
      "cell_type": "code",
      "source": [
        "opp_team_df = opp_team_df.reset_index(drop=True)\n",
        "opp_team_df_def = opp_team_df_def.reset_index(drop=True)\n",
        "\n",
        "opp_team_df = pd.merge(opp_team_df, opp_team_df_def, on='GAME_ID', how='inner')"
      ],
      "metadata": {
        "id": "X-yagLg_L66-"
      },
      "execution_count": 41,
      "outputs": []
    },
    {
      "cell_type": "code",
      "source": [
        "opp_team_df_pace = calculate_opponent_pace_up_to_game(opp_team_df)\n",
        "opp_team_df = pd.merge(opp_team_df, opp_team_df_pace, on='GAME_ID', how='inner')"
      ],
      "metadata": {
        "id": "Q2JM5oQWEViy"
      },
      "execution_count": 42,
      "outputs": []
    },
    {
      "cell_type": "code",
      "source": [
        "df = pd.read_csv(\"player_data_df.csv\")\n",
        "df.head()"
      ],
      "metadata": {
        "colab": {
          "base_uri": "https://localhost:8080/",
          "height": 342
        },
        "id": "UYWavqMG0ndo",
        "outputId": "7e3a6a3f-17f8-4537-9d29-8986c9a01e55"
      },
      "execution_count": 43,
      "outputs": [
        {
          "output_type": "execute_result",
          "data": {
            "text/plain": [
              "    GAME_ID GAME_DATE_player_x  WL_player  MIN_player  FGM_player  FGA_player  \\\n",
              "0  22400064         2024-10-23          1          37           4           9   \n",
              "1  22400079         2024-10-25          1          41           4          15   \n",
              "2  22400100         2024-10-27          0          29           3          13   \n",
              "3  22400103         2024-10-28          0          39          11          17   \n",
              "4  22400121         2024-10-30          0          40           9          21   \n",
              "\n",
              "   FG_PCT_player  FG3M_player  FG3A_player  FG3_PCT_player  ...  \\\n",
              "0          0.444            0            3           0.000  ...   \n",
              "1          0.267            1            4           0.250  ...   \n",
              "2          0.231            1            3           0.333  ...   \n",
              "3          0.647            1            3           0.333  ...   \n",
              "4          0.429            1            5           0.200  ...   \n",
              "\n",
              "   Offensive_Rating  Cumulative_Offensive_Rating  team_possessions  \\\n",
              "0         62.785388                    62.785388            104.24   \n",
              "1         84.388186                    73.586787            103.72   \n",
              "2         43.750000                    63.641191            105.76   \n",
              "3        137.571157                    82.123683            106.84   \n",
              "4        103.960396                    86.491025            107.24   \n",
              "\n",
              "   team_off_rating  Cumulative_team_off_Rating   Team_Pace  \\\n",
              "0       115.118956                  115.118956  103.807469   \n",
              "1       120.516776                  117.817866  103.720000   \n",
              "2        98.335855                  111.323862  105.760000   \n",
              "3       111.381505                  111.338273  106.840000   \n",
              "4       111.898545                  111.450327  107.240000   \n",
              "\n",
              "   Cumulative_Team_Pace  Usage_Percentage    player_name      team_name  \n",
              "0            103.807469         17.766692  Jalen Johnson  Atlanta Hawks  \n",
              "1            103.763734         18.992442  Jalen Johnson  Atlanta Hawks  \n",
              "2            104.429156         17.776621  Jalen Johnson  Atlanta Hawks  \n",
              "3            105.031867         18.597251  Jalen Johnson  Atlanta Hawks  \n",
              "4            105.473494         19.707561  Jalen Johnson  Atlanta Hawks  \n",
              "\n",
              "[5 rows x 87 columns]"
            ],
            "text/html": [
              "\n",
              "  <div id=\"df-3310deb5-cdf5-4298-9e62-1ba8aae3d0d5\" class=\"colab-df-container\">\n",
              "    <div>\n",
              "<style scoped>\n",
              "    .dataframe tbody tr th:only-of-type {\n",
              "        vertical-align: middle;\n",
              "    }\n",
              "\n",
              "    .dataframe tbody tr th {\n",
              "        vertical-align: top;\n",
              "    }\n",
              "\n",
              "    .dataframe thead th {\n",
              "        text-align: right;\n",
              "    }\n",
              "</style>\n",
              "<table border=\"1\" class=\"dataframe\">\n",
              "  <thead>\n",
              "    <tr style=\"text-align: right;\">\n",
              "      <th></th>\n",
              "      <th>GAME_ID</th>\n",
              "      <th>GAME_DATE_player_x</th>\n",
              "      <th>WL_player</th>\n",
              "      <th>MIN_player</th>\n",
              "      <th>FGM_player</th>\n",
              "      <th>FGA_player</th>\n",
              "      <th>FG_PCT_player</th>\n",
              "      <th>FG3M_player</th>\n",
              "      <th>FG3A_player</th>\n",
              "      <th>FG3_PCT_player</th>\n",
              "      <th>...</th>\n",
              "      <th>Offensive_Rating</th>\n",
              "      <th>Cumulative_Offensive_Rating</th>\n",
              "      <th>team_possessions</th>\n",
              "      <th>team_off_rating</th>\n",
              "      <th>Cumulative_team_off_Rating</th>\n",
              "      <th>Team_Pace</th>\n",
              "      <th>Cumulative_Team_Pace</th>\n",
              "      <th>Usage_Percentage</th>\n",
              "      <th>player_name</th>\n",
              "      <th>team_name</th>\n",
              "    </tr>\n",
              "  </thead>\n",
              "  <tbody>\n",
              "    <tr>\n",
              "      <th>0</th>\n",
              "      <td>22400064</td>\n",
              "      <td>2024-10-23</td>\n",
              "      <td>1</td>\n",
              "      <td>37</td>\n",
              "      <td>4</td>\n",
              "      <td>9</td>\n",
              "      <td>0.444</td>\n",
              "      <td>0</td>\n",
              "      <td>3</td>\n",
              "      <td>0.000</td>\n",
              "      <td>...</td>\n",
              "      <td>62.785388</td>\n",
              "      <td>62.785388</td>\n",
              "      <td>104.24</td>\n",
              "      <td>115.118956</td>\n",
              "      <td>115.118956</td>\n",
              "      <td>103.807469</td>\n",
              "      <td>103.807469</td>\n",
              "      <td>17.766692</td>\n",
              "      <td>Jalen Johnson</td>\n",
              "      <td>Atlanta Hawks</td>\n",
              "    </tr>\n",
              "    <tr>\n",
              "      <th>1</th>\n",
              "      <td>22400079</td>\n",
              "      <td>2024-10-25</td>\n",
              "      <td>1</td>\n",
              "      <td>41</td>\n",
              "      <td>4</td>\n",
              "      <td>15</td>\n",
              "      <td>0.267</td>\n",
              "      <td>1</td>\n",
              "      <td>4</td>\n",
              "      <td>0.250</td>\n",
              "      <td>...</td>\n",
              "      <td>84.388186</td>\n",
              "      <td>73.586787</td>\n",
              "      <td>103.72</td>\n",
              "      <td>120.516776</td>\n",
              "      <td>117.817866</td>\n",
              "      <td>103.720000</td>\n",
              "      <td>103.763734</td>\n",
              "      <td>18.992442</td>\n",
              "      <td>Jalen Johnson</td>\n",
              "      <td>Atlanta Hawks</td>\n",
              "    </tr>\n",
              "    <tr>\n",
              "      <th>2</th>\n",
              "      <td>22400100</td>\n",
              "      <td>2024-10-27</td>\n",
              "      <td>0</td>\n",
              "      <td>29</td>\n",
              "      <td>3</td>\n",
              "      <td>13</td>\n",
              "      <td>0.231</td>\n",
              "      <td>1</td>\n",
              "      <td>3</td>\n",
              "      <td>0.333</td>\n",
              "      <td>...</td>\n",
              "      <td>43.750000</td>\n",
              "      <td>63.641191</td>\n",
              "      <td>105.76</td>\n",
              "      <td>98.335855</td>\n",
              "      <td>111.323862</td>\n",
              "      <td>105.760000</td>\n",
              "      <td>104.429156</td>\n",
              "      <td>17.776621</td>\n",
              "      <td>Jalen Johnson</td>\n",
              "      <td>Atlanta Hawks</td>\n",
              "    </tr>\n",
              "    <tr>\n",
              "      <th>3</th>\n",
              "      <td>22400103</td>\n",
              "      <td>2024-10-28</td>\n",
              "      <td>0</td>\n",
              "      <td>39</td>\n",
              "      <td>11</td>\n",
              "      <td>17</td>\n",
              "      <td>0.647</td>\n",
              "      <td>1</td>\n",
              "      <td>3</td>\n",
              "      <td>0.333</td>\n",
              "      <td>...</td>\n",
              "      <td>137.571157</td>\n",
              "      <td>82.123683</td>\n",
              "      <td>106.84</td>\n",
              "      <td>111.381505</td>\n",
              "      <td>111.338273</td>\n",
              "      <td>106.840000</td>\n",
              "      <td>105.031867</td>\n",
              "      <td>18.597251</td>\n",
              "      <td>Jalen Johnson</td>\n",
              "      <td>Atlanta Hawks</td>\n",
              "    </tr>\n",
              "    <tr>\n",
              "      <th>4</th>\n",
              "      <td>22400121</td>\n",
              "      <td>2024-10-30</td>\n",
              "      <td>0</td>\n",
              "      <td>40</td>\n",
              "      <td>9</td>\n",
              "      <td>21</td>\n",
              "      <td>0.429</td>\n",
              "      <td>1</td>\n",
              "      <td>5</td>\n",
              "      <td>0.200</td>\n",
              "      <td>...</td>\n",
              "      <td>103.960396</td>\n",
              "      <td>86.491025</td>\n",
              "      <td>107.24</td>\n",
              "      <td>111.898545</td>\n",
              "      <td>111.450327</td>\n",
              "      <td>107.240000</td>\n",
              "      <td>105.473494</td>\n",
              "      <td>19.707561</td>\n",
              "      <td>Jalen Johnson</td>\n",
              "      <td>Atlanta Hawks</td>\n",
              "    </tr>\n",
              "  </tbody>\n",
              "</table>\n",
              "<p>5 rows × 87 columns</p>\n",
              "</div>\n",
              "    <div class=\"colab-df-buttons\">\n",
              "\n",
              "  <div class=\"colab-df-container\">\n",
              "    <button class=\"colab-df-convert\" onclick=\"convertToInteractive('df-3310deb5-cdf5-4298-9e62-1ba8aae3d0d5')\"\n",
              "            title=\"Convert this dataframe to an interactive table.\"\n",
              "            style=\"display:none;\">\n",
              "\n",
              "  <svg xmlns=\"http://www.w3.org/2000/svg\" height=\"24px\" viewBox=\"0 -960 960 960\">\n",
              "    <path d=\"M120-120v-720h720v720H120Zm60-500h600v-160H180v160Zm220 220h160v-160H400v160Zm0 220h160v-160H400v160ZM180-400h160v-160H180v160Zm440 0h160v-160H620v160ZM180-180h160v-160H180v160Zm440 0h160v-160H620v160Z\"/>\n",
              "  </svg>\n",
              "    </button>\n",
              "\n",
              "  <style>\n",
              "    .colab-df-container {\n",
              "      display:flex;\n",
              "      gap: 12px;\n",
              "    }\n",
              "\n",
              "    .colab-df-convert {\n",
              "      background-color: #E8F0FE;\n",
              "      border: none;\n",
              "      border-radius: 50%;\n",
              "      cursor: pointer;\n",
              "      display: none;\n",
              "      fill: #1967D2;\n",
              "      height: 32px;\n",
              "      padding: 0 0 0 0;\n",
              "      width: 32px;\n",
              "    }\n",
              "\n",
              "    .colab-df-convert:hover {\n",
              "      background-color: #E2EBFA;\n",
              "      box-shadow: 0px 1px 2px rgba(60, 64, 67, 0.3), 0px 1px 3px 1px rgba(60, 64, 67, 0.15);\n",
              "      fill: #174EA6;\n",
              "    }\n",
              "\n",
              "    .colab-df-buttons div {\n",
              "      margin-bottom: 4px;\n",
              "    }\n",
              "\n",
              "    [theme=dark] .colab-df-convert {\n",
              "      background-color: #3B4455;\n",
              "      fill: #D2E3FC;\n",
              "    }\n",
              "\n",
              "    [theme=dark] .colab-df-convert:hover {\n",
              "      background-color: #434B5C;\n",
              "      box-shadow: 0px 1px 3px 1px rgba(0, 0, 0, 0.15);\n",
              "      filter: drop-shadow(0px 1px 2px rgba(0, 0, 0, 0.3));\n",
              "      fill: #FFFFFF;\n",
              "    }\n",
              "  </style>\n",
              "\n",
              "    <script>\n",
              "      const buttonEl =\n",
              "        document.querySelector('#df-3310deb5-cdf5-4298-9e62-1ba8aae3d0d5 button.colab-df-convert');\n",
              "      buttonEl.style.display =\n",
              "        google.colab.kernel.accessAllowed ? 'block' : 'none';\n",
              "\n",
              "      async function convertToInteractive(key) {\n",
              "        const element = document.querySelector('#df-3310deb5-cdf5-4298-9e62-1ba8aae3d0d5');\n",
              "        const dataTable =\n",
              "          await google.colab.kernel.invokeFunction('convertToInteractive',\n",
              "                                                    [key], {});\n",
              "        if (!dataTable) return;\n",
              "\n",
              "        const docLinkHtml = 'Like what you see? Visit the ' +\n",
              "          '<a target=\"_blank\" href=https://colab.research.google.com/notebooks/data_table.ipynb>data table notebook</a>'\n",
              "          + ' to learn more about interactive tables.';\n",
              "        element.innerHTML = '';\n",
              "        dataTable['output_type'] = 'display_data';\n",
              "        await google.colab.output.renderOutput(dataTable, element);\n",
              "        const docLink = document.createElement('div');\n",
              "        docLink.innerHTML = docLinkHtml;\n",
              "        element.appendChild(docLink);\n",
              "      }\n",
              "    </script>\n",
              "  </div>\n",
              "\n",
              "\n",
              "<div id=\"df-4bcec381-0921-4fb7-b62b-57dda01fe50a\">\n",
              "  <button class=\"colab-df-quickchart\" onclick=\"quickchart('df-4bcec381-0921-4fb7-b62b-57dda01fe50a')\"\n",
              "            title=\"Suggest charts\"\n",
              "            style=\"display:none;\">\n",
              "\n",
              "<svg xmlns=\"http://www.w3.org/2000/svg\" height=\"24px\"viewBox=\"0 0 24 24\"\n",
              "     width=\"24px\">\n",
              "    <g>\n",
              "        <path d=\"M19 3H5c-1.1 0-2 .9-2 2v14c0 1.1.9 2 2 2h14c1.1 0 2-.9 2-2V5c0-1.1-.9-2-2-2zM9 17H7v-7h2v7zm4 0h-2V7h2v10zm4 0h-2v-4h2v4z\"/>\n",
              "    </g>\n",
              "</svg>\n",
              "  </button>\n",
              "\n",
              "<style>\n",
              "  .colab-df-quickchart {\n",
              "      --bg-color: #E8F0FE;\n",
              "      --fill-color: #1967D2;\n",
              "      --hover-bg-color: #E2EBFA;\n",
              "      --hover-fill-color: #174EA6;\n",
              "      --disabled-fill-color: #AAA;\n",
              "      --disabled-bg-color: #DDD;\n",
              "  }\n",
              "\n",
              "  [theme=dark] .colab-df-quickchart {\n",
              "      --bg-color: #3B4455;\n",
              "      --fill-color: #D2E3FC;\n",
              "      --hover-bg-color: #434B5C;\n",
              "      --hover-fill-color: #FFFFFF;\n",
              "      --disabled-bg-color: #3B4455;\n",
              "      --disabled-fill-color: #666;\n",
              "  }\n",
              "\n",
              "  .colab-df-quickchart {\n",
              "    background-color: var(--bg-color);\n",
              "    border: none;\n",
              "    border-radius: 50%;\n",
              "    cursor: pointer;\n",
              "    display: none;\n",
              "    fill: var(--fill-color);\n",
              "    height: 32px;\n",
              "    padding: 0;\n",
              "    width: 32px;\n",
              "  }\n",
              "\n",
              "  .colab-df-quickchart:hover {\n",
              "    background-color: var(--hover-bg-color);\n",
              "    box-shadow: 0 1px 2px rgba(60, 64, 67, 0.3), 0 1px 3px 1px rgba(60, 64, 67, 0.15);\n",
              "    fill: var(--button-hover-fill-color);\n",
              "  }\n",
              "\n",
              "  .colab-df-quickchart-complete:disabled,\n",
              "  .colab-df-quickchart-complete:disabled:hover {\n",
              "    background-color: var(--disabled-bg-color);\n",
              "    fill: var(--disabled-fill-color);\n",
              "    box-shadow: none;\n",
              "  }\n",
              "\n",
              "  .colab-df-spinner {\n",
              "    border: 2px solid var(--fill-color);\n",
              "    border-color: transparent;\n",
              "    border-bottom-color: var(--fill-color);\n",
              "    animation:\n",
              "      spin 1s steps(1) infinite;\n",
              "  }\n",
              "\n",
              "  @keyframes spin {\n",
              "    0% {\n",
              "      border-color: transparent;\n",
              "      border-bottom-color: var(--fill-color);\n",
              "      border-left-color: var(--fill-color);\n",
              "    }\n",
              "    20% {\n",
              "      border-color: transparent;\n",
              "      border-left-color: var(--fill-color);\n",
              "      border-top-color: var(--fill-color);\n",
              "    }\n",
              "    30% {\n",
              "      border-color: transparent;\n",
              "      border-left-color: var(--fill-color);\n",
              "      border-top-color: var(--fill-color);\n",
              "      border-right-color: var(--fill-color);\n",
              "    }\n",
              "    40% {\n",
              "      border-color: transparent;\n",
              "      border-right-color: var(--fill-color);\n",
              "      border-top-color: var(--fill-color);\n",
              "    }\n",
              "    60% {\n",
              "      border-color: transparent;\n",
              "      border-right-color: var(--fill-color);\n",
              "    }\n",
              "    80% {\n",
              "      border-color: transparent;\n",
              "      border-right-color: var(--fill-color);\n",
              "      border-bottom-color: var(--fill-color);\n",
              "    }\n",
              "    90% {\n",
              "      border-color: transparent;\n",
              "      border-bottom-color: var(--fill-color);\n",
              "    }\n",
              "  }\n",
              "</style>\n",
              "\n",
              "  <script>\n",
              "    async function quickchart(key) {\n",
              "      const quickchartButtonEl =\n",
              "        document.querySelector('#' + key + ' button');\n",
              "      quickchartButtonEl.disabled = true;  // To prevent multiple clicks.\n",
              "      quickchartButtonEl.classList.add('colab-df-spinner');\n",
              "      try {\n",
              "        const charts = await google.colab.kernel.invokeFunction(\n",
              "            'suggestCharts', [key], {});\n",
              "      } catch (error) {\n",
              "        console.error('Error during call to suggestCharts:', error);\n",
              "      }\n",
              "      quickchartButtonEl.classList.remove('colab-df-spinner');\n",
              "      quickchartButtonEl.classList.add('colab-df-quickchart-complete');\n",
              "    }\n",
              "    (() => {\n",
              "      let quickchartButtonEl =\n",
              "        document.querySelector('#df-4bcec381-0921-4fb7-b62b-57dda01fe50a button');\n",
              "      quickchartButtonEl.style.display =\n",
              "        google.colab.kernel.accessAllowed ? 'block' : 'none';\n",
              "    })();\n",
              "  </script>\n",
              "</div>\n",
              "\n",
              "    </div>\n",
              "  </div>\n"
            ],
            "application/vnd.google.colaboratory.intrinsic+json": {
              "type": "dataframe",
              "variable_name": "df"
            }
          },
          "metadata": {},
          "execution_count": 43
        }
      ]
    },
    {
      "cell_type": "code",
      "source": [
        "opp_team_df[\"Defensive_Rating\"] = opp_team_df[\"Defensive_Rating\"].mean()\n",
        "opp_team_df[\"Opponent_Pace\"] = opp_team_df[\"Opponent_Pace\"].mean()\n",
        "opp_team_df = opp_team_df.iloc[[-1]]\n"
      ],
      "metadata": {
        "id": "l4TdRf3hFKcg"
      },
      "execution_count": 44,
      "outputs": []
    },
    {
      "cell_type": "code",
      "source": [
        "players_full_stat = players_full_stat.iloc[[-1]]"
      ],
      "metadata": {
        "id": "vZ8QdvUWE4VS"
      },
      "execution_count": 45,
      "outputs": []
    },
    {
      "cell_type": "code",
      "source": [
        "print(opp_team_df)\n",
        "print(players_full_stat)"
      ],
      "metadata": {
        "colab": {
          "base_uri": "https://localhost:8080/"
        },
        "id": "QohSf2TiFZAY",
        "outputId": "32ce85f6-56bc-41d5-abe0-90be310c9012"
      },
      "execution_count": 46,
      "outputs": [
        {
          "output_type": "stream",
          "name": "stdout",
          "text": [
            "       GAME_ID  GAME_DATE  WL  MIN  PTS  FGM  FGA  FG_PCT  FG3M  FG3A  ...  \\\n",
            "51  0022401221 2024-12-16   1  265  125   44   90   0.489    20    40  ...   \n",
            "\n",
            "    Home  OPP  Team_possesions  full_opp_name  GAME_DATE_player_x  Opp_Team_x  \\\n",
            "51     1  MIA           114.12     Miami Heat          2024-12-16  Miami Heat   \n",
            "\n",
            "    Defensive_Rating  GAME_DATE_player_y  Opp_Team_y  Opponent_Pace  \n",
            "51        104.955411          2024-12-16  Miami Heat      97.238129  \n",
            "\n",
            "[1 rows x 33 columns]\n",
            "   GAME_DATE  WL  MIN  FGM  FGA  FG_PCT  FG3M  FG3A  FG3_PCT  FTM  ...  \\\n",
            "0 2024-12-25   0   16    5    9   0.556     3     5      0.6    1  ...   \n",
            "\n",
            "   Team_possesions_team  Player_possessions  Offensive_Rating  \\\n",
            "0                 92.84               11.44        122.377622   \n",
            "\n",
            "   Cumulative_Offensive_Rating  team_possessions  team_off_rating  \\\n",
            "0                   104.953293             92.84       106.635071   \n",
            "\n",
            "   Cumulative_team_off_Rating  Team_Pace  Cumulative_Team_Pace  \\\n",
            "0                  117.327638      92.84            101.298485   \n",
            "\n",
            "   Usage_Percentage  \n",
            "0         29.688832  \n",
            "\n",
            "[1 rows x 77 columns]\n"
          ]
        }
      ]
    },
    {
      "cell_type": "code",
      "source": [
        "opp_team_df = opp_team_df.reset_index(drop=True)\n",
        "important_player = players_full_stat.reset_index(drop=True)\n",
        "\n",
        "test_player = pd.concat([opp_team_df, players_full_stat], axis=1)\n",
        "test_player = pd.DataFrame(test_player)"
      ],
      "metadata": {
        "id": "om6MnXB6FuZl"
      },
      "execution_count": 47,
      "outputs": []
    },
    {
      "cell_type": "code",
      "source": [
        "print(df.columns.tolist())"
      ],
      "metadata": {
        "colab": {
          "base_uri": "https://localhost:8080/"
        },
        "id": "NlveduUH04WQ",
        "outputId": "60335cd9-7775-4d41-a380-7aad02e7ac5d"
      },
      "execution_count": 48,
      "outputs": [
        {
          "output_type": "stream",
          "name": "stdout",
          "text": [
            "['GAME_ID', 'GAME_DATE_player_x', 'WL_player', 'MIN_player', 'FGM_player', 'FGA_player', 'FG_PCT_player', 'FG3M_player', 'FG3A_player', 'FG3_PCT_player', 'FTM_player', 'FTA_player', 'FT_PCT_player', 'OREB_player', 'DREB_player', 'REB_player', 'AST_player', 'STL_player', 'BLK_player', 'TOV_player', 'PF_player', 'PTS_player', 'PLUS_MINUS_player', 'PER_score', 'PCT_score', 'AST_ratio', 'Home_player', 'OPP_player', 'OPP_encoded', 'Home_Average_PTS', 'Away_Average_PTS', 'Home_Average_REB', 'Away_Average_REB', 'Home_Average_AST', 'Away_Average_AST', 'Avg_points_last_3', 'Avg_points_last_5', 'Avg_points_last_7', 'Avg_Assists_last_3', 'Avg_Assists_last_5', 'Avg_Assists_last_7', 'Avg_Rebounds_last_3', 'Avg_Rebounds_last_5', 'Avg_Rebounds_last_7', 'GAME_ID_player', 'GAME_ID_team', 'GAME_DATE_team', 'WL_team', 'MIN_team', 'PTS_team', 'FGM_team', 'FGA_team', 'FG_PCT_team', 'FG3M_team', 'FG3A_team', 'FG3_PCT_team', 'FTM_team', 'FTA_team', 'FT_PCT_team', 'OREB_team', 'DREB_team', 'REB_team', 'AST_team', 'STL_team', 'BLK_team', 'TOV_team', 'PF_team', 'PLUS_MINUS_team', 'Home_team', 'OPP_team', 'Team_possesions', 'full_opp_name', 'Defensive_Rating', 'GAME_DATE_player_y', 'Opp_Team', 'Opponent_Pace', 'Player_possessions', 'Offensive_Rating', 'Cumulative_Offensive_Rating', 'team_possessions', 'team_off_rating', 'Cumulative_team_off_Rating', 'Team_Pace', 'Cumulative_Team_Pace', 'Usage_Percentage', 'player_name', 'team_name']\n"
          ]
        }
      ]
    },
    {
      "cell_type": "code",
      "source": [
        "#bet_type = \"pts\"\n",
        "\n",
        "if bet_type.lower() == \"pts\":\n",
        "  features = [\n",
        "    'Avg_points_last_3', 'Avg_points_last_5', 'Avg_points_last_7', 'Usage_Percentage',\n",
        "    'Home_Average_PTS', 'Away_Average_PTS', 'PCT_score', 'Defensive_Rating', 'Opponent_Pace', 'Cumulative_Offensive_Rating',\n",
        "    'Cumulative_team_off_Rating']\n",
        "elif bet_type.lower() == \"reb\":\n",
        "  features = [\n",
        "    'Avg_Rebounds_last_3', 'Avg_Rebounds_last_5', 'Avg_Rebounds_last_7', 'Usage_Percentage',\n",
        "    'Home_Average_REB', 'Away_Average_REB', 'PCT_score', 'Defensive_Rating', 'Opponent_Pace', 'Cumulative_Offensive_Rating',\n",
        "    'Cumulative_team_off_Rating']\n",
        "elif bet_type.lower() == \"ast\":\n",
        "  features = [\n",
        "    'Avg_Assists_last_3', 'Avg_Assists_last_5', 'Avg_Assists_last_7', 'Usage_Percentage',\n",
        "    'Home_Average_AST', 'Away_Average_AST', 'PCT_score', 'Defensive_Rating', 'Opponent_Pace', 'Cumulative_Offensive_Rating',\n",
        "    'Cumulative_team_off_Rating']\n",
        "else:\n",
        "  print(\"invalid input!!!\")"
      ],
      "metadata": {
        "id": "PeS1vJaY1NqY"
      },
      "execution_count": 49,
      "outputs": []
    },
    {
      "cell_type": "code",
      "source": [
        "# PTS_player\n",
        "\n",
        "X = df[features]\n",
        "if bet_type.lower() == \"pts\":\n",
        "  y = df['PTS_player']\n",
        "elif bet_type.lower() == \"reb\":\n",
        "  y = df['REB_player']\n",
        "elif bet_type.lower() == \"ast\":\n",
        "  y = df['AST_player']\n",
        "\n",
        "#y = df['PTS_player'] # make sure to change this (elif statment)\n",
        "\n",
        "X_train, X_test, y_train, y_test = train_test_split(X, y, test_size=.2, random_state=19)"
      ],
      "metadata": {
        "id": "kpdHfnp637bf"
      },
      "execution_count": 50,
      "outputs": []
    },
    {
      "cell_type": "code",
      "source": [
        "X_train, X_test = normalizer(X_train, X_test, 7)"
      ],
      "metadata": {
        "id": "omL41YfE4K5E"
      },
      "execution_count": 51,
      "outputs": []
    },
    {
      "cell_type": "code",
      "source": [
        "test_player = test_player[features]"
      ],
      "metadata": {
        "id": "Zw66o5psG7ri"
      },
      "execution_count": 52,
      "outputs": []
    },
    {
      "cell_type": "code",
      "source": [
        "test_player"
      ],
      "metadata": {
        "colab": {
          "base_uri": "https://localhost:8080/",
          "height": 89
        },
        "id": "c9-bXAWnci0T",
        "outputId": "3bd07f57-6c23-4d66-b791-7bc0f8f36da2"
      },
      "execution_count": 53,
      "outputs": [
        {
          "output_type": "execute_result",
          "data": {
            "text/plain": [
              "   Avg_points_last_3  Avg_points_last_5  Avg_points_last_7  Usage_Percentage  \\\n",
              "0          28.666667               26.4          27.142857         29.688832   \n",
              "\n",
              "   Home_Average_PTS  Away_Average_PTS  PCT_score  Defensive_Rating  \\\n",
              "0             26.25              30.4   0.741525        104.955411   \n",
              "\n",
              "   Opponent_Pace  Cumulative_Offensive_Rating  Cumulative_team_off_Rating  \n",
              "0      97.238129                   104.953293                  117.327638  "
            ],
            "text/html": [
              "\n",
              "  <div id=\"df-11b2766c-728e-4102-8e18-1125c0c6f7b8\" class=\"colab-df-container\">\n",
              "    <div>\n",
              "<style scoped>\n",
              "    .dataframe tbody tr th:only-of-type {\n",
              "        vertical-align: middle;\n",
              "    }\n",
              "\n",
              "    .dataframe tbody tr th {\n",
              "        vertical-align: top;\n",
              "    }\n",
              "\n",
              "    .dataframe thead th {\n",
              "        text-align: right;\n",
              "    }\n",
              "</style>\n",
              "<table border=\"1\" class=\"dataframe\">\n",
              "  <thead>\n",
              "    <tr style=\"text-align: right;\">\n",
              "      <th></th>\n",
              "      <th>Avg_points_last_3</th>\n",
              "      <th>Avg_points_last_5</th>\n",
              "      <th>Avg_points_last_7</th>\n",
              "      <th>Usage_Percentage</th>\n",
              "      <th>Home_Average_PTS</th>\n",
              "      <th>Away_Average_PTS</th>\n",
              "      <th>PCT_score</th>\n",
              "      <th>Defensive_Rating</th>\n",
              "      <th>Opponent_Pace</th>\n",
              "      <th>Cumulative_Offensive_Rating</th>\n",
              "      <th>Cumulative_team_off_Rating</th>\n",
              "    </tr>\n",
              "  </thead>\n",
              "  <tbody>\n",
              "    <tr>\n",
              "      <th>0</th>\n",
              "      <td>28.666667</td>\n",
              "      <td>26.4</td>\n",
              "      <td>27.142857</td>\n",
              "      <td>29.688832</td>\n",
              "      <td>26.25</td>\n",
              "      <td>30.4</td>\n",
              "      <td>0.741525</td>\n",
              "      <td>104.955411</td>\n",
              "      <td>97.238129</td>\n",
              "      <td>104.953293</td>\n",
              "      <td>117.327638</td>\n",
              "    </tr>\n",
              "  </tbody>\n",
              "</table>\n",
              "</div>\n",
              "    <div class=\"colab-df-buttons\">\n",
              "\n",
              "  <div class=\"colab-df-container\">\n",
              "    <button class=\"colab-df-convert\" onclick=\"convertToInteractive('df-11b2766c-728e-4102-8e18-1125c0c6f7b8')\"\n",
              "            title=\"Convert this dataframe to an interactive table.\"\n",
              "            style=\"display:none;\">\n",
              "\n",
              "  <svg xmlns=\"http://www.w3.org/2000/svg\" height=\"24px\" viewBox=\"0 -960 960 960\">\n",
              "    <path d=\"M120-120v-720h720v720H120Zm60-500h600v-160H180v160Zm220 220h160v-160H400v160Zm0 220h160v-160H400v160ZM180-400h160v-160H180v160Zm440 0h160v-160H620v160ZM180-180h160v-160H180v160Zm440 0h160v-160H620v160Z\"/>\n",
              "  </svg>\n",
              "    </button>\n",
              "\n",
              "  <style>\n",
              "    .colab-df-container {\n",
              "      display:flex;\n",
              "      gap: 12px;\n",
              "    }\n",
              "\n",
              "    .colab-df-convert {\n",
              "      background-color: #E8F0FE;\n",
              "      border: none;\n",
              "      border-radius: 50%;\n",
              "      cursor: pointer;\n",
              "      display: none;\n",
              "      fill: #1967D2;\n",
              "      height: 32px;\n",
              "      padding: 0 0 0 0;\n",
              "      width: 32px;\n",
              "    }\n",
              "\n",
              "    .colab-df-convert:hover {\n",
              "      background-color: #E2EBFA;\n",
              "      box-shadow: 0px 1px 2px rgba(60, 64, 67, 0.3), 0px 1px 3px 1px rgba(60, 64, 67, 0.15);\n",
              "      fill: #174EA6;\n",
              "    }\n",
              "\n",
              "    .colab-df-buttons div {\n",
              "      margin-bottom: 4px;\n",
              "    }\n",
              "\n",
              "    [theme=dark] .colab-df-convert {\n",
              "      background-color: #3B4455;\n",
              "      fill: #D2E3FC;\n",
              "    }\n",
              "\n",
              "    [theme=dark] .colab-df-convert:hover {\n",
              "      background-color: #434B5C;\n",
              "      box-shadow: 0px 1px 3px 1px rgba(0, 0, 0, 0.15);\n",
              "      filter: drop-shadow(0px 1px 2px rgba(0, 0, 0, 0.3));\n",
              "      fill: #FFFFFF;\n",
              "    }\n",
              "  </style>\n",
              "\n",
              "    <script>\n",
              "      const buttonEl =\n",
              "        document.querySelector('#df-11b2766c-728e-4102-8e18-1125c0c6f7b8 button.colab-df-convert');\n",
              "      buttonEl.style.display =\n",
              "        google.colab.kernel.accessAllowed ? 'block' : 'none';\n",
              "\n",
              "      async function convertToInteractive(key) {\n",
              "        const element = document.querySelector('#df-11b2766c-728e-4102-8e18-1125c0c6f7b8');\n",
              "        const dataTable =\n",
              "          await google.colab.kernel.invokeFunction('convertToInteractive',\n",
              "                                                    [key], {});\n",
              "        if (!dataTable) return;\n",
              "\n",
              "        const docLinkHtml = 'Like what you see? Visit the ' +\n",
              "          '<a target=\"_blank\" href=https://colab.research.google.com/notebooks/data_table.ipynb>data table notebook</a>'\n",
              "          + ' to learn more about interactive tables.';\n",
              "        element.innerHTML = '';\n",
              "        dataTable['output_type'] = 'display_data';\n",
              "        await google.colab.output.renderOutput(dataTable, element);\n",
              "        const docLink = document.createElement('div');\n",
              "        docLink.innerHTML = docLinkHtml;\n",
              "        element.appendChild(docLink);\n",
              "      }\n",
              "    </script>\n",
              "  </div>\n",
              "\n",
              "\n",
              "  <div id=\"id_dad5c701-be12-4b51-841c-c4a5974586a7\">\n",
              "    <style>\n",
              "      .colab-df-generate {\n",
              "        background-color: #E8F0FE;\n",
              "        border: none;\n",
              "        border-radius: 50%;\n",
              "        cursor: pointer;\n",
              "        display: none;\n",
              "        fill: #1967D2;\n",
              "        height: 32px;\n",
              "        padding: 0 0 0 0;\n",
              "        width: 32px;\n",
              "      }\n",
              "\n",
              "      .colab-df-generate:hover {\n",
              "        background-color: #E2EBFA;\n",
              "        box-shadow: 0px 1px 2px rgba(60, 64, 67, 0.3), 0px 1px 3px 1px rgba(60, 64, 67, 0.15);\n",
              "        fill: #174EA6;\n",
              "      }\n",
              "\n",
              "      [theme=dark] .colab-df-generate {\n",
              "        background-color: #3B4455;\n",
              "        fill: #D2E3FC;\n",
              "      }\n",
              "\n",
              "      [theme=dark] .colab-df-generate:hover {\n",
              "        background-color: #434B5C;\n",
              "        box-shadow: 0px 1px 3px 1px rgba(0, 0, 0, 0.15);\n",
              "        filter: drop-shadow(0px 1px 2px rgba(0, 0, 0, 0.3));\n",
              "        fill: #FFFFFF;\n",
              "      }\n",
              "    </style>\n",
              "    <button class=\"colab-df-generate\" onclick=\"generateWithVariable('test_player')\"\n",
              "            title=\"Generate code using this dataframe.\"\n",
              "            style=\"display:none;\">\n",
              "\n",
              "  <svg xmlns=\"http://www.w3.org/2000/svg\" height=\"24px\"viewBox=\"0 0 24 24\"\n",
              "       width=\"24px\">\n",
              "    <path d=\"M7,19H8.4L18.45,9,17,7.55,7,17.6ZM5,21V16.75L18.45,3.32a2,2,0,0,1,2.83,0l1.4,1.43a1.91,1.91,0,0,1,.58,1.4,1.91,1.91,0,0,1-.58,1.4L9.25,21ZM18.45,9,17,7.55Zm-12,3A5.31,5.31,0,0,0,4.9,8.1,5.31,5.31,0,0,0,1,6.5,5.31,5.31,0,0,0,4.9,4.9,5.31,5.31,0,0,0,6.5,1,5.31,5.31,0,0,0,8.1,4.9,5.31,5.31,0,0,0,12,6.5,5.46,5.46,0,0,0,6.5,12Z\"/>\n",
              "  </svg>\n",
              "    </button>\n",
              "    <script>\n",
              "      (() => {\n",
              "      const buttonEl =\n",
              "        document.querySelector('#id_dad5c701-be12-4b51-841c-c4a5974586a7 button.colab-df-generate');\n",
              "      buttonEl.style.display =\n",
              "        google.colab.kernel.accessAllowed ? 'block' : 'none';\n",
              "\n",
              "      buttonEl.onclick = () => {\n",
              "        google.colab.notebook.generateWithVariable('test_player');\n",
              "      }\n",
              "      })();\n",
              "    </script>\n",
              "  </div>\n",
              "\n",
              "    </div>\n",
              "  </div>\n"
            ],
            "application/vnd.google.colaboratory.intrinsic+json": {
              "type": "dataframe",
              "variable_name": "test_player",
              "summary": "{\n  \"name\": \"test_player\",\n  \"rows\": 1,\n  \"fields\": [\n    {\n      \"column\": \"Avg_points_last_3\",\n      \"properties\": {\n        \"dtype\": \"number\",\n        \"std\": null,\n        \"min\": 28.666666666666668,\n        \"max\": 28.666666666666668,\n        \"num_unique_values\": 1,\n        \"samples\": [\n          28.666666666666668\n        ],\n        \"semantic_type\": \"\",\n        \"description\": \"\"\n      }\n    },\n    {\n      \"column\": \"Avg_points_last_5\",\n      \"properties\": {\n        \"dtype\": \"number\",\n        \"std\": null,\n        \"min\": 26.4,\n        \"max\": 26.4,\n        \"num_unique_values\": 1,\n        \"samples\": [\n          26.4\n        ],\n        \"semantic_type\": \"\",\n        \"description\": \"\"\n      }\n    },\n    {\n      \"column\": \"Avg_points_last_7\",\n      \"properties\": {\n        \"dtype\": \"number\",\n        \"std\": null,\n        \"min\": 27.142857142857142,\n        \"max\": 27.142857142857142,\n        \"num_unique_values\": 1,\n        \"samples\": [\n          27.142857142857142\n        ],\n        \"semantic_type\": \"\",\n        \"description\": \"\"\n      }\n    },\n    {\n      \"column\": \"Usage_Percentage\",\n      \"properties\": {\n        \"dtype\": \"number\",\n        \"std\": null,\n        \"min\": 29.688832350774668,\n        \"max\": 29.688832350774668,\n        \"num_unique_values\": 1,\n        \"samples\": [\n          29.688832350774668\n        ],\n        \"semantic_type\": \"\",\n        \"description\": \"\"\n      }\n    },\n    {\n      \"column\": \"Home_Average_PTS\",\n      \"properties\": {\n        \"dtype\": \"number\",\n        \"std\": null,\n        \"min\": 26.25,\n        \"max\": 26.25,\n        \"num_unique_values\": 1,\n        \"samples\": [\n          26.25\n        ],\n        \"semantic_type\": \"\",\n        \"description\": \"\"\n      }\n    },\n    {\n      \"column\": \"Away_Average_PTS\",\n      \"properties\": {\n        \"dtype\": \"number\",\n        \"std\": null,\n        \"min\": 30.4,\n        \"max\": 30.4,\n        \"num_unique_values\": 1,\n        \"samples\": [\n          30.4\n        ],\n        \"semantic_type\": \"\",\n        \"description\": \"\"\n      }\n    },\n    {\n      \"column\": \"PCT_score\",\n      \"properties\": {\n        \"dtype\": \"number\",\n        \"std\": null,\n        \"min\": 0.7415254237288136,\n        \"max\": 0.7415254237288136,\n        \"num_unique_values\": 1,\n        \"samples\": [\n          0.7415254237288136\n        ],\n        \"semantic_type\": \"\",\n        \"description\": \"\"\n      }\n    },\n    {\n      \"column\": \"Defensive_Rating\",\n      \"properties\": {\n        \"dtype\": \"number\",\n        \"std\": null,\n        \"min\": 104.95541131038334,\n        \"max\": 104.95541131038334,\n        \"num_unique_values\": 1,\n        \"samples\": [\n          104.95541131038334\n        ],\n        \"semantic_type\": \"\",\n        \"description\": \"\"\n      }\n    },\n    {\n      \"column\": \"Opponent_Pace\",\n      \"properties\": {\n        \"dtype\": \"number\",\n        \"std\": null,\n        \"min\": 97.23812924754722,\n        \"max\": 97.23812924754722,\n        \"num_unique_values\": 1,\n        \"samples\": [\n          97.23812924754722\n        ],\n        \"semantic_type\": \"\",\n        \"description\": \"\"\n      }\n    },\n    {\n      \"column\": \"Cumulative_Offensive_Rating\",\n      \"properties\": {\n        \"dtype\": \"number\",\n        \"std\": null,\n        \"min\": 104.95329271979794,\n        \"max\": 104.95329271979794,\n        \"num_unique_values\": 1,\n        \"samples\": [\n          104.95329271979794\n        ],\n        \"semantic_type\": \"\",\n        \"description\": \"\"\n      }\n    },\n    {\n      \"column\": \"Cumulative_team_off_Rating\",\n      \"properties\": {\n        \"dtype\": \"number\",\n        \"std\": null,\n        \"min\": 117.32763769573035,\n        \"max\": 117.32763769573035,\n        \"num_unique_values\": 1,\n        \"samples\": [\n          117.32763769573035\n        ],\n        \"semantic_type\": \"\",\n        \"description\": \"\"\n      }\n    }\n  ]\n}"
            }
          },
          "metadata": {},
          "execution_count": 53
        }
      ]
    },
    {
      "cell_type": "markdown",
      "source": [
        "# Random Forest"
      ],
      "metadata": {
        "id": "_6xUEe4TX_fG"
      }
    },
    {
      "cell_type": "code",
      "source": [
        "model_RM = RandomForestRegressor(n_estimators=100, random_state=23)\n",
        "model_RM.fit(X_train, y_train)\n",
        "\n",
        "y_pred_RM = model_RM.predict(X_test)\n",
        "\n",
        "getMetrics(y_pred_RM, y_test)"
      ],
      "metadata": {
        "colab": {
          "base_uri": "https://localhost:8080/"
        },
        "id": "sSh8m4C-4otf",
        "outputId": "84c693bd-5aa3-48f8-d264-fb07b230bd34"
      },
      "execution_count": 54,
      "outputs": [
        {
          "output_type": "stream",
          "name": "stdout",
          "text": [
            "MSE:  11.587939744175424\n",
            "R2:  0.8482470188312489\n"
          ]
        }
      ]
    },
    {
      "cell_type": "code",
      "source": [
        "importance = pd.DataFrame({\"Feature\": X.columns, \"Importance\": model_RM.feature_importances_})\n",
        "importance.sort_values(by=\"Importance\", ascending=False, inplace=True)\n",
        "print(importance)"
      ],
      "metadata": {
        "colab": {
          "base_uri": "https://localhost:8080/"
        },
        "id": "es1VHtMWBYRY",
        "outputId": "306a83f5-65cb-49e6-b78c-aa5e7e76332a"
      },
      "execution_count": 55,
      "outputs": [
        {
          "output_type": "stream",
          "name": "stdout",
          "text": [
            "                        Feature  Importance\n",
            "0             Avg_points_last_3    0.621670\n",
            "6                     PCT_score    0.214709\n",
            "3              Usage_Percentage    0.053521\n",
            "9   Cumulative_Offensive_Rating    0.017503\n",
            "1             Avg_points_last_5    0.014520\n",
            "8                 Opponent_Pace    0.014458\n",
            "2             Avg_points_last_7    0.013732\n",
            "7              Defensive_Rating    0.013394\n",
            "10   Cumulative_team_off_Rating    0.013337\n",
            "5              Away_Average_PTS    0.011795\n",
            "4              Home_Average_PTS    0.011361\n"
          ]
        }
      ]
    },
    {
      "cell_type": "code",
      "source": [
        "y_pred_test_RM = model_RM.predict(test_player)\n",
        "print(y_pred_test_RM[0])"
      ],
      "metadata": {
        "colab": {
          "base_uri": "https://localhost:8080/"
        },
        "id": "uMSkyefTkmht",
        "outputId": "59f045ac-50a4-46ef-c2e8-bf01537195a4"
      },
      "execution_count": 56,
      "outputs": [
        {
          "output_type": "stream",
          "name": "stdout",
          "text": [
            "23.21\n"
          ]
        }
      ]
    },
    {
      "cell_type": "markdown",
      "source": [
        "# Linear Regression"
      ],
      "metadata": {
        "id": "HJblT74hYJtO"
      }
    },
    {
      "cell_type": "code",
      "source": [
        "df_LM = df\n",
        "df_LM = df_LM.dropna()\n",
        "\n",
        "X_LM = df_LM[features]\n",
        "#y_LM = df_LM['PTS_player'] #make sure to change this(need an elif statment)\n",
        "if bet_type.lower() == \"pts\":\n",
        "  y_LM = df_LM['PTS_player']\n",
        "elif bet_type.lower() == \"reb\":\n",
        "  y_LM = df_LM['REB_player']\n",
        "elif bet_type.lower() == \"ast\":\n",
        "  y_LM = df_LM['AST_player']\n",
        "\n",
        "\n",
        "X_train_LM, X_test_LM, y_train_LM, y_test_LM = train_test_split(X_LM, y_LM, test_size=.2, random_state=19)\n",
        "\n",
        "X_train_LM, X_test_LM = normalizer(X_train_LM, X_test_LM, 7)\n",
        "\n",
        "model_LM = LinearRegression()\n",
        "model_LM.fit(X_train_LM, y_train_LM)\n",
        "\n",
        "y_pred_LM = model_LM.predict(X_test_LM)\n",
        "getMetrics(y_pred_LM, y_test_LM)"
      ],
      "metadata": {
        "colab": {
          "base_uri": "https://localhost:8080/"
        },
        "id": "bX1YSh50YMZR",
        "outputId": "7e960c9e-3c85-4c74-f499-45625a12d432"
      },
      "execution_count": 57,
      "outputs": [
        {
          "output_type": "stream",
          "name": "stdout",
          "text": [
            "MSE:  18.797371287520715\n",
            "R2:  0.7595785587422872\n"
          ]
        }
      ]
    },
    {
      "cell_type": "code",
      "source": [
        "y_pred_test_LM = model_LM.predict(test_player)\n",
        "print(y_pred_test_LM[0])"
      ],
      "metadata": {
        "colab": {
          "base_uri": "https://localhost:8080/"
        },
        "id": "uYMKennVlxcJ",
        "outputId": "4eb34760-e9c5-4cac-b69c-da0dc40e4fca"
      },
      "execution_count": 58,
      "outputs": [
        {
          "output_type": "stream",
          "name": "stdout",
          "text": [
            "30.00962788579022\n"
          ]
        }
      ]
    },
    {
      "cell_type": "markdown",
      "source": [
        "# XGB"
      ],
      "metadata": {
        "id": "-pg9HiXkchVP"
      }
    },
    {
      "cell_type": "code",
      "source": [
        "dtrain = xgb.DMatrix(X_train, label=y_train)\n",
        "dtest = xgb.DMatrix(X_test, label=y_test)\n",
        "\n",
        "model_xgb = xgb.train(\n",
        "    params={\n",
        "        'objective': 'reg:squarederror',\n",
        "        'learning_rate': 0.1,\n",
        "        'max_depth': 6,\n",
        "        'colsample_bytree': 0.8,\n",
        "    },\n",
        "    dtrain=dtrain,\n",
        "    num_boost_round=100\n",
        ")\n",
        "\n",
        "y_pred_xgb = model_xgb.predict(dtest)\n",
        "\n",
        "getMetrics(y_pred_xgb, y_test)"
      ],
      "metadata": {
        "colab": {
          "base_uri": "https://localhost:8080/"
        },
        "id": "gwO-VZWccg2P",
        "outputId": "33c11704-2ad1-4649-8a56-46d6e965f042"
      },
      "execution_count": 59,
      "outputs": [
        {
          "output_type": "stream",
          "name": "stdout",
          "text": [
            "MSE:  11.176664352416992\n",
            "R2:  0.8536329865455627\n"
          ]
        }
      ]
    },
    {
      "cell_type": "code",
      "source": [
        "dtest_single = xgb.DMatrix(test_player)\n",
        "\n",
        "y_pred_test_XGB = model_xgb.predict(dtest_single)\n",
        "print(y_pred_test_XGB[0])"
      ],
      "metadata": {
        "colab": {
          "base_uri": "https://localhost:8080/"
        },
        "id": "x5IXXe0DdoM2",
        "outputId": "d2a78158-0ba4-4374-c6e2-141654a80afb"
      },
      "execution_count": 60,
      "outputs": [
        {
          "output_type": "stream",
          "name": "stdout",
          "text": [
            "26.572084\n"
          ]
        }
      ]
    },
    {
      "cell_type": "markdown",
      "source": [
        "# DNN"
      ],
      "metadata": {
        "id": "lLwX4Z6ZyD2v"
      }
    },
    {
      "cell_type": "code",
      "source": [
        "y_mean = y_train_LM.mean()\n",
        "y_std = y_train_LM.std()\n",
        "\n",
        "y_train_scaled = (y_train_LM - y_mean) / y_std\n",
        "y_test_scaled = (y_test_LM - y_mean) / y_std\n",
        "\n",
        "scaler = StandardScaler()\n",
        "\n",
        "x_train_scaled = scaler.fit_transform(X_train_LM)\n",
        "x_test_scaled = scaler.fit_transform(X_test_LM)\n",
        "test_val_X_scaled = scaler.transform(test_player)  # Use transform, not fit_transform\n"
      ],
      "metadata": {
        "id": "_-0k4h0-zCW9"
      },
      "execution_count": 61,
      "outputs": []
    },
    {
      "cell_type": "code",
      "source": [
        "dnn_hist, dnn_y_pred, dnn_model = dnn_regression(X_train.shape[1], x_train_scaled, x_test_scaled, y_train_scaled, y_test_scaled)"
      ],
      "metadata": {
        "colab": {
          "base_uri": "https://localhost:8080/"
        },
        "collapsed": true,
        "id": "an8YnYHeyDU6",
        "outputId": "14d0f669-e25f-41ce-f44d-56305725e2e0"
      },
      "execution_count": 62,
      "outputs": [
        {
          "output_type": "stream",
          "name": "stdout",
          "text": [
            "Epoch 1/100\n",
            "\u001b[1m90/90\u001b[0m \u001b[32m━━━━━━━━━━━━━━━━━━━━\u001b[0m\u001b[37m\u001b[0m \u001b[1m3s\u001b[0m 7ms/step - loss: 0.8129 - mse: 0.8129 - val_loss: 0.3438 - val_mse: 0.3438\n",
            "Epoch 2/100\n",
            "\u001b[1m90/90\u001b[0m \u001b[32m━━━━━━━━━━━━━━━━━━━━\u001b[0m\u001b[37m\u001b[0m \u001b[1m0s\u001b[0m 4ms/step - loss: 0.4660 - mse: 0.4660 - val_loss: 0.3257 - val_mse: 0.3257\n",
            "Epoch 3/100\n",
            "\u001b[1m90/90\u001b[0m \u001b[32m━━━━━━━━━━━━━━━━━━━━\u001b[0m\u001b[37m\u001b[0m \u001b[1m0s\u001b[0m 4ms/step - loss: 0.3878 - mse: 0.3878 - val_loss: 0.2787 - val_mse: 0.2787\n",
            "Epoch 4/100\n",
            "\u001b[1m90/90\u001b[0m \u001b[32m━━━━━━━━━━━━━━━━━━━━\u001b[0m\u001b[37m\u001b[0m \u001b[1m0s\u001b[0m 4ms/step - loss: 0.3493 - mse: 0.3493 - val_loss: 0.2746 - val_mse: 0.2746\n",
            "Epoch 5/100\n",
            "\u001b[1m90/90\u001b[0m \u001b[32m━━━━━━━━━━━━━━━━━━━━\u001b[0m\u001b[37m\u001b[0m \u001b[1m1s\u001b[0m 4ms/step - loss: 0.3449 - mse: 0.3449 - val_loss: 0.2868 - val_mse: 0.2868\n",
            "Epoch 6/100\n",
            "\u001b[1m90/90\u001b[0m \u001b[32m━━━━━━━━━━━━━━━━━━━━\u001b[0m\u001b[37m\u001b[0m \u001b[1m1s\u001b[0m 4ms/step - loss: 0.3251 - mse: 0.3251 - val_loss: 0.2646 - val_mse: 0.2646\n",
            "Epoch 7/100\n",
            "\u001b[1m90/90\u001b[0m \u001b[32m━━━━━━━━━━━━━━━━━━━━\u001b[0m\u001b[37m\u001b[0m \u001b[1m1s\u001b[0m 5ms/step - loss: 0.3155 - mse: 0.3155 - val_loss: 0.2596 - val_mse: 0.2596\n",
            "Epoch 8/100\n",
            "\u001b[1m90/90\u001b[0m \u001b[32m━━━━━━━━━━━━━━━━━━━━\u001b[0m\u001b[37m\u001b[0m \u001b[1m1s\u001b[0m 5ms/step - loss: 0.3109 - mse: 0.3109 - val_loss: 0.2627 - val_mse: 0.2627\n",
            "Epoch 9/100\n",
            "\u001b[1m90/90\u001b[0m \u001b[32m━━━━━━━━━━━━━━━━━━━━\u001b[0m\u001b[37m\u001b[0m \u001b[1m1s\u001b[0m 4ms/step - loss: 0.3072 - mse: 0.3072 - val_loss: 0.2622 - val_mse: 0.2622\n",
            "Epoch 10/100\n",
            "\u001b[1m90/90\u001b[0m \u001b[32m━━━━━━━━━━━━━━━━━━━━\u001b[0m\u001b[37m\u001b[0m \u001b[1m0s\u001b[0m 4ms/step - loss: 0.2991 - mse: 0.2991 - val_loss: 0.2519 - val_mse: 0.2519\n",
            "Epoch 11/100\n",
            "\u001b[1m90/90\u001b[0m \u001b[32m━━━━━━━━━━━━━━━━━━━━\u001b[0m\u001b[37m\u001b[0m \u001b[1m1s\u001b[0m 4ms/step - loss: 0.3148 - mse: 0.3148 - val_loss: 0.2642 - val_mse: 0.2642\n",
            "Epoch 12/100\n",
            "\u001b[1m90/90\u001b[0m \u001b[32m━━━━━━━━━━━━━━━━━━━━\u001b[0m\u001b[37m\u001b[0m \u001b[1m1s\u001b[0m 4ms/step - loss: 0.2808 - mse: 0.2808 - val_loss: 0.2373 - val_mse: 0.2373\n",
            "Epoch 13/100\n",
            "\u001b[1m90/90\u001b[0m \u001b[32m━━━━━━━━━━━━━━━━━━━━\u001b[0m\u001b[37m\u001b[0m \u001b[1m0s\u001b[0m 4ms/step - loss: 0.2890 - mse: 0.2890 - val_loss: 0.2607 - val_mse: 0.2607\n",
            "Epoch 14/100\n",
            "\u001b[1m90/90\u001b[0m \u001b[32m━━━━━━━━━━━━━━━━━━━━\u001b[0m\u001b[37m\u001b[0m \u001b[1m1s\u001b[0m 7ms/step - loss: 0.2868 - mse: 0.2868 - val_loss: 0.2225 - val_mse: 0.2225\n",
            "Epoch 15/100\n",
            "\u001b[1m90/90\u001b[0m \u001b[32m━━━━━━━━━━━━━━━━━━━━\u001b[0m\u001b[37m\u001b[0m \u001b[1m1s\u001b[0m 6ms/step - loss: 0.2955 - mse: 0.2955 - val_loss: 0.2503 - val_mse: 0.2503\n",
            "Epoch 16/100\n",
            "\u001b[1m90/90\u001b[0m \u001b[32m━━━━━━━━━━━━━━━━━━━━\u001b[0m\u001b[37m\u001b[0m \u001b[1m1s\u001b[0m 7ms/step - loss: 0.2774 - mse: 0.2774 - val_loss: 0.2358 - val_mse: 0.2358\n",
            "Epoch 17/100\n",
            "\u001b[1m90/90\u001b[0m \u001b[32m━━━━━━━━━━━━━━━━━━━━\u001b[0m\u001b[37m\u001b[0m \u001b[1m1s\u001b[0m 6ms/step - loss: 0.2750 - mse: 0.2750 - val_loss: 0.2195 - val_mse: 0.2195\n",
            "Epoch 18/100\n",
            "\u001b[1m90/90\u001b[0m \u001b[32m━━━━━━━━━━━━━━━━━━━━\u001b[0m\u001b[37m\u001b[0m \u001b[1m1s\u001b[0m 7ms/step - loss: 0.2734 - mse: 0.2734 - val_loss: 0.2488 - val_mse: 0.2488\n",
            "Epoch 19/100\n",
            "\u001b[1m90/90\u001b[0m \u001b[32m━━━━━━━━━━━━━━━━━━━━\u001b[0m\u001b[37m\u001b[0m \u001b[1m0s\u001b[0m 5ms/step - loss: 0.2758 - mse: 0.2758 - val_loss: 0.2344 - val_mse: 0.2344\n",
            "Epoch 20/100\n",
            "\u001b[1m90/90\u001b[0m \u001b[32m━━━━━━━━━━━━━━━━━━━━\u001b[0m\u001b[37m\u001b[0m \u001b[1m0s\u001b[0m 4ms/step - loss: 0.2716 - mse: 0.2716 - val_loss: 0.2338 - val_mse: 0.2338\n",
            "Epoch 21/100\n",
            "\u001b[1m90/90\u001b[0m \u001b[32m━━━━━━━━━━━━━━━━━━━━\u001b[0m\u001b[37m\u001b[0m \u001b[1m1s\u001b[0m 4ms/step - loss: 0.2840 - mse: 0.2840 - val_loss: 0.2104 - val_mse: 0.2104\n",
            "Epoch 22/100\n",
            "\u001b[1m90/90\u001b[0m \u001b[32m━━━━━━━━━━━━━━━━━━━━\u001b[0m\u001b[37m\u001b[0m \u001b[1m0s\u001b[0m 5ms/step - loss: 0.2716 - mse: 0.2716 - val_loss: 0.2217 - val_mse: 0.2217\n",
            "Epoch 23/100\n",
            "\u001b[1m90/90\u001b[0m \u001b[32m━━━━━━━━━━━━━━━━━━━━\u001b[0m\u001b[37m\u001b[0m \u001b[1m1s\u001b[0m 4ms/step - loss: 0.2756 - mse: 0.2756 - val_loss: 0.2272 - val_mse: 0.2272\n",
            "Epoch 24/100\n",
            "\u001b[1m90/90\u001b[0m \u001b[32m━━━━━━━━━━━━━━━━━━━━\u001b[0m\u001b[37m\u001b[0m \u001b[1m1s\u001b[0m 4ms/step - loss: 0.2622 - mse: 0.2622 - val_loss: 0.2130 - val_mse: 0.2130\n",
            "Epoch 25/100\n",
            "\u001b[1m90/90\u001b[0m \u001b[32m━━━━━━━━━━━━━━━━━━━━\u001b[0m\u001b[37m\u001b[0m \u001b[1m0s\u001b[0m 5ms/step - loss: 0.2688 - mse: 0.2688 - val_loss: 0.2292 - val_mse: 0.2292\n",
            "Epoch 26/100\n",
            "\u001b[1m90/90\u001b[0m \u001b[32m━━━━━━━━━━━━━━━━━━━━\u001b[0m\u001b[37m\u001b[0m \u001b[1m1s\u001b[0m 5ms/step - loss: 0.2724 - mse: 0.2724 - val_loss: 0.2296 - val_mse: 0.2296\n",
            "Epoch 27/100\n",
            "\u001b[1m90/90\u001b[0m \u001b[32m━━━━━━━━━━━━━━━━━━━━\u001b[0m\u001b[37m\u001b[0m \u001b[1m1s\u001b[0m 5ms/step - loss: 0.2618 - mse: 0.2618 - val_loss: 0.2293 - val_mse: 0.2293\n",
            "Epoch 28/100\n",
            "\u001b[1m90/90\u001b[0m \u001b[32m━━━━━━━━━━━━━━━━━━━━\u001b[0m\u001b[37m\u001b[0m \u001b[1m1s\u001b[0m 4ms/step - loss: 0.2613 - mse: 0.2613 - val_loss: 0.2176 - val_mse: 0.2176\n",
            "Epoch 29/100\n",
            "\u001b[1m90/90\u001b[0m \u001b[32m━━━━━━━━━━━━━━━━━━━━\u001b[0m\u001b[37m\u001b[0m \u001b[1m0s\u001b[0m 4ms/step - loss: 0.2618 - mse: 0.2618 - val_loss: 0.2080 - val_mse: 0.2080\n",
            "Epoch 30/100\n",
            "\u001b[1m90/90\u001b[0m \u001b[32m━━━━━━━━━━━━━━━━━━━━\u001b[0m\u001b[37m\u001b[0m \u001b[1m1s\u001b[0m 4ms/step - loss: 0.2671 - mse: 0.2671 - val_loss: 0.2054 - val_mse: 0.2054\n",
            "Epoch 31/100\n",
            "\u001b[1m90/90\u001b[0m \u001b[32m━━━━━━━━━━━━━━━━━━━━\u001b[0m\u001b[37m\u001b[0m \u001b[1m0s\u001b[0m 4ms/step - loss: 0.2639 - mse: 0.2639 - val_loss: 0.2066 - val_mse: 0.2066\n",
            "Epoch 32/100\n",
            "\u001b[1m90/90\u001b[0m \u001b[32m━━━━━━━━━━━━━━━━━━━━\u001b[0m\u001b[37m\u001b[0m \u001b[1m0s\u001b[0m 4ms/step - loss: 0.2776 - mse: 0.2776 - val_loss: 0.2134 - val_mse: 0.2134\n",
            "Epoch 33/100\n",
            "\u001b[1m90/90\u001b[0m \u001b[32m━━━━━━━━━━━━━━━━━━━━\u001b[0m\u001b[37m\u001b[0m \u001b[1m0s\u001b[0m 4ms/step - loss: 0.2573 - mse: 0.2573 - val_loss: 0.2199 - val_mse: 0.2199\n",
            "Epoch 34/100\n",
            "\u001b[1m90/90\u001b[0m \u001b[32m━━━━━━━━━━━━━━━━━━━━\u001b[0m\u001b[37m\u001b[0m \u001b[1m1s\u001b[0m 4ms/step - loss: 0.2701 - mse: 0.2701 - val_loss: 0.2080 - val_mse: 0.2080\n",
            "Epoch 35/100\n",
            "\u001b[1m90/90\u001b[0m \u001b[32m━━━━━━━━━━━━━━━━━━━━\u001b[0m\u001b[37m\u001b[0m \u001b[1m0s\u001b[0m 4ms/step - loss: 0.2587 - mse: 0.2587 - val_loss: 0.2107 - val_mse: 0.2107\n",
            "Epoch 36/100\n",
            "\u001b[1m90/90\u001b[0m \u001b[32m━━━━━━━━━━━━━━━━━━━━\u001b[0m\u001b[37m\u001b[0m \u001b[1m1s\u001b[0m 4ms/step - loss: 0.2707 - mse: 0.2707 - val_loss: 0.2188 - val_mse: 0.2188\n",
            "Epoch 37/100\n",
            "\u001b[1m90/90\u001b[0m \u001b[32m━━━━━━━━━━━━━━━━━━━━\u001b[0m\u001b[37m\u001b[0m \u001b[1m0s\u001b[0m 4ms/step - loss: 0.2658 - mse: 0.2658 - val_loss: 0.2060 - val_mse: 0.2060\n",
            "Epoch 38/100\n",
            "\u001b[1m90/90\u001b[0m \u001b[32m━━━━━━━━━━━━━━━━━━━━\u001b[0m\u001b[37m\u001b[0m \u001b[1m0s\u001b[0m 4ms/step - loss: 0.2516 - mse: 0.2516 - val_loss: 0.2061 - val_mse: 0.2061\n",
            "Epoch 39/100\n",
            "\u001b[1m90/90\u001b[0m \u001b[32m━━━━━━━━━━━━━━━━━━━━\u001b[0m\u001b[37m\u001b[0m \u001b[1m1s\u001b[0m 7ms/step - loss: 0.2478 - mse: 0.2478 - val_loss: 0.2022 - val_mse: 0.2022\n",
            "Epoch 40/100\n",
            "\u001b[1m90/90\u001b[0m \u001b[32m━━━━━━━━━━━━━━━━━━━━\u001b[0m\u001b[37m\u001b[0m \u001b[1m1s\u001b[0m 7ms/step - loss: 0.2552 - mse: 0.2552 - val_loss: 0.2090 - val_mse: 0.2090\n",
            "Epoch 41/100\n",
            "\u001b[1m90/90\u001b[0m \u001b[32m━━━━━━━━━━━━━━━━━━━━\u001b[0m\u001b[37m\u001b[0m \u001b[1m1s\u001b[0m 6ms/step - loss: 0.2540 - mse: 0.2540 - val_loss: 0.2105 - val_mse: 0.2105\n",
            "Epoch 42/100\n",
            "\u001b[1m90/90\u001b[0m \u001b[32m━━━━━━━━━━━━━━━━━━━━\u001b[0m\u001b[37m\u001b[0m \u001b[1m1s\u001b[0m 7ms/step - loss: 0.2509 - mse: 0.2509 - val_loss: 0.2107 - val_mse: 0.2107\n",
            "Epoch 43/100\n",
            "\u001b[1m90/90\u001b[0m \u001b[32m━━━━━━━━━━━━━━━━━━━━\u001b[0m\u001b[37m\u001b[0m \u001b[1m1s\u001b[0m 5ms/step - loss: 0.2628 - mse: 0.2628 - val_loss: 0.2079 - val_mse: 0.2079\n",
            "Epoch 44/100\n",
            "\u001b[1m90/90\u001b[0m \u001b[32m━━━━━━━━━━━━━━━━━━━━\u001b[0m\u001b[37m\u001b[0m \u001b[1m1s\u001b[0m 5ms/step - loss: 0.2419 - mse: 0.2419 - val_loss: 0.2034 - val_mse: 0.2034\n",
            "Epoch 45/100\n",
            "\u001b[1m90/90\u001b[0m \u001b[32m━━━━━━━━━━━━━━━━━━━━\u001b[0m\u001b[37m\u001b[0m \u001b[1m1s\u001b[0m 4ms/step - loss: 0.2590 - mse: 0.2590 - val_loss: 0.2013 - val_mse: 0.2013\n",
            "Epoch 46/100\n",
            "\u001b[1m90/90\u001b[0m \u001b[32m━━━━━━━━━━━━━━━━━━━━\u001b[0m\u001b[37m\u001b[0m \u001b[1m1s\u001b[0m 6ms/step - loss: 0.2597 - mse: 0.2597 - val_loss: 0.2162 - val_mse: 0.2162\n",
            "Epoch 47/100\n",
            "\u001b[1m90/90\u001b[0m \u001b[32m━━━━━━━━━━━━━━━━━━━━\u001b[0m\u001b[37m\u001b[0m \u001b[1m0s\u001b[0m 4ms/step - loss: 0.2614 - mse: 0.2614 - val_loss: 0.2032 - val_mse: 0.2032\n",
            "Epoch 48/100\n",
            "\u001b[1m90/90\u001b[0m \u001b[32m━━━━━━━━━━━━━━━━━━━━\u001b[0m\u001b[37m\u001b[0m \u001b[1m0s\u001b[0m 4ms/step - loss: 0.2462 - mse: 0.2462 - val_loss: 0.1969 - val_mse: 0.1969\n",
            "Epoch 49/100\n",
            "\u001b[1m90/90\u001b[0m \u001b[32m━━━━━━━━━━━━━━━━━━━━\u001b[0m\u001b[37m\u001b[0m \u001b[1m1s\u001b[0m 4ms/step - loss: 0.2679 - mse: 0.2679 - val_loss: 0.2100 - val_mse: 0.2100\n",
            "Epoch 50/100\n",
            "\u001b[1m90/90\u001b[0m \u001b[32m━━━━━━━━━━━━━━━━━━━━\u001b[0m\u001b[37m\u001b[0m \u001b[1m0s\u001b[0m 4ms/step - loss: 0.2489 - mse: 0.2489 - val_loss: 0.2030 - val_mse: 0.2030\n",
            "Epoch 51/100\n",
            "\u001b[1m90/90\u001b[0m \u001b[32m━━━━━━━━━━━━━━━━━━━━\u001b[0m\u001b[37m\u001b[0m \u001b[1m0s\u001b[0m 4ms/step - loss: 0.2547 - mse: 0.2547 - val_loss: 0.2066 - val_mse: 0.2066\n",
            "Epoch 52/100\n",
            "\u001b[1m90/90\u001b[0m \u001b[32m━━━━━━━━━━━━━━━━━━━━\u001b[0m\u001b[37m\u001b[0m \u001b[1m0s\u001b[0m 4ms/step - loss: 0.2501 - mse: 0.2501 - val_loss: 0.2019 - val_mse: 0.2019\n",
            "Epoch 53/100\n",
            "\u001b[1m90/90\u001b[0m \u001b[32m━━━━━━━━━━━━━━━━━━━━\u001b[0m\u001b[37m\u001b[0m \u001b[1m0s\u001b[0m 4ms/step - loss: 0.2454 - mse: 0.2454 - val_loss: 0.2110 - val_mse: 0.2110\n",
            "Epoch 54/100\n",
            "\u001b[1m90/90\u001b[0m \u001b[32m━━━━━━━━━━━━━━━━━━━━\u001b[0m\u001b[37m\u001b[0m \u001b[1m1s\u001b[0m 5ms/step - loss: 0.2527 - mse: 0.2527 - val_loss: 0.2080 - val_mse: 0.2080\n",
            "Epoch 55/100\n",
            "\u001b[1m90/90\u001b[0m \u001b[32m━━━━━━━━━━━━━━━━━━━━\u001b[0m\u001b[37m\u001b[0m \u001b[1m1s\u001b[0m 4ms/step - loss: 0.2503 - mse: 0.2503 - val_loss: 0.2003 - val_mse: 0.2003\n",
            "Epoch 56/100\n",
            "\u001b[1m90/90\u001b[0m \u001b[32m━━━━━━━━━━━━━━━━━━━━\u001b[0m\u001b[37m\u001b[0m \u001b[1m1s\u001b[0m 4ms/step - loss: 0.2577 - mse: 0.2577 - val_loss: 0.2071 - val_mse: 0.2071\n",
            "Epoch 57/100\n",
            "\u001b[1m90/90\u001b[0m \u001b[32m━━━━━━━━━━━━━━━━━━━━\u001b[0m\u001b[37m\u001b[0m \u001b[1m0s\u001b[0m 4ms/step - loss: 0.2416 - mse: 0.2416 - val_loss: 0.1960 - val_mse: 0.1960\n",
            "Epoch 58/100\n",
            "\u001b[1m90/90\u001b[0m \u001b[32m━━━━━━━━━━━━━━━━━━━━\u001b[0m\u001b[37m\u001b[0m \u001b[1m1s\u001b[0m 4ms/step - loss: 0.2422 - mse: 0.2422 - val_loss: 0.2061 - val_mse: 0.2061\n",
            "Epoch 59/100\n",
            "\u001b[1m90/90\u001b[0m \u001b[32m━━━━━━━━━━━━━━━━━━━━\u001b[0m\u001b[37m\u001b[0m \u001b[1m1s\u001b[0m 5ms/step - loss: 0.2458 - mse: 0.2458 - val_loss: 0.2036 - val_mse: 0.2036\n",
            "Epoch 60/100\n",
            "\u001b[1m90/90\u001b[0m \u001b[32m━━━━━━━━━━━━━━━━━━━━\u001b[0m\u001b[37m\u001b[0m \u001b[1m1s\u001b[0m 4ms/step - loss: 0.2468 - mse: 0.2468 - val_loss: 0.1980 - val_mse: 0.1980\n",
            "Epoch 61/100\n",
            "\u001b[1m90/90\u001b[0m \u001b[32m━━━━━━━━━━━━━━━━━━━━\u001b[0m\u001b[37m\u001b[0m \u001b[1m1s\u001b[0m 4ms/step - loss: 0.2473 - mse: 0.2473 - val_loss: 0.2031 - val_mse: 0.2031\n",
            "Epoch 62/100\n",
            "\u001b[1m90/90\u001b[0m \u001b[32m━━━━━━━━━━━━━━━━━━━━\u001b[0m\u001b[37m\u001b[0m \u001b[1m1s\u001b[0m 7ms/step - loss: 0.2428 - mse: 0.2428 - val_loss: 0.2041 - val_mse: 0.2041\n",
            "Epoch 63/100\n",
            "\u001b[1m90/90\u001b[0m \u001b[32m━━━━━━━━━━━━━━━━━━━━\u001b[0m\u001b[37m\u001b[0m \u001b[1m1s\u001b[0m 7ms/step - loss: 0.2457 - mse: 0.2457 - val_loss: 0.1997 - val_mse: 0.1997\n",
            "Epoch 64/100\n",
            "\u001b[1m90/90\u001b[0m \u001b[32m━━━━━━━━━━━━━━━━━━━━\u001b[0m\u001b[37m\u001b[0m \u001b[1m1s\u001b[0m 7ms/step - loss: 0.2364 - mse: 0.2364 - val_loss: 0.2018 - val_mse: 0.2018\n",
            "Epoch 65/100\n",
            "\u001b[1m90/90\u001b[0m \u001b[32m━━━━━━━━━━━━━━━━━━━━\u001b[0m\u001b[37m\u001b[0m \u001b[1m1s\u001b[0m 4ms/step - loss: 0.2423 - mse: 0.2423 - val_loss: 0.2056 - val_mse: 0.2056\n",
            "Epoch 66/100\n",
            "\u001b[1m90/90\u001b[0m \u001b[32m━━━━━━━━━━━━━━━━━━━━\u001b[0m\u001b[37m\u001b[0m \u001b[1m0s\u001b[0m 4ms/step - loss: 0.2399 - mse: 0.2399 - val_loss: 0.2059 - val_mse: 0.2059\n",
            "Epoch 67/100\n",
            "\u001b[1m90/90\u001b[0m \u001b[32m━━━━━━━━━━━━━━━━━━━━\u001b[0m\u001b[37m\u001b[0m \u001b[1m1s\u001b[0m 4ms/step - loss: 0.2429 - mse: 0.2429 - val_loss: 0.1945 - val_mse: 0.1945\n",
            "Epoch 68/100\n",
            "\u001b[1m90/90\u001b[0m \u001b[32m━━━━━━━━━━━━━━━━━━━━\u001b[0m\u001b[37m\u001b[0m \u001b[1m1s\u001b[0m 5ms/step - loss: 0.2376 - mse: 0.2376 - val_loss: 0.2022 - val_mse: 0.2022\n",
            "Epoch 69/100\n",
            "\u001b[1m90/90\u001b[0m \u001b[32m━━━━━━━━━━━━━━━━━━━━\u001b[0m\u001b[37m\u001b[0m \u001b[1m1s\u001b[0m 5ms/step - loss: 0.2563 - mse: 0.2563 - val_loss: 0.1992 - val_mse: 0.1992\n",
            "Epoch 70/100\n",
            "\u001b[1m90/90\u001b[0m \u001b[32m━━━━━━━━━━━━━━━━━━━━\u001b[0m\u001b[37m\u001b[0m \u001b[1m0s\u001b[0m 5ms/step - loss: 0.2303 - mse: 0.2303 - val_loss: 0.2050 - val_mse: 0.2050\n",
            "Epoch 71/100\n",
            "\u001b[1m90/90\u001b[0m \u001b[32m━━━━━━━━━━━━━━━━━━━━\u001b[0m\u001b[37m\u001b[0m \u001b[1m1s\u001b[0m 7ms/step - loss: 0.2396 - mse: 0.2396 - val_loss: 0.1968 - val_mse: 0.1968\n",
            "Epoch 72/100\n",
            "\u001b[1m90/90\u001b[0m \u001b[32m━━━━━━━━━━━━━━━━━━━━\u001b[0m\u001b[37m\u001b[0m \u001b[1m1s\u001b[0m 7ms/step - loss: 0.2307 - mse: 0.2307 - val_loss: 0.1990 - val_mse: 0.1990\n",
            "Epoch 73/100\n",
            "\u001b[1m90/90\u001b[0m \u001b[32m━━━━━━━━━━━━━━━━━━━━\u001b[0m\u001b[37m\u001b[0m \u001b[1m1s\u001b[0m 5ms/step - loss: 0.2361 - mse: 0.2361 - val_loss: 0.2133 - val_mse: 0.2133\n",
            "Epoch 74/100\n",
            "\u001b[1m90/90\u001b[0m \u001b[32m━━━━━━━━━━━━━━━━━━━━\u001b[0m\u001b[37m\u001b[0m \u001b[1m1s\u001b[0m 5ms/step - loss: 0.2315 - mse: 0.2315 - val_loss: 0.1995 - val_mse: 0.1995\n",
            "Epoch 75/100\n",
            "\u001b[1m90/90\u001b[0m \u001b[32m━━━━━━━━━━━━━━━━━━━━\u001b[0m\u001b[37m\u001b[0m \u001b[1m0s\u001b[0m 4ms/step - loss: 0.2547 - mse: 0.2547 - val_loss: 0.2008 - val_mse: 0.2008\n",
            "Epoch 76/100\n",
            "\u001b[1m90/90\u001b[0m \u001b[32m━━━━━━━━━━━━━━━━━━━━\u001b[0m\u001b[37m\u001b[0m \u001b[1m1s\u001b[0m 4ms/step - loss: 0.2329 - mse: 0.2329 - val_loss: 0.2009 - val_mse: 0.2009\n",
            "Epoch 77/100\n",
            "\u001b[1m90/90\u001b[0m \u001b[32m━━━━━━━━━━━━━━━━━━━━\u001b[0m\u001b[37m\u001b[0m \u001b[1m1s\u001b[0m 4ms/step - loss: 0.2452 - mse: 0.2452 - val_loss: 0.2002 - val_mse: 0.2002\n",
            "Epoch 78/100\n",
            "\u001b[1m90/90\u001b[0m \u001b[32m━━━━━━━━━━━━━━━━━━━━\u001b[0m\u001b[37m\u001b[0m \u001b[1m1s\u001b[0m 4ms/step - loss: 0.2533 - mse: 0.2533 - val_loss: 0.1981 - val_mse: 0.1981\n",
            "Epoch 79/100\n",
            "\u001b[1m90/90\u001b[0m \u001b[32m━━━━━━━━━━━━━━━━━━━━\u001b[0m\u001b[37m\u001b[0m \u001b[1m1s\u001b[0m 5ms/step - loss: 0.2371 - mse: 0.2371 - val_loss: 0.1958 - val_mse: 0.1958\n",
            "Epoch 80/100\n",
            "\u001b[1m90/90\u001b[0m \u001b[32m━━━━━━━━━━━━━━━━━━━━\u001b[0m\u001b[37m\u001b[0m \u001b[1m1s\u001b[0m 6ms/step - loss: 0.2348 - mse: 0.2348 - val_loss: 0.2000 - val_mse: 0.2000\n",
            "Epoch 81/100\n",
            "\u001b[1m90/90\u001b[0m \u001b[32m━━━━━━━━━━━━━━━━━━━━\u001b[0m\u001b[37m\u001b[0m \u001b[1m1s\u001b[0m 7ms/step - loss: 0.2303 - mse: 0.2303 - val_loss: 0.2004 - val_mse: 0.2004\n",
            "Epoch 82/100\n",
            "\u001b[1m90/90\u001b[0m \u001b[32m━━━━━━━━━━━━━━━━━━━━\u001b[0m\u001b[37m\u001b[0m \u001b[1m1s\u001b[0m 7ms/step - loss: 0.2372 - mse: 0.2372 - val_loss: 0.2000 - val_mse: 0.2000\n",
            "Epoch 83/100\n",
            "\u001b[1m90/90\u001b[0m \u001b[32m━━━━━━━━━━━━━━━━━━━━\u001b[0m\u001b[37m\u001b[0m \u001b[1m1s\u001b[0m 7ms/step - loss: 0.2394 - mse: 0.2394 - val_loss: 0.2061 - val_mse: 0.2061\n",
            "Epoch 84/100\n",
            "\u001b[1m90/90\u001b[0m \u001b[32m━━━━━━━━━━━━━━━━━━━━\u001b[0m\u001b[37m\u001b[0m \u001b[1m1s\u001b[0m 4ms/step - loss: 0.2304 - mse: 0.2304 - val_loss: 0.2080 - val_mse: 0.2080\n",
            "Epoch 85/100\n",
            "\u001b[1m90/90\u001b[0m \u001b[32m━━━━━━━━━━━━━━━━━━━━\u001b[0m\u001b[37m\u001b[0m \u001b[1m1s\u001b[0m 4ms/step - loss: 0.2407 - mse: 0.2407 - val_loss: 0.1998 - val_mse: 0.1998\n",
            "Epoch 86/100\n",
            "\u001b[1m90/90\u001b[0m \u001b[32m━━━━━━━━━━━━━━━━━━━━\u001b[0m\u001b[37m\u001b[0m \u001b[1m1s\u001b[0m 4ms/step - loss: 0.2422 - mse: 0.2422 - val_loss: 0.2063 - val_mse: 0.2063\n",
            "Epoch 87/100\n",
            "\u001b[1m90/90\u001b[0m \u001b[32m━━━━━━━━━━━━━━━━━━━━\u001b[0m\u001b[37m\u001b[0m \u001b[1m0s\u001b[0m 5ms/step - loss: 0.2500 - mse: 0.2500 - val_loss: 0.2027 - val_mse: 0.2027\n",
            "Epoch 88/100\n",
            "\u001b[1m90/90\u001b[0m \u001b[32m━━━━━━━━━━━━━━━━━━━━\u001b[0m\u001b[37m\u001b[0m \u001b[1m1s\u001b[0m 4ms/step - loss: 0.2338 - mse: 0.2338 - val_loss: 0.2031 - val_mse: 0.2031\n",
            "Epoch 89/100\n",
            "\u001b[1m90/90\u001b[0m \u001b[32m━━━━━━━━━━━━━━━━━━━━\u001b[0m\u001b[37m\u001b[0m \u001b[1m1s\u001b[0m 4ms/step - loss: 0.2341 - mse: 0.2341 - val_loss: 0.2035 - val_mse: 0.2035\n",
            "Epoch 90/100\n",
            "\u001b[1m90/90\u001b[0m \u001b[32m━━━━━━━━━━━━━━━━━━━━\u001b[0m\u001b[37m\u001b[0m \u001b[1m1s\u001b[0m 4ms/step - loss: 0.2357 - mse: 0.2357 - val_loss: 0.2016 - val_mse: 0.2016\n",
            "Epoch 91/100\n",
            "\u001b[1m90/90\u001b[0m \u001b[32m━━━━━━━━━━━━━━━━━━━━\u001b[0m\u001b[37m\u001b[0m \u001b[1m1s\u001b[0m 4ms/step - loss: 0.2305 - mse: 0.2305 - val_loss: 0.2000 - val_mse: 0.2000\n",
            "Epoch 92/100\n",
            "\u001b[1m90/90\u001b[0m \u001b[32m━━━━━━━━━━━━━━━━━━━━\u001b[0m\u001b[37m\u001b[0m \u001b[1m1s\u001b[0m 4ms/step - loss: 0.2271 - mse: 0.2271 - val_loss: 0.2059 - val_mse: 0.2059\n",
            "Epoch 93/100\n",
            "\u001b[1m90/90\u001b[0m \u001b[32m━━━━━━━━━━━━━━━━━━━━\u001b[0m\u001b[37m\u001b[0m \u001b[1m1s\u001b[0m 4ms/step - loss: 0.2414 - mse: 0.2414 - val_loss: 0.2000 - val_mse: 0.2000\n",
            "Epoch 94/100\n",
            "\u001b[1m90/90\u001b[0m \u001b[32m━━━━━━━━━━━━━━━━━━━━\u001b[0m\u001b[37m\u001b[0m \u001b[1m0s\u001b[0m 4ms/step - loss: 0.2432 - mse: 0.2432 - val_loss: 0.2096 - val_mse: 0.2096\n",
            "Epoch 95/100\n",
            "\u001b[1m90/90\u001b[0m \u001b[32m━━━━━━━━━━━━━━━━━━━━\u001b[0m\u001b[37m\u001b[0m \u001b[1m1s\u001b[0m 4ms/step - loss: 0.2309 - mse: 0.2309 - val_loss: 0.2060 - val_mse: 0.2060\n",
            "Epoch 96/100\n",
            "\u001b[1m90/90\u001b[0m \u001b[32m━━━━━━━━━━━━━━━━━━━━\u001b[0m\u001b[37m\u001b[0m \u001b[1m1s\u001b[0m 7ms/step - loss: 0.2374 - mse: 0.2374 - val_loss: 0.1991 - val_mse: 0.1991\n",
            "Epoch 97/100\n",
            "\u001b[1m90/90\u001b[0m \u001b[32m━━━━━━━━━━━━━━━━━━━━\u001b[0m\u001b[37m\u001b[0m \u001b[1m1s\u001b[0m 5ms/step - loss: 0.2218 - mse: 0.2218 - val_loss: 0.2005 - val_mse: 0.2005\n",
            "Epoch 98/100\n",
            "\u001b[1m90/90\u001b[0m \u001b[32m━━━━━━━━━━━━━━━━━━━━\u001b[0m\u001b[37m\u001b[0m \u001b[1m0s\u001b[0m 4ms/step - loss: 0.2288 - mse: 0.2288 - val_loss: 0.2030 - val_mse: 0.2030\n",
            "Epoch 99/100\n",
            "\u001b[1m90/90\u001b[0m \u001b[32m━━━━━━━━━━━━━━━━━━━━\u001b[0m\u001b[37m\u001b[0m \u001b[1m1s\u001b[0m 7ms/step - loss: 0.2311 - mse: 0.2311 - val_loss: 0.2032 - val_mse: 0.2032\n",
            "Epoch 100/100\n",
            "\u001b[1m90/90\u001b[0m \u001b[32m━━━━━━━━━━━━━━━━━━━━\u001b[0m\u001b[37m\u001b[0m \u001b[1m1s\u001b[0m 7ms/step - loss: 0.2428 - mse: 0.2428 - val_loss: 0.2020 - val_mse: 0.2020\n",
            "\u001b[1m45/45\u001b[0m \u001b[32m━━━━━━━━━━━━━━━━━━━━\u001b[0m\u001b[37m\u001b[0m \u001b[1m0s\u001b[0m 5ms/step\n"
          ]
        }
      ]
    },
    {
      "cell_type": "code",
      "source": [
        "plotLosses(dnn_hist)"
      ],
      "metadata": {
        "colab": {
          "base_uri": "https://localhost:8080/",
          "height": 545
        },
        "id": "wRdWiin-zzXq",
        "outputId": "4a365b36-da82-4cdb-ee68-01d71253a39a"
      },
      "execution_count": 63,
      "outputs": [
        {
          "output_type": "display_data",
          "data": {
            "text/plain": [
              "<Figure size 800x600 with 1 Axes>"
            ],
            "image/png": "[encoded data removed]"
          },
          "metadata": {}
        }
      ]
    },
    {
      "cell_type": "code",
      "source": [
        "getMetrics(dnn_y_pred, y_test_scaled)\n",
        "y_pred_test_dnn = dnn_model.predict(test_val_X_scaled)\n",
        "y_pred_test_original = (y_pred_test_dnn * y_std) + y_mean\n",
        "\n",
        "print(y_pred_test_original)"
      ],
      "metadata": {
        "colab": {
          "base_uri": "https://localhost:8080/"
        },
        "id": "9OdybOXgz5Xi",
        "outputId": "935b21b1-42b4-4ae8-b676-79a220809a80"
      },
      "execution_count": 64,
      "outputs": [
        {
          "output_type": "stream",
          "name": "stdout",
          "text": [
            "MSE:  0.20195968099385622\n",
            "R2:  0.8011647271858752\n",
            "\u001b[1m1/1\u001b[0m \u001b[32m━━━━━━━━━━━━━━━━━━━━\u001b[0m\u001b[37m\u001b[0m \u001b[1m0s\u001b[0m 101ms/step\n",
            "[[31.413904]]\n"
          ]
        }
      ]
    },
    {
      "cell_type": "markdown",
      "source": [
        "# CNN"
      ],
      "metadata": {
        "id": "D2g8e_PQ8Tal"
      }
    },
    {
      "cell_type": "code",
      "source": [
        "X_train_reshaped = x_train_scaled.reshape(x_train_scaled.shape[0], x_train_scaled.shape[1], 1).astype('float32')\n",
        "X_test_reshaped = x_test_scaled.reshape(x_test_scaled.shape[0], x_test_scaled.shape[1], 1).astype('float32')\n",
        "\n",
        "input_cnn = (X_train_reshaped.shape[1], X_train_reshaped.shape[2])"
      ],
      "metadata": {
        "id": "u88R04qL4c6l"
      },
      "execution_count": 65,
      "outputs": []
    },
    {
      "cell_type": "code",
      "source": [
        "history_cnn, y_pred_cnn, cnn_model = cnn_regression(input_cnn, X_train_reshaped, y_train_scaled, X_test_reshaped, y_test_scaled)"
      ],
      "metadata": {
        "colab": {
          "base_uri": "https://localhost:8080/"
        },
        "collapsed": true,
        "id": "K-OMJc8Y8lOl",
        "outputId": "7d800415-9d6a-40a6-fd28-3bc40c719db4"
      },
      "execution_count": 66,
      "outputs": [
        {
          "output_type": "stream",
          "name": "stdout",
          "text": [
            "Epoch 1/100\n",
            "\u001b[1m90/90\u001b[0m \u001b[32m━━━━━━━━━━━━━━━━━━━━\u001b[0m\u001b[37m\u001b[0m \u001b[1m3s\u001b[0m 11ms/step - loss: 0.5679 - mse: 0.5679 - val_loss: 0.3114 - val_mse: 0.3114\n",
            "Epoch 2/100\n",
            "\u001b[1m90/90\u001b[0m \u001b[32m━━━━━━━━━━━━━━━━━━━━\u001b[0m\u001b[37m\u001b[0m \u001b[1m0s\u001b[0m 5ms/step - loss: 0.3161 - mse: 0.3161 - val_loss: 0.3008 - val_mse: 0.3008\n",
            "Epoch 3/100\n",
            "\u001b[1m90/90\u001b[0m \u001b[32m━━━━━━━━━━━━━━━━━━━━\u001b[0m\u001b[37m\u001b[0m \u001b[1m1s\u001b[0m 5ms/step - loss: 0.3077 - mse: 0.3077 - val_loss: 0.2822 - val_mse: 0.2822\n",
            "Epoch 4/100\n",
            "\u001b[1m90/90\u001b[0m \u001b[32m━━━━━━━━━━━━━━━━━━━━\u001b[0m\u001b[37m\u001b[0m \u001b[1m0s\u001b[0m 5ms/step - loss: 0.2829 - mse: 0.2829 - val_loss: 0.2773 - val_mse: 0.2773\n",
            "Epoch 5/100\n",
            "\u001b[1m90/90\u001b[0m \u001b[32m━━━━━━━━━━━━━━━━━━━━\u001b[0m\u001b[37m\u001b[0m \u001b[1m0s\u001b[0m 5ms/step - loss: 0.2937 - mse: 0.2937 - val_loss: 0.2793 - val_mse: 0.2793\n",
            "Epoch 6/100\n",
            "\u001b[1m90/90\u001b[0m \u001b[32m━━━━━━━━━━━━━━━━━━━━\u001b[0m\u001b[37m\u001b[0m \u001b[1m1s\u001b[0m 5ms/step - loss: 0.2953 - mse: 0.2953 - val_loss: 0.2792 - val_mse: 0.2792\n",
            "Epoch 7/100\n",
            "\u001b[1m90/90\u001b[0m \u001b[32m━━━━━━━━━━━━━━━━━━━━\u001b[0m\u001b[37m\u001b[0m \u001b[1m1s\u001b[0m 5ms/step - loss: 0.2806 - mse: 0.2806 - val_loss: 0.2740 - val_mse: 0.2740\n",
            "Epoch 8/100\n",
            "\u001b[1m90/90\u001b[0m \u001b[32m━━━━━━━━━━━━━━━━━━━━\u001b[0m\u001b[37m\u001b[0m \u001b[1m1s\u001b[0m 6ms/step - loss: 0.2813 - mse: 0.2813 - val_loss: 0.2800 - val_mse: 0.2800\n",
            "Epoch 9/100\n",
            "\u001b[1m90/90\u001b[0m \u001b[32m━━━━━━━━━━━━━━━━━━━━\u001b[0m\u001b[37m\u001b[0m \u001b[1m0s\u001b[0m 5ms/step - loss: 0.2749 - mse: 0.2749 - val_loss: 0.2764 - val_mse: 0.2764\n",
            "Epoch 10/100\n",
            "\u001b[1m90/90\u001b[0m \u001b[32m━━━━━━━━━━━━━━━━━━━━\u001b[0m\u001b[37m\u001b[0m \u001b[1m1s\u001b[0m 5ms/step - loss: 0.2694 - mse: 0.2694 - val_loss: 0.2665 - val_mse: 0.2665\n",
            "Epoch 11/100\n",
            "\u001b[1m90/90\u001b[0m \u001b[32m━━━━━━━━━━━━━━━━━━━━\u001b[0m\u001b[37m\u001b[0m \u001b[1m0s\u001b[0m 5ms/step - loss: 0.2656 - mse: 0.2656 - val_loss: 0.2738 - val_mse: 0.2738\n",
            "Epoch 12/100\n",
            "\u001b[1m90/90\u001b[0m \u001b[32m━━━━━━━━━━━━━━━━━━━━\u001b[0m\u001b[37m\u001b[0m \u001b[1m1s\u001b[0m 5ms/step - loss: 0.2596 - mse: 0.2596 - val_loss: 0.2776 - val_mse: 0.2776\n",
            "Epoch 13/100\n",
            "\u001b[1m90/90\u001b[0m \u001b[32m━━━━━━━━━━━━━━━━━━━━\u001b[0m\u001b[37m\u001b[0m \u001b[1m0s\u001b[0m 5ms/step - loss: 0.2803 - mse: 0.2803 - val_loss: 0.2710 - val_mse: 0.2710\n",
            "Epoch 14/100\n",
            "\u001b[1m90/90\u001b[0m \u001b[32m━━━━━━━━━━━━━━━━━━━━\u001b[0m\u001b[37m\u001b[0m \u001b[1m1s\u001b[0m 7ms/step - loss: 0.2595 - mse: 0.2595 - val_loss: 0.2845 - val_mse: 0.2845\n",
            "Epoch 15/100\n",
            "\u001b[1m90/90\u001b[0m \u001b[32m━━━━━━━━━━━━━━━━━━━━\u001b[0m\u001b[37m\u001b[0m \u001b[1m1s\u001b[0m 14ms/step - loss: 0.2709 - mse: 0.2709 - val_loss: 0.2615 - val_mse: 0.2615\n",
            "Epoch 16/100\n",
            "\u001b[1m90/90\u001b[0m \u001b[32m━━━━━━━━━━━━━━━━━━━━\u001b[0m\u001b[37m\u001b[0m \u001b[1m2s\u001b[0m 20ms/step - loss: 0.2564 - mse: 0.2564 - val_loss: 0.2588 - val_mse: 0.2588\n",
            "Epoch 17/100\n",
            "\u001b[1m90/90\u001b[0m \u001b[32m━━━━━━━━━━━━━━━━━━━━\u001b[0m\u001b[37m\u001b[0m \u001b[1m3s\u001b[0m 23ms/step - loss: 0.2610 - mse: 0.2610 - val_loss: 0.2629 - val_mse: 0.2629\n",
            "Epoch 18/100\n",
            "\u001b[1m90/90\u001b[0m \u001b[32m━━━━━━━━━━━━━━━━━━━━\u001b[0m\u001b[37m\u001b[0m \u001b[1m1s\u001b[0m 13ms/step - loss: 0.2653 - mse: 0.2653 - val_loss: 0.2718 - val_mse: 0.2718\n",
            "Epoch 19/100\n",
            "\u001b[1m90/90\u001b[0m \u001b[32m━━━━━━━━━━━━━━━━━━━━\u001b[0m\u001b[37m\u001b[0m \u001b[1m1s\u001b[0m 9ms/step - loss: 0.2576 - mse: 0.2576 - val_loss: 0.2686 - val_mse: 0.2686\n",
            "Epoch 20/100\n",
            "\u001b[1m90/90\u001b[0m \u001b[32m━━━━━━━━━━━━━━━━━━━━\u001b[0m\u001b[37m\u001b[0m \u001b[1m2s\u001b[0m 18ms/step - loss: 0.2609 - mse: 0.2609 - val_loss: 0.2857 - val_mse: 0.2857\n",
            "Epoch 21/100\n",
            "\u001b[1m90/90\u001b[0m \u001b[32m━━━━━━━━━━━━━━━━━━━━\u001b[0m\u001b[37m\u001b[0m \u001b[1m2s\u001b[0m 11ms/step - loss: 0.2515 - mse: 0.2515 - val_loss: 0.2700 - val_mse: 0.2700\n",
            "Epoch 22/100\n",
            "\u001b[1m90/90\u001b[0m \u001b[32m━━━━━━━━━━━━━━━━━━━━\u001b[0m\u001b[37m\u001b[0m \u001b[1m1s\u001b[0m 13ms/step - loss: 0.2600 - mse: 0.2600 - val_loss: 0.2618 - val_mse: 0.2618\n",
            "Epoch 23/100\n",
            "\u001b[1m90/90\u001b[0m \u001b[32m━━━━━━━━━━━━━━━━━━━━\u001b[0m\u001b[37m\u001b[0m \u001b[1m1s\u001b[0m 11ms/step - loss: 0.2475 - mse: 0.2475 - val_loss: 0.2683 - val_mse: 0.2683\n",
            "Epoch 24/100\n",
            "\u001b[1m90/90\u001b[0m \u001b[32m━━━━━━━━━━━━━━━━━━━━\u001b[0m\u001b[37m\u001b[0m \u001b[1m2s\u001b[0m 17ms/step - loss: 0.2535 - mse: 0.2535 - val_loss: 0.2565 - val_mse: 0.2565\n",
            "Epoch 25/100\n",
            "\u001b[1m90/90\u001b[0m \u001b[32m━━━━━━━━━━━━━━━━━━━━\u001b[0m\u001b[37m\u001b[0m \u001b[1m3s\u001b[0m 17ms/step - loss: 0.2536 - mse: 0.2536 - val_loss: 0.2763 - val_mse: 0.2763\n",
            "Epoch 26/100\n",
            "\u001b[1m90/90\u001b[0m \u001b[32m━━━━━━━━━━━━━━━━━━━━\u001b[0m\u001b[37m\u001b[0m \u001b[1m2s\u001b[0m 15ms/step - loss: 0.2355 - mse: 0.2355 - val_loss: 0.2698 - val_mse: 0.2698\n",
            "Epoch 27/100\n",
            "\u001b[1m90/90\u001b[0m \u001b[32m━━━━━━━━━━━━━━━━━━━━\u001b[0m\u001b[37m\u001b[0m \u001b[1m1s\u001b[0m 10ms/step - loss: 0.2500 - mse: 0.2500 - val_loss: 0.2652 - val_mse: 0.2652\n",
            "Epoch 28/100\n",
            "\u001b[1m90/90\u001b[0m \u001b[32m━━━━━━━━━━━━━━━━━━━━\u001b[0m\u001b[37m\u001b[0m \u001b[1m1s\u001b[0m 5ms/step - loss: 0.2550 - mse: 0.2550 - val_loss: 0.2679 - val_mse: 0.2679\n",
            "Epoch 29/100\n",
            "\u001b[1m90/90\u001b[0m \u001b[32m━━━━━━━━━━━━━━━━━━━━\u001b[0m\u001b[37m\u001b[0m \u001b[1m1s\u001b[0m 5ms/step - loss: 0.2466 - mse: 0.2466 - val_loss: 0.2588 - val_mse: 0.2588\n",
            "Epoch 30/100\n",
            "\u001b[1m90/90\u001b[0m \u001b[32m━━━━━━━━━━━━━━━━━━━━\u001b[0m\u001b[37m\u001b[0m \u001b[1m1s\u001b[0m 6ms/step - loss: 0.2529 - mse: 0.2529 - val_loss: 0.2698 - val_mse: 0.2698\n",
            "Epoch 31/100\n",
            "\u001b[1m90/90\u001b[0m \u001b[32m━━━━━━━━━━━━━━━━━━━━\u001b[0m\u001b[37m\u001b[0m \u001b[1m1s\u001b[0m 6ms/step - loss: 0.2458 - mse: 0.2458 - val_loss: 0.2779 - val_mse: 0.2779\n",
            "Epoch 32/100\n",
            "\u001b[1m90/90\u001b[0m \u001b[32m━━━━━━━━━━━━━━━━━━━━\u001b[0m\u001b[37m\u001b[0m \u001b[1m1s\u001b[0m 6ms/step - loss: 0.2422 - mse: 0.2422 - val_loss: 0.2590 - val_mse: 0.2590\n",
            "Epoch 33/100\n",
            "\u001b[1m90/90\u001b[0m \u001b[32m━━━━━━━━━━━━━━━━━━━━\u001b[0m\u001b[37m\u001b[0m \u001b[1m1s\u001b[0m 6ms/step - loss: 0.2475 - mse: 0.2475 - val_loss: 0.2537 - val_mse: 0.2537\n",
            "Epoch 34/100\n",
            "\u001b[1m90/90\u001b[0m \u001b[32m━━━━━━━━━━━━━━━━━━━━\u001b[0m\u001b[37m\u001b[0m \u001b[1m1s\u001b[0m 5ms/step - loss: 0.2463 - mse: 0.2463 - val_loss: 0.2545 - val_mse: 0.2545\n",
            "Epoch 35/100\n",
            "\u001b[1m90/90\u001b[0m \u001b[32m━━━━━━━━━━━━━━━━━━━━\u001b[0m\u001b[37m\u001b[0m \u001b[1m1s\u001b[0m 6ms/step - loss: 0.2472 - mse: 0.2472 - val_loss: 0.2642 - val_mse: 0.2642\n",
            "Epoch 36/100\n",
            "\u001b[1m90/90\u001b[0m \u001b[32m━━━━━━━━━━━━━━━━━━━━\u001b[0m\u001b[37m\u001b[0m \u001b[1m1s\u001b[0m 6ms/step - loss: 0.2357 - mse: 0.2357 - val_loss: 0.2591 - val_mse: 0.2591\n",
            "Epoch 37/100\n",
            "\u001b[1m90/90\u001b[0m \u001b[32m━━━━━━━━━━━━━━━━━━━━\u001b[0m\u001b[37m\u001b[0m \u001b[1m1s\u001b[0m 6ms/step - loss: 0.2397 - mse: 0.2397 - val_loss: 0.2648 - val_mse: 0.2648\n",
            "Epoch 38/100\n",
            "\u001b[1m90/90\u001b[0m \u001b[32m━━━━━━━━━━━━━━━━━━━━\u001b[0m\u001b[37m\u001b[0m \u001b[1m1s\u001b[0m 5ms/step - loss: 0.2456 - mse: 0.2456 - val_loss: 0.2665 - val_mse: 0.2665\n",
            "Epoch 39/100\n",
            "\u001b[1m90/90\u001b[0m \u001b[32m━━━━━━━━━━━━━━━━━━━━\u001b[0m\u001b[37m\u001b[0m \u001b[1m1s\u001b[0m 5ms/step - loss: 0.2332 - mse: 0.2332 - val_loss: 0.2609 - val_mse: 0.2609\n",
            "Epoch 40/100\n",
            "\u001b[1m90/90\u001b[0m \u001b[32m━━━━━━━━━━━━━━━━━━━━\u001b[0m\u001b[37m\u001b[0m \u001b[1m1s\u001b[0m 5ms/step - loss: 0.2297 - mse: 0.2297 - val_loss: 0.2751 - val_mse: 0.2751\n",
            "Epoch 41/100\n",
            "\u001b[1m90/90\u001b[0m \u001b[32m━━━━━━━━━━━━━━━━━━━━\u001b[0m\u001b[37m\u001b[0m \u001b[1m0s\u001b[0m 5ms/step - loss: 0.2407 - mse: 0.2407 - val_loss: 0.2624 - val_mse: 0.2624\n",
            "Epoch 42/100\n",
            "\u001b[1m90/90\u001b[0m \u001b[32m━━━━━━━━━━━━━━━━━━━━\u001b[0m\u001b[37m\u001b[0m \u001b[1m1s\u001b[0m 5ms/step - loss: 0.2344 - mse: 0.2344 - val_loss: 0.2588 - val_mse: 0.2588\n",
            "Epoch 43/100\n",
            "\u001b[1m90/90\u001b[0m \u001b[32m━━━━━━━━━━━━━━━━━━━━\u001b[0m\u001b[37m\u001b[0m \u001b[1m1s\u001b[0m 7ms/step - loss: 0.2378 - mse: 0.2378 - val_loss: 0.2566 - val_mse: 0.2566\n",
            "Epoch 44/100\n",
            "\u001b[1m90/90\u001b[0m \u001b[32m━━━━━━━━━━━━━━━━━━━━\u001b[0m\u001b[37m\u001b[0m \u001b[1m1s\u001b[0m 8ms/step - loss: 0.2393 - mse: 0.2393 - val_loss: 0.2607 - val_mse: 0.2607\n",
            "Epoch 45/100\n",
            "\u001b[1m90/90\u001b[0m \u001b[32m━━━━━━━━━━━━━━━━━━━━\u001b[0m\u001b[37m\u001b[0m \u001b[1m1s\u001b[0m 8ms/step - loss: 0.2258 - mse: 0.2258 - val_loss: 0.2663 - val_mse: 0.2663\n",
            "Epoch 46/100\n",
            "\u001b[1m90/90\u001b[0m \u001b[32m━━━━━━━━━━━━━━━━━━━━\u001b[0m\u001b[37m\u001b[0m \u001b[1m1s\u001b[0m 8ms/step - loss: 0.2376 - mse: 0.2376 - val_loss: 0.2738 - val_mse: 0.2738\n",
            "Epoch 47/100\n",
            "\u001b[1m90/90\u001b[0m \u001b[32m━━━━━━━━━━━━━━━━━━━━\u001b[0m\u001b[37m\u001b[0m \u001b[1m1s\u001b[0m 8ms/step - loss: 0.2274 - mse: 0.2274 - val_loss: 0.2791 - val_mse: 0.2791\n",
            "Epoch 48/100\n",
            "\u001b[1m90/90\u001b[0m \u001b[32m━━━━━━━━━━━━━━━━━━━━\u001b[0m\u001b[37m\u001b[0m \u001b[1m1s\u001b[0m 9ms/step - loss: 0.2337 - mse: 0.2337 - val_loss: 0.2678 - val_mse: 0.2678\n",
            "Epoch 49/100\n",
            "\u001b[1m90/90\u001b[0m \u001b[32m━━━━━━━━━━━━━━━━━━━━\u001b[0m\u001b[37m\u001b[0m \u001b[1m1s\u001b[0m 5ms/step - loss: 0.2240 - mse: 0.2240 - val_loss: 0.2798 - val_mse: 0.2798\n",
            "Epoch 50/100\n",
            "\u001b[1m90/90\u001b[0m \u001b[32m━━━━━━━━━━━━━━━━━━━━\u001b[0m\u001b[37m\u001b[0m \u001b[1m1s\u001b[0m 6ms/step - loss: 0.2293 - mse: 0.2293 - val_loss: 0.2750 - val_mse: 0.2750\n",
            "Epoch 51/100\n",
            "\u001b[1m90/90\u001b[0m \u001b[32m━━━━━━━━━━━━━━━━━━━━\u001b[0m\u001b[37m\u001b[0m \u001b[1m1s\u001b[0m 5ms/step - loss: 0.2250 - mse: 0.2250 - val_loss: 0.2557 - val_mse: 0.2557\n",
            "Epoch 52/100\n",
            "\u001b[1m90/90\u001b[0m \u001b[32m━━━━━━━━━━━━━━━━━━━━\u001b[0m\u001b[37m\u001b[0m \u001b[1m1s\u001b[0m 6ms/step - loss: 0.2282 - mse: 0.2282 - val_loss: 0.2600 - val_mse: 0.2600\n",
            "Epoch 53/100\n",
            "\u001b[1m90/90\u001b[0m \u001b[32m━━━━━━━━━━━━━━━━━━━━\u001b[0m\u001b[37m\u001b[0m \u001b[1m0s\u001b[0m 5ms/step - loss: 0.2284 - mse: 0.2284 - val_loss: 0.2628 - val_mse: 0.2628\n",
            "Epoch 54/100\n",
            "\u001b[1m90/90\u001b[0m \u001b[32m━━━━━━━━━━━━━━━━━━━━\u001b[0m\u001b[37m\u001b[0m \u001b[1m1s\u001b[0m 5ms/step - loss: 0.2385 - mse: 0.2385 - val_loss: 0.2578 - val_mse: 0.2578\n",
            "Epoch 55/100\n",
            "\u001b[1m90/90\u001b[0m \u001b[32m━━━━━━━━━━━━━━━━━━━━\u001b[0m\u001b[37m\u001b[0m \u001b[1m1s\u001b[0m 5ms/step - loss: 0.2246 - mse: 0.2246 - val_loss: 0.2636 - val_mse: 0.2636\n",
            "Epoch 56/100\n",
            "\u001b[1m90/90\u001b[0m \u001b[32m━━━━━━━━━━━━━━━━━━━━\u001b[0m\u001b[37m\u001b[0m \u001b[1m1s\u001b[0m 6ms/step - loss: 0.2258 - mse: 0.2258 - val_loss: 0.2568 - val_mse: 0.2568\n",
            "Epoch 57/100\n",
            "\u001b[1m90/90\u001b[0m \u001b[32m━━━━━━━━━━━━━━━━━━━━\u001b[0m\u001b[37m\u001b[0m \u001b[1m1s\u001b[0m 6ms/step - loss: 0.2265 - mse: 0.2265 - val_loss: 0.2593 - val_mse: 0.2593\n",
            "Epoch 58/100\n",
            "\u001b[1m90/90\u001b[0m \u001b[32m━━━━━━━━━━━━━━━━━━━━\u001b[0m\u001b[37m\u001b[0m \u001b[1m1s\u001b[0m 5ms/step - loss: 0.2382 - mse: 0.2382 - val_loss: 0.2546 - val_mse: 0.2546\n",
            "Epoch 59/100\n",
            "\u001b[1m90/90\u001b[0m \u001b[32m━━━━━━━━━━━━━━━━━━━━\u001b[0m\u001b[37m\u001b[0m \u001b[1m0s\u001b[0m 5ms/step - loss: 0.2290 - mse: 0.2290 - val_loss: 0.2625 - val_mse: 0.2625\n",
            "Epoch 60/100\n",
            "\u001b[1m90/90\u001b[0m \u001b[32m━━━━━━━━━━━━━━━━━━━━\u001b[0m\u001b[37m\u001b[0m \u001b[1m0s\u001b[0m 5ms/step - loss: 0.2358 - mse: 0.2358 - val_loss: 0.2673 - val_mse: 0.2673\n",
            "Epoch 61/100\n",
            "\u001b[1m90/90\u001b[0m \u001b[32m━━━━━━━━━━━━━━━━━━━━\u001b[0m\u001b[37m\u001b[0m \u001b[1m1s\u001b[0m 6ms/step - loss: 0.2159 - mse: 0.2159 - val_loss: 0.2591 - val_mse: 0.2591\n",
            "Epoch 62/100\n",
            "\u001b[1m90/90\u001b[0m \u001b[32m━━━━━━━━━━━━━━━━━━━━\u001b[0m\u001b[37m\u001b[0m \u001b[1m0s\u001b[0m 5ms/step - loss: 0.2292 - mse: 0.2292 - val_loss: 0.2552 - val_mse: 0.2552\n",
            "Epoch 63/100\n",
            "\u001b[1m90/90\u001b[0m \u001b[32m━━━━━━━━━━━━━━━━━━━━\u001b[0m\u001b[37m\u001b[0m \u001b[1m1s\u001b[0m 5ms/step - loss: 0.2201 - mse: 0.2201 - val_loss: 0.2596 - val_mse: 0.2596\n",
            "Epoch 64/100\n",
            "\u001b[1m90/90\u001b[0m \u001b[32m━━━━━━━━━━━━━━━━━━━━\u001b[0m\u001b[37m\u001b[0m \u001b[1m0s\u001b[0m 5ms/step - loss: 0.2265 - mse: 0.2265 - val_loss: 0.2579 - val_mse: 0.2579\n",
            "Epoch 65/100\n",
            "\u001b[1m90/90\u001b[0m \u001b[32m━━━━━━━━━━━━━━━━━━━━\u001b[0m\u001b[37m\u001b[0m \u001b[1m1s\u001b[0m 5ms/step - loss: 0.2192 - mse: 0.2192 - val_loss: 0.2631 - val_mse: 0.2631\n",
            "Epoch 66/100\n",
            "\u001b[1m90/90\u001b[0m \u001b[32m━━━━━━━━━━━━━━━━━━━━\u001b[0m\u001b[37m\u001b[0m \u001b[1m1s\u001b[0m 9ms/step - loss: 0.2291 - mse: 0.2291 - val_loss: 0.2617 - val_mse: 0.2617\n",
            "Epoch 67/100\n",
            "\u001b[1m90/90\u001b[0m \u001b[32m━━━━━━━━━━━━━━━━━━━━\u001b[0m\u001b[37m\u001b[0m \u001b[1m1s\u001b[0m 8ms/step - loss: 0.2118 - mse: 0.2118 - val_loss: 0.2711 - val_mse: 0.2711\n",
            "Epoch 68/100\n",
            "\u001b[1m90/90\u001b[0m \u001b[32m━━━━━━━━━━━━━━━━━━━━\u001b[0m\u001b[37m\u001b[0m \u001b[1m1s\u001b[0m 9ms/step - loss: 0.2251 - mse: 0.2251 - val_loss: 0.2633 - val_mse: 0.2633\n",
            "Epoch 69/100\n",
            "\u001b[1m90/90\u001b[0m \u001b[32m━━━━━━━━━━━━━━━━━━━━\u001b[0m\u001b[37m\u001b[0m \u001b[1m1s\u001b[0m 8ms/step - loss: 0.2203 - mse: 0.2203 - val_loss: 0.2593 - val_mse: 0.2593\n",
            "Epoch 70/100\n",
            "\u001b[1m90/90\u001b[0m \u001b[32m━━━━━━━━━━━━━━━━━━━━\u001b[0m\u001b[37m\u001b[0m \u001b[1m1s\u001b[0m 6ms/step - loss: 0.2217 - mse: 0.2217 - val_loss: 0.2689 - val_mse: 0.2689\n",
            "Epoch 71/100\n",
            "\u001b[1m90/90\u001b[0m \u001b[32m━━━━━━━━━━━━━━━━━━━━\u001b[0m\u001b[37m\u001b[0m \u001b[1m1s\u001b[0m 5ms/step - loss: 0.2183 - mse: 0.2183 - val_loss: 0.2623 - val_mse: 0.2623\n",
            "Epoch 72/100\n",
            "\u001b[1m90/90\u001b[0m \u001b[32m━━━━━━━━━━━━━━━━━━━━\u001b[0m\u001b[37m\u001b[0m \u001b[1m1s\u001b[0m 6ms/step - loss: 0.2116 - mse: 0.2116 - val_loss: 0.2634 - val_mse: 0.2634\n",
            "Epoch 73/100\n",
            "\u001b[1m90/90\u001b[0m \u001b[32m━━━━━━━━━━━━━━━━━━━━\u001b[0m\u001b[37m\u001b[0m \u001b[1m1s\u001b[0m 7ms/step - loss: 0.2130 - mse: 0.2130 - val_loss: 0.2661 - val_mse: 0.2661\n",
            "Epoch 74/100\n",
            "\u001b[1m90/90\u001b[0m \u001b[32m━━━━━━━━━━━━━━━━━━━━\u001b[0m\u001b[37m\u001b[0m \u001b[1m1s\u001b[0m 5ms/step - loss: 0.2084 - mse: 0.2084 - val_loss: 0.2558 - val_mse: 0.2558\n",
            "Epoch 75/100\n",
            "\u001b[1m90/90\u001b[0m \u001b[32m━━━━━━━━━━━━━━━━━━━━\u001b[0m\u001b[37m\u001b[0m \u001b[1m1s\u001b[0m 6ms/step - loss: 0.2141 - mse: 0.2141 - val_loss: 0.2632 - val_mse: 0.2632\n",
            "Epoch 76/100\n",
            "\u001b[1m90/90\u001b[0m \u001b[32m━━━━━━━━━━━━━━━━━━━━\u001b[0m\u001b[37m\u001b[0m \u001b[1m1s\u001b[0m 6ms/step - loss: 0.2171 - mse: 0.2171 - val_loss: 0.2536 - val_mse: 0.2536\n",
            "Epoch 77/100\n",
            "\u001b[1m90/90\u001b[0m \u001b[32m━━━━━━━━━━━━━━━━━━━━\u001b[0m\u001b[37m\u001b[0m \u001b[1m1s\u001b[0m 6ms/step - loss: 0.2121 - mse: 0.2121 - val_loss: 0.2565 - val_mse: 0.2565\n",
            "Epoch 78/100\n",
            "\u001b[1m90/90\u001b[0m \u001b[32m━━━━━━━━━━━━━━━━━━━━\u001b[0m\u001b[37m\u001b[0m \u001b[1m1s\u001b[0m 6ms/step - loss: 0.2099 - mse: 0.2099 - val_loss: 0.2484 - val_mse: 0.2484\n",
            "Epoch 79/100\n",
            "\u001b[1m90/90\u001b[0m \u001b[32m━━━━━━━━━━━━━━━━━━━━\u001b[0m\u001b[37m\u001b[0m \u001b[1m1s\u001b[0m 6ms/step - loss: 0.2134 - mse: 0.2134 - val_loss: 0.2628 - val_mse: 0.2628\n",
            "Epoch 80/100\n",
            "\u001b[1m90/90\u001b[0m \u001b[32m━━━━━━━━━━━━━━━━━━━━\u001b[0m\u001b[37m\u001b[0m \u001b[1m1s\u001b[0m 7ms/step - loss: 0.2135 - mse: 0.2135 - val_loss: 0.2563 - val_mse: 0.2563\n",
            "Epoch 81/100\n",
            "\u001b[1m90/90\u001b[0m \u001b[32m━━━━━━━━━━━━━━━━━━━━\u001b[0m\u001b[37m\u001b[0m \u001b[1m1s\u001b[0m 6ms/step - loss: 0.2083 - mse: 0.2083 - val_loss: 0.2670 - val_mse: 0.2670\n",
            "Epoch 82/100\n",
            "\u001b[1m90/90\u001b[0m \u001b[32m━━━━━━━━━━━━━━━━━━━━\u001b[0m\u001b[37m\u001b[0m \u001b[1m1s\u001b[0m 5ms/step - loss: 0.2174 - mse: 0.2174 - val_loss: 0.2632 - val_mse: 0.2632\n",
            "Epoch 83/100\n",
            "\u001b[1m90/90\u001b[0m \u001b[32m━━━━━━━━━━━━━━━━━━━━\u001b[0m\u001b[37m\u001b[0m \u001b[1m1s\u001b[0m 5ms/step - loss: 0.2175 - mse: 0.2175 - val_loss: 0.2580 - val_mse: 0.2580\n",
            "Epoch 84/100\n",
            "\u001b[1m90/90\u001b[0m \u001b[32m━━━━━━━━━━━━━━━━━━━━\u001b[0m\u001b[37m\u001b[0m \u001b[1m0s\u001b[0m 5ms/step - loss: 0.2151 - mse: 0.2151 - val_loss: 0.2596 - val_mse: 0.2596\n",
            "Epoch 85/100\n",
            "\u001b[1m90/90\u001b[0m \u001b[32m━━━━━━━━━━━━━━━━━━━━\u001b[0m\u001b[37m\u001b[0m \u001b[1m1s\u001b[0m 6ms/step - loss: 0.2075 - mse: 0.2075 - val_loss: 0.2557 - val_mse: 0.2557\n",
            "Epoch 86/100\n",
            "\u001b[1m90/90\u001b[0m \u001b[32m━━━━━━━━━━━━━━━━━━━━\u001b[0m\u001b[37m\u001b[0m \u001b[1m1s\u001b[0m 5ms/step - loss: 0.2001 - mse: 0.2001 - val_loss: 0.2614 - val_mse: 0.2614\n",
            "Epoch 87/100\n",
            "\u001b[1m90/90\u001b[0m \u001b[32m━━━━━━━━━━━━━━━━━━━━\u001b[0m\u001b[37m\u001b[0m \u001b[1m1s\u001b[0m 9ms/step - loss: 0.2051 - mse: 0.2051 - val_loss: 0.2639 - val_mse: 0.2639\n",
            "Epoch 88/100\n",
            "\u001b[1m90/90\u001b[0m \u001b[32m━━━━━━━━━━━━━━━━━━━━\u001b[0m\u001b[37m\u001b[0m \u001b[1m1s\u001b[0m 9ms/step - loss: 0.2132 - mse: 0.2132 - val_loss: 0.2667 - val_mse: 0.2667\n",
            "Epoch 89/100\n",
            "\u001b[1m90/90\u001b[0m \u001b[32m━━━━━━━━━━━━━━━━━━━━\u001b[0m\u001b[37m\u001b[0m \u001b[1m1s\u001b[0m 8ms/step - loss: 0.2095 - mse: 0.2095 - val_loss: 0.2593 - val_mse: 0.2593\n",
            "Epoch 90/100\n",
            "\u001b[1m90/90\u001b[0m \u001b[32m━━━━━━━━━━━━━━━━━━━━\u001b[0m\u001b[37m\u001b[0m \u001b[1m1s\u001b[0m 9ms/step - loss: 0.2052 - mse: 0.2052 - val_loss: 0.2564 - val_mse: 0.2564\n",
            "Epoch 91/100\n",
            "\u001b[1m90/90\u001b[0m \u001b[32m━━━━━━━━━━━━━━━━━━━━\u001b[0m\u001b[37m\u001b[0m \u001b[1m1s\u001b[0m 7ms/step - loss: 0.1996 - mse: 0.1996 - val_loss: 0.2556 - val_mse: 0.2556\n",
            "Epoch 92/100\n",
            "\u001b[1m90/90\u001b[0m \u001b[32m━━━━━━━━━━━━━━━━━━━━\u001b[0m\u001b[37m\u001b[0m \u001b[1m1s\u001b[0m 6ms/step - loss: 0.2135 - mse: 0.2135 - val_loss: 0.2537 - val_mse: 0.2537\n",
            "Epoch 93/100\n",
            "\u001b[1m90/90\u001b[0m \u001b[32m━━━━━━━━━━━━━━━━━━━━\u001b[0m\u001b[37m\u001b[0m \u001b[1m1s\u001b[0m 6ms/step - loss: 0.2059 - mse: 0.2059 - val_loss: 0.2652 - val_mse: 0.2652\n",
            "Epoch 94/100\n",
            "\u001b[1m90/90\u001b[0m \u001b[32m━━━━━━━━━━━━━━━━━━━━\u001b[0m\u001b[37m\u001b[0m \u001b[1m1s\u001b[0m 6ms/step - loss: 0.2083 - mse: 0.2083 - val_loss: 0.2695 - val_mse: 0.2695\n",
            "Epoch 95/100\n",
            "\u001b[1m90/90\u001b[0m \u001b[32m━━━━━━━━━━━━━━━━━━━━\u001b[0m\u001b[37m\u001b[0m \u001b[1m1s\u001b[0m 6ms/step - loss: 0.2001 - mse: 0.2001 - val_loss: 0.2619 - val_mse: 0.2619\n",
            "Epoch 96/100\n",
            "\u001b[1m90/90\u001b[0m \u001b[32m━━━━━━━━━━━━━━━━━━━━\u001b[0m\u001b[37m\u001b[0m \u001b[1m1s\u001b[0m 6ms/step - loss: 0.2040 - mse: 0.2040 - val_loss: 0.2623 - val_mse: 0.2623\n",
            "Epoch 97/100\n",
            "\u001b[1m90/90\u001b[0m \u001b[32m━━━━━━━━━━━━━━━━━━━━\u001b[0m\u001b[37m\u001b[0m \u001b[1m1s\u001b[0m 5ms/step - loss: 0.2080 - mse: 0.2080 - val_loss: 0.2647 - val_mse: 0.2647\n",
            "Epoch 98/100\n",
            "\u001b[1m90/90\u001b[0m \u001b[32m━━━━━━━━━━━━━━━━━━━━\u001b[0m\u001b[37m\u001b[0m \u001b[1m1s\u001b[0m 6ms/step - loss: 0.2082 - mse: 0.2082 - val_loss: 0.2656 - val_mse: 0.2656\n",
            "Epoch 99/100\n",
            "\u001b[1m90/90\u001b[0m \u001b[32m━━━━━━━━━━━━━━━━━━━━\u001b[0m\u001b[37m\u001b[0m \u001b[1m1s\u001b[0m 6ms/step - loss: 0.1946 - mse: 0.1946 - val_loss: 0.2634 - val_mse: 0.2634\n",
            "Epoch 100/100\n",
            "\u001b[1m90/90\u001b[0m \u001b[32m━━━━━━━━━━━━━━━━━━━━\u001b[0m\u001b[37m\u001b[0m \u001b[1m1s\u001b[0m 5ms/step - loss: 0.1934 - mse: 0.1934 - val_loss: 0.2505 - val_mse: 0.2505\n",
            "\u001b[1m45/45\u001b[0m \u001b[32m━━━━━━━━━━━━━━━━━━━━\u001b[0m\u001b[37m\u001b[0m \u001b[1m0s\u001b[0m 4ms/step\n"
          ]
        }
      ]
    },
    {
      "cell_type": "code",
      "source": [
        "plotLosses(history_cnn)"
      ],
      "metadata": {
        "colab": {
          "base_uri": "https://localhost:8080/",
          "height": 545
        },
        "id": "OIxxRAkX9xvb",
        "outputId": "a7c1e185-28f3-4921-f56e-260e3676a867"
      },
      "execution_count": 67,
      "outputs": [
        {
          "output_type": "display_data",
          "data": {
            "text/plain": [
              "<Figure size 800x600 with 1 Axes>"
            ],
            "image/png": "[encoded data removed]"
          },
          "metadata": {}
        }
      ]
    },
    {
      "cell_type": "code",
      "source": [
        "test_val_X_scaled_cnn = test_val_X_scaled.reshape(test_val_X_scaled.shape[0], test_val_X_scaled.shape[1], 1).astype('float32')\n",
        "\n",
        "getMetrics(y_pred_cnn, y_test_scaled)\n",
        "y_pred_test_cnn = cnn_model.predict(test_val_X_scaled_cnn)\n",
        "y_pred_test_original_cnn = (y_pred_test_cnn[0] * y_std) + y_mean\n",
        "\n",
        "print(y_pred_test_original_cnn)"
      ],
      "metadata": {
        "colab": {
          "base_uri": "https://localhost:8080/"
        },
        "id": "91TovAyH91FA",
        "outputId": "2494b59a-446e-436a-8e28-243d964354bd"
      },
      "execution_count": 68,
      "outputs": [
        {
          "output_type": "stream",
          "name": "stdout",
          "text": [
            "MSE:  0.2504882773777992\n",
            "R2:  0.7533868902740541\n",
            "\u001b[1m1/1\u001b[0m \u001b[32m━━━━━━━━━━━━━━━━━━━━\u001b[0m\u001b[37m\u001b[0m \u001b[1m0s\u001b[0m 40ms/step\n",
            "[28.418667]\n"
          ]
        }
      ]
    },
    {
      "cell_type": "code",
      "source": [
        "history_lstm, y_pred_lstm, lstm_model = lstm_regression(input_cnn, X_train_reshaped, y_train_scaled, X_test_reshaped, y_test_scaled)"
      ],
      "metadata": {
        "collapsed": true,
        "id": "2SN63kvRHhUM",
        "colab": {
          "base_uri": "https://localhost:8080/"
        },
        "outputId": "8a6df406-ec4a-487e-8768-dc661061193e"
      },
      "execution_count": 69,
      "outputs": [
        {
          "output_type": "stream",
          "name": "stdout",
          "text": [
            "Epoch 1/100\n",
            "\u001b[1m90/90\u001b[0m \u001b[32m━━━━━━━━━━━━━━━━━━━━\u001b[0m\u001b[37m\u001b[0m \u001b[1m9s\u001b[0m 33ms/step - loss: 0.6112 - mse: 0.6112 - val_loss: 0.3716 - val_mse: 0.3716\n",
            "Epoch 2/100\n",
            "\u001b[1m90/90\u001b[0m \u001b[32m━━━━━━━━━━━━━━━━━━━━\u001b[0m\u001b[37m\u001b[0m \u001b[1m2s\u001b[0m 20ms/step - loss: 0.3742 - mse: 0.3742 - val_loss: 0.3798 - val_mse: 0.3798\n",
            "Epoch 3/100\n",
            "\u001b[1m90/90\u001b[0m \u001b[32m━━━━━━━━━━━━━━━━━━━━\u001b[0m\u001b[37m\u001b[0m \u001b[1m2s\u001b[0m 19ms/step - loss: 0.3567 - mse: 0.3567 - val_loss: 0.3645 - val_mse: 0.3645\n",
            "Epoch 4/100\n",
            "\u001b[1m90/90\u001b[0m \u001b[32m━━━━━━━━━━━━━━━━━━━━\u001b[0m\u001b[37m\u001b[0m \u001b[1m2s\u001b[0m 20ms/step - loss: 0.3706 - mse: 0.3706 - val_loss: 0.3537 - val_mse: 0.3537\n",
            "Epoch 5/100\n",
            "\u001b[1m90/90\u001b[0m \u001b[32m━━━━━━━━━━━━━━━━━━━━\u001b[0m\u001b[37m\u001b[0m \u001b[1m2s\u001b[0m 19ms/step - loss: 0.3599 - mse: 0.3599 - val_loss: 0.3593 - val_mse: 0.3593\n",
            "Epoch 6/100\n",
            "\u001b[1m90/90\u001b[0m \u001b[32m━━━━━━━━━━━━━━━━━━━━\u001b[0m\u001b[37m\u001b[0m \u001b[1m3s\u001b[0m 26ms/step - loss: 0.3565 - mse: 0.3565 - val_loss: 0.3497 - val_mse: 0.3497\n",
            "Epoch 7/100\n",
            "\u001b[1m90/90\u001b[0m \u001b[32m━━━━━━━━━━━━━━━━━━━━\u001b[0m\u001b[37m\u001b[0m \u001b[1m3s\u001b[0m 28ms/step - loss: 0.3385 - mse: 0.3385 - val_loss: 0.3875 - val_mse: 0.3875\n",
            "Epoch 8/100\n",
            "\u001b[1m90/90\u001b[0m \u001b[32m━━━━━━━━━━━━━━━━━━━━\u001b[0m\u001b[37m\u001b[0m \u001b[1m4s\u001b[0m 20ms/step - loss: 0.3521 - mse: 0.3521 - val_loss: 0.3487 - val_mse: 0.3487\n",
            "Epoch 9/100\n",
            "\u001b[1m90/90\u001b[0m \u001b[32m━━━━━━━━━━━━━━━━━━━━\u001b[0m\u001b[37m\u001b[0m \u001b[1m2s\u001b[0m 18ms/step - loss: 0.3539 - mse: 0.3539 - val_loss: 0.3483 - val_mse: 0.3483\n",
            "Epoch 10/100\n",
            "\u001b[1m90/90\u001b[0m \u001b[32m━━━━━━━━━━━━━━━━━━━━\u001b[0m\u001b[37m\u001b[0m \u001b[1m3s\u001b[0m 19ms/step - loss: 0.3461 - mse: 0.3461 - val_loss: 0.3548 - val_mse: 0.3548\n",
            "Epoch 11/100\n",
            "\u001b[1m90/90\u001b[0m \u001b[32m━━━━━━━━━━━━━━━━━━━━\u001b[0m\u001b[37m\u001b[0m \u001b[1m3s\u001b[0m 22ms/step - loss: 0.3402 - mse: 0.3402 - val_loss: 0.3564 - val_mse: 0.3564\n",
            "Epoch 12/100\n",
            "\u001b[1m90/90\u001b[0m \u001b[32m━━━━━━━━━━━━━━━━━━━━\u001b[0m\u001b[37m\u001b[0m \u001b[1m3s\u001b[0m 29ms/step - loss: 0.3424 - mse: 0.3424 - val_loss: 0.3441 - val_mse: 0.3441\n",
            "Epoch 13/100\n",
            "\u001b[1m90/90\u001b[0m \u001b[32m━━━━━━━━━━━━━━━━━━━━\u001b[0m\u001b[37m\u001b[0m \u001b[1m3s\u001b[0m 31ms/step - loss: 0.3415 - mse: 0.3415 - val_loss: 0.3468 - val_mse: 0.3468\n",
            "Epoch 14/100\n",
            "\u001b[1m90/90\u001b[0m \u001b[32m━━━━━━━━━━━━━━━━━━━━\u001b[0m\u001b[37m\u001b[0m \u001b[1m4s\u001b[0m 19ms/step - loss: 0.3462 - mse: 0.3462 - val_loss: 0.3283 - val_mse: 0.3283\n",
            "Epoch 15/100\n",
            "\u001b[1m90/90\u001b[0m \u001b[32m━━━━━━━━━━━━━━━━━━━━\u001b[0m\u001b[37m\u001b[0m \u001b[1m2s\u001b[0m 20ms/step - loss: 0.3290 - mse: 0.3290 - val_loss: 0.3162 - val_mse: 0.3162\n",
            "Epoch 16/100\n",
            "\u001b[1m90/90\u001b[0m \u001b[32m━━━━━━━━━━━━━━━━━━━━\u001b[0m\u001b[37m\u001b[0m \u001b[1m2s\u001b[0m 18ms/step - loss: 0.2960 - mse: 0.2960 - val_loss: 0.2954 - val_mse: 0.2954\n",
            "Epoch 17/100\n",
            "\u001b[1m90/90\u001b[0m \u001b[32m━━━━━━━━━━━━━━━━━━━━\u001b[0m\u001b[37m\u001b[0m \u001b[1m2s\u001b[0m 25ms/step - loss: 0.2825 - mse: 0.2825 - val_loss: 0.3080 - val_mse: 0.3080\n",
            "Epoch 18/100\n",
            "\u001b[1m90/90\u001b[0m \u001b[32m━━━━━━━━━━━━━━━━━━━━\u001b[0m\u001b[37m\u001b[0m \u001b[1m3s\u001b[0m 30ms/step - loss: 0.2811 - mse: 0.2811 - val_loss: 0.2685 - val_mse: 0.2685\n",
            "Epoch 19/100\n",
            "\u001b[1m90/90\u001b[0m \u001b[32m━━━━━━━━━━━━━━━━━━━━\u001b[0m\u001b[37m\u001b[0m \u001b[1m4s\u001b[0m 19ms/step - loss: 0.2705 - mse: 0.2705 - val_loss: 0.2661 - val_mse: 0.2661\n",
            "Epoch 20/100\n",
            "\u001b[1m90/90\u001b[0m \u001b[32m━━━━━━━━━━━━━━━━━━━━\u001b[0m\u001b[37m\u001b[0m \u001b[1m3s\u001b[0m 20ms/step - loss: 0.2694 - mse: 0.2694 - val_loss: 0.2522 - val_mse: 0.2522\n",
            "Epoch 21/100\n",
            "\u001b[1m90/90\u001b[0m \u001b[32m━━━━━━━━━━━━━━━━━━━━\u001b[0m\u001b[37m\u001b[0m \u001b[1m2s\u001b[0m 19ms/step - loss: 0.2554 - mse: 0.2554 - val_loss: 0.2563 - val_mse: 0.2563\n",
            "Epoch 22/100\n",
            "\u001b[1m90/90\u001b[0m \u001b[32m━━━━━━━━━━━━━━━━━━━━\u001b[0m\u001b[37m\u001b[0m \u001b[1m3s\u001b[0m 26ms/step - loss: 0.2605 - mse: 0.2605 - val_loss: 0.2888 - val_mse: 0.2888\n",
            "Epoch 23/100\n",
            "\u001b[1m90/90\u001b[0m \u001b[32m━━━━━━━━━━━━━━━━━━━━\u001b[0m\u001b[37m\u001b[0m \u001b[1m3s\u001b[0m 30ms/step - loss: 0.2369 - mse: 0.2369 - val_loss: 0.2377 - val_mse: 0.2377\n",
            "Epoch 24/100\n",
            "\u001b[1m90/90\u001b[0m \u001b[32m━━━━━━━━━━━━━━━━━━━━\u001b[0m\u001b[37m\u001b[0m \u001b[1m4s\u001b[0m 18ms/step - loss: 0.2239 - mse: 0.2239 - val_loss: 0.2526 - val_mse: 0.2526\n",
            "Epoch 25/100\n",
            "\u001b[1m90/90\u001b[0m \u001b[32m━━━━━━━━━━━━━━━━━━━━\u001b[0m\u001b[37m\u001b[0m \u001b[1m4s\u001b[0m 39ms/step - loss: 0.2430 - mse: 0.2430 - val_loss: 0.2611 - val_mse: 0.2611\n",
            "Epoch 26/100\n",
            "\u001b[1m90/90\u001b[0m \u001b[32m━━━━━━━━━━━━━━━━━━━━\u001b[0m\u001b[37m\u001b[0m \u001b[1m4s\u001b[0m 43ms/step - loss: 0.2401 - mse: 0.2401 - val_loss: 0.2761 - val_mse: 0.2761\n",
            "Epoch 27/100\n",
            "\u001b[1m90/90\u001b[0m \u001b[32m━━━━━━━━━━━━━━━━━━━━\u001b[0m\u001b[37m\u001b[0m \u001b[1m5s\u001b[0m 45ms/step - loss: 0.2408 - mse: 0.2408 - val_loss: 0.2445 - val_mse: 0.2445\n",
            "Epoch 28/100\n",
            "\u001b[1m90/90\u001b[0m \u001b[32m━━━━━━━━━━━━━━━━━━━━\u001b[0m\u001b[37m\u001b[0m \u001b[1m4s\u001b[0m 38ms/step - loss: 0.2295 - mse: 0.2295 - val_loss: 0.2718 - val_mse: 0.2718\n",
            "Epoch 29/100\n",
            "\u001b[1m90/90\u001b[0m \u001b[32m━━━━━━━━━━━━━━━━━━━━\u001b[0m\u001b[37m\u001b[0m \u001b[1m4s\u001b[0m 29ms/step - loss: 0.2210 - mse: 0.2210 - val_loss: 0.2277 - val_mse: 0.2277\n",
            "Epoch 30/100\n",
            "\u001b[1m90/90\u001b[0m \u001b[32m━━━━━━━━━━━━━━━━━━━━\u001b[0m\u001b[37m\u001b[0m \u001b[1m5s\u001b[0m 30ms/step - loss: 0.2226 - mse: 0.2226 - val_loss: 0.2414 - val_mse: 0.2414\n",
            "Epoch 31/100\n",
            "\u001b[1m90/90\u001b[0m \u001b[32m━━━━━━━━━━━━━━━━━━━━\u001b[0m\u001b[37m\u001b[0m \u001b[1m4s\u001b[0m 18ms/step - loss: 0.2246 - mse: 0.2246 - val_loss: 0.2484 - val_mse: 0.2484\n",
            "Epoch 32/100\n",
            "\u001b[1m90/90\u001b[0m \u001b[32m━━━━━━━━━━━━━━━━━━━━\u001b[0m\u001b[37m\u001b[0m \u001b[1m2s\u001b[0m 18ms/step - loss: 0.2113 - mse: 0.2113 - val_loss: 0.2297 - val_mse: 0.2297\n",
            "Epoch 33/100\n",
            "\u001b[1m90/90\u001b[0m \u001b[32m━━━━━━━━━━━━━━━━━━━━\u001b[0m\u001b[37m\u001b[0m \u001b[1m2s\u001b[0m 17ms/step - loss: 0.2148 - mse: 0.2148 - val_loss: 0.2320 - val_mse: 0.2320\n",
            "Epoch 34/100\n",
            "\u001b[1m90/90\u001b[0m \u001b[32m━━━━━━━━━━━━━━━━━━━━\u001b[0m\u001b[37m\u001b[0m \u001b[1m2s\u001b[0m 18ms/step - loss: 0.2226 - mse: 0.2226 - val_loss: 0.2385 - val_mse: 0.2385\n",
            "Epoch 35/100\n",
            "\u001b[1m90/90\u001b[0m \u001b[32m━━━━━━━━━━━━━━━━━━━━\u001b[0m\u001b[37m\u001b[0m \u001b[1m2s\u001b[0m 26ms/step - loss: 0.2168 - mse: 0.2168 - val_loss: 0.2304 - val_mse: 0.2304\n",
            "Epoch 36/100\n",
            "\u001b[1m90/90\u001b[0m \u001b[32m━━━━━━━━━━━━━━━━━━━━\u001b[0m\u001b[37m\u001b[0m \u001b[1m3s\u001b[0m 30ms/step - loss: 0.2111 - mse: 0.2111 - val_loss: 0.2480 - val_mse: 0.2480\n",
            "Epoch 37/100\n",
            "\u001b[1m90/90\u001b[0m \u001b[32m━━━━━━━━━━━━━━━━━━━━\u001b[0m\u001b[37m\u001b[0m \u001b[1m4s\u001b[0m 22ms/step - loss: 0.2093 - mse: 0.2093 - val_loss: 0.2532 - val_mse: 0.2532\n",
            "Epoch 38/100\n",
            "\u001b[1m90/90\u001b[0m \u001b[32m━━━━━━━━━━━━━━━━━━━━\u001b[0m\u001b[37m\u001b[0m \u001b[1m2s\u001b[0m 18ms/step - loss: 0.2171 - mse: 0.2171 - val_loss: 0.2284 - val_mse: 0.2284\n",
            "Epoch 39/100\n",
            "\u001b[1m90/90\u001b[0m \u001b[32m━━━━━━━━━━━━━━━━━━━━\u001b[0m\u001b[37m\u001b[0m \u001b[1m3s\u001b[0m 18ms/step - loss: 0.2025 - mse: 0.2025 - val_loss: 0.2354 - val_mse: 0.2354\n",
            "Epoch 40/100\n",
            "\u001b[1m90/90\u001b[0m \u001b[32m━━━━━━━━━━━━━━━━━━━━\u001b[0m\u001b[37m\u001b[0m \u001b[1m3s\u001b[0m 28ms/step - loss: 0.2129 - mse: 0.2129 - val_loss: 0.2214 - val_mse: 0.2214\n",
            "Epoch 41/100\n",
            "\u001b[1m90/90\u001b[0m \u001b[32m━━━━━━━━━━━━━━━━━━━━\u001b[0m\u001b[37m\u001b[0m \u001b[1m3s\u001b[0m 29ms/step - loss: 0.2128 - mse: 0.2128 - val_loss: 0.2275 - val_mse: 0.2275\n",
            "Epoch 42/100\n",
            "\u001b[1m90/90\u001b[0m \u001b[32m━━━━━━━━━━━━━━━━━━━━\u001b[0m\u001b[37m\u001b[0m \u001b[1m2s\u001b[0m 23ms/step - loss: 0.2095 - mse: 0.2095 - val_loss: 0.2369 - val_mse: 0.2369\n",
            "Epoch 43/100\n",
            "\u001b[1m90/90\u001b[0m \u001b[32m━━━━━━━━━━━━━━━━━━━━\u001b[0m\u001b[37m\u001b[0m \u001b[1m2s\u001b[0m 20ms/step - loss: 0.2011 - mse: 0.2011 - val_loss: 0.2634 - val_mse: 0.2634\n",
            "Epoch 44/100\n",
            "\u001b[1m90/90\u001b[0m \u001b[32m━━━━━━━━━━━━━━━━━━━━\u001b[0m\u001b[37m\u001b[0m \u001b[1m2s\u001b[0m 19ms/step - loss: 0.2065 - mse: 0.2065 - val_loss: 0.2266 - val_mse: 0.2266\n",
            "Epoch 45/100\n",
            "\u001b[1m90/90\u001b[0m \u001b[32m━━━━━━━━━━━━━━━━━━━━\u001b[0m\u001b[37m\u001b[0m \u001b[1m2s\u001b[0m 20ms/step - loss: 0.2026 - mse: 0.2026 - val_loss: 0.2442 - val_mse: 0.2442\n",
            "Epoch 46/100\n",
            "\u001b[1m90/90\u001b[0m \u001b[32m━━━━━━━━━━━━━━━━━━━━\u001b[0m\u001b[37m\u001b[0m \u001b[1m2s\u001b[0m 18ms/step - loss: 0.1983 - mse: 0.1983 - val_loss: 0.2202 - val_mse: 0.2202\n",
            "Epoch 47/100\n",
            "\u001b[1m90/90\u001b[0m \u001b[32m━━━━━━━━━━━━━━━━━━━━\u001b[0m\u001b[37m\u001b[0m \u001b[1m4s\u001b[0m 29ms/step - loss: 0.1984 - mse: 0.1984 - val_loss: 0.2346 - val_mse: 0.2346\n",
            "Epoch 48/100\n",
            "\u001b[1m90/90\u001b[0m \u001b[32m━━━━━━━━━━━━━━━━━━━━\u001b[0m\u001b[37m\u001b[0m \u001b[1m4s\u001b[0m 18ms/step - loss: 0.2077 - mse: 0.2077 - val_loss: 0.2439 - val_mse: 0.2439\n",
            "Epoch 49/100\n",
            "\u001b[1m90/90\u001b[0m \u001b[32m━━━━━━━━━━━━━━━━━━━━\u001b[0m\u001b[37m\u001b[0m \u001b[1m3s\u001b[0m 18ms/step - loss: 0.1935 - mse: 0.1935 - val_loss: 0.2211 - val_mse: 0.2211\n",
            "Epoch 50/100\n",
            "\u001b[1m90/90\u001b[0m \u001b[32m━━━━━━━━━━━━━━━━━━━━\u001b[0m\u001b[37m\u001b[0m \u001b[1m2s\u001b[0m 18ms/step - loss: 0.2036 - mse: 0.2036 - val_loss: 0.2309 - val_mse: 0.2309\n",
            "Epoch 51/100\n",
            "\u001b[1m90/90\u001b[0m \u001b[32m━━━━━━━━━━━━━━━━━━━━\u001b[0m\u001b[37m\u001b[0m \u001b[1m2s\u001b[0m 19ms/step - loss: 0.1912 - mse: 0.1912 - val_loss: 0.2414 - val_mse: 0.2414\n",
            "Epoch 52/100\n",
            "\u001b[1m90/90\u001b[0m \u001b[32m━━━━━━━━━━━━━━━━━━━━\u001b[0m\u001b[37m\u001b[0m \u001b[1m2s\u001b[0m 21ms/step - loss: 0.2049 - mse: 0.2049 - val_loss: 0.2356 - val_mse: 0.2356\n",
            "Epoch 53/100\n",
            "\u001b[1m90/90\u001b[0m \u001b[32m━━━━━━━━━━━━━━━━━━━━\u001b[0m\u001b[37m\u001b[0m \u001b[1m4s\u001b[0m 35ms/step - loss: 0.1947 - mse: 0.1947 - val_loss: 0.2426 - val_mse: 0.2426\n",
            "Epoch 54/100\n",
            "\u001b[1m90/90\u001b[0m \u001b[32m━━━━━━━━━━━━━━━━━━━━\u001b[0m\u001b[37m\u001b[0m \u001b[1m4s\u001b[0m 23ms/step - loss: 0.1998 - mse: 0.1998 - val_loss: 0.2432 - val_mse: 0.2432\n",
            "Epoch 55/100\n",
            "\u001b[1m90/90\u001b[0m \u001b[32m━━━━━━━━━━━━━━━━━━━━\u001b[0m\u001b[37m\u001b[0m \u001b[1m3s\u001b[0m 29ms/step - loss: 0.1921 - mse: 0.1921 - val_loss: 0.2260 - val_mse: 0.2260\n",
            "Epoch 56/100\n",
            "\u001b[1m90/90\u001b[0m \u001b[32m━━━━━━━━━━━━━━━━━━━━\u001b[0m\u001b[37m\u001b[0m \u001b[1m4s\u001b[0m 22ms/step - loss: 0.1962 - mse: 0.1962 - val_loss: 0.2436 - val_mse: 0.2436\n",
            "Epoch 57/100\n",
            "\u001b[1m90/90\u001b[0m \u001b[32m━━━━━━━━━━━━━━━━━━━━\u001b[0m\u001b[37m\u001b[0m \u001b[1m3s\u001b[0m 29ms/step - loss: 0.1958 - mse: 0.1958 - val_loss: 0.2340 - val_mse: 0.2340\n",
            "Epoch 58/100\n",
            "\u001b[1m90/90\u001b[0m \u001b[32m━━━━━━━━━━━━━━━━━━━━\u001b[0m\u001b[37m\u001b[0m \u001b[1m2s\u001b[0m 26ms/step - loss: 0.1906 - mse: 0.1906 - val_loss: 0.2481 - val_mse: 0.2481\n",
            "Epoch 59/100\n",
            "\u001b[1m90/90\u001b[0m \u001b[32m━━━━━━━━━━━━━━━━━━━━\u001b[0m\u001b[37m\u001b[0m \u001b[1m2s\u001b[0m 19ms/step - loss: 0.1835 - mse: 0.1835 - val_loss: 0.2212 - val_mse: 0.2212\n",
            "Epoch 60/100\n",
            "\u001b[1m90/90\u001b[0m \u001b[32m━━━━━━━━━━━━━━━━━━━━\u001b[0m\u001b[37m\u001b[0m \u001b[1m2s\u001b[0m 18ms/step - loss: 0.1987 - mse: 0.1987 - val_loss: 0.2548 - val_mse: 0.2548\n",
            "Epoch 61/100\n",
            "\u001b[1m90/90\u001b[0m \u001b[32m━━━━━━━━━━━━━━━━━━━━\u001b[0m\u001b[37m\u001b[0m \u001b[1m2s\u001b[0m 19ms/step - loss: 0.1879 - mse: 0.1879 - val_loss: 0.2446 - val_mse: 0.2446\n",
            "Epoch 62/100\n",
            "\u001b[1m90/90\u001b[0m \u001b[32m━━━━━━━━━━━━━━━━━━━━\u001b[0m\u001b[37m\u001b[0m \u001b[1m3s\u001b[0m 20ms/step - loss: 0.1923 - mse: 0.1923 - val_loss: 0.2262 - val_mse: 0.2262\n",
            "Epoch 63/100\n",
            "\u001b[1m90/90\u001b[0m \u001b[32m━━━━━━━━━━━━━━━━━━━━\u001b[0m\u001b[37m\u001b[0m \u001b[1m4s\u001b[0m 30ms/step - loss: 0.1901 - mse: 0.1901 - val_loss: 0.2303 - val_mse: 0.2303\n",
            "Epoch 64/100\n",
            "\u001b[1m90/90\u001b[0m \u001b[32m━━━━━━━━━━━━━━━━━━━━\u001b[0m\u001b[37m\u001b[0m \u001b[1m4s\u001b[0m 20ms/step - loss: 0.1995 - mse: 0.1995 - val_loss: 0.2438 - val_mse: 0.2438\n",
            "Epoch 65/100\n",
            "\u001b[1m90/90\u001b[0m \u001b[32m━━━━━━━━━━━━━━━━━━━━\u001b[0m\u001b[37m\u001b[0m \u001b[1m2s\u001b[0m 22ms/step - loss: 0.1927 - mse: 0.1927 - val_loss: 0.2342 - val_mse: 0.2342\n",
            "Epoch 66/100\n",
            "\u001b[1m90/90\u001b[0m \u001b[32m━━━━━━━━━━━━━━━━━━━━\u001b[0m\u001b[37m\u001b[0m \u001b[1m2s\u001b[0m 20ms/step - loss: 0.1912 - mse: 0.1912 - val_loss: 0.2240 - val_mse: 0.2240\n",
            "Epoch 67/100\n",
            "\u001b[1m90/90\u001b[0m \u001b[32m━━━━━━━━━━━━━━━━━━━━\u001b[0m\u001b[37m\u001b[0m \u001b[1m2s\u001b[0m 18ms/step - loss: 0.1949 - mse: 0.1949 - val_loss: 0.2291 - val_mse: 0.2291\n",
            "Epoch 68/100\n",
            "\u001b[1m90/90\u001b[0m \u001b[32m━━━━━━━━━━━━━━━━━━━━\u001b[0m\u001b[37m\u001b[0m \u001b[1m4s\u001b[0m 29ms/step - loss: 0.1922 - mse: 0.1922 - val_loss: 0.2352 - val_mse: 0.2352\n",
            "Epoch 69/100\n",
            "\u001b[1m90/90\u001b[0m \u001b[32m━━━━━━━━━━━━━━━━━━━━\u001b[0m\u001b[37m\u001b[0m \u001b[1m4s\u001b[0m 20ms/step - loss: 0.1856 - mse: 0.1856 - val_loss: 0.2261 - val_mse: 0.2261\n",
            "Epoch 70/100\n",
            "\u001b[1m90/90\u001b[0m \u001b[32m━━━━━━━━━━━━━━━━━━━━\u001b[0m\u001b[37m\u001b[0m \u001b[1m2s\u001b[0m 18ms/step - loss: 0.1839 - mse: 0.1839 - val_loss: 0.2329 - val_mse: 0.2329\n",
            "Epoch 71/100\n",
            "\u001b[1m90/90\u001b[0m \u001b[32m━━━━━━━━━━━━━━━━━━━━\u001b[0m\u001b[37m\u001b[0m \u001b[1m3s\u001b[0m 18ms/step - loss: 0.1944 - mse: 0.1944 - val_loss: 0.2169 - val_mse: 0.2169\n",
            "Epoch 72/100\n",
            "\u001b[1m90/90\u001b[0m \u001b[32m━━━━━━━━━━━━━━━━━━━━\u001b[0m\u001b[37m\u001b[0m \u001b[1m3s\u001b[0m 20ms/step - loss: 0.1900 - mse: 0.1900 - val_loss: 0.2370 - val_mse: 0.2370\n",
            "Epoch 73/100\n",
            "\u001b[1m90/90\u001b[0m \u001b[32m━━━━━━━━━━━━━━━━━━━━\u001b[0m\u001b[37m\u001b[0m \u001b[1m2s\u001b[0m 27ms/step - loss: 0.1865 - mse: 0.1865 - val_loss: 0.2382 - val_mse: 0.2382\n",
            "Epoch 74/100\n",
            "\u001b[1m90/90\u001b[0m \u001b[32m━━━━━━━━━━━━━━━━━━━━\u001b[0m\u001b[37m\u001b[0m \u001b[1m3s\u001b[0m 29ms/step - loss: 0.2011 - mse: 0.2011 - val_loss: 0.2398 - val_mse: 0.2398\n",
            "Epoch 75/100\n",
            "\u001b[1m90/90\u001b[0m \u001b[32m━━━━━━━━━━━━━━━━━━━━\u001b[0m\u001b[37m\u001b[0m \u001b[1m4s\u001b[0m 19ms/step - loss: 0.1882 - mse: 0.1882 - val_loss: 0.2459 - val_mse: 0.2459\n",
            "Epoch 76/100\n",
            "\u001b[1m90/90\u001b[0m \u001b[32m━━━━━━━━━━━━━━━━━━━━\u001b[0m\u001b[37m\u001b[0m \u001b[1m2s\u001b[0m 19ms/step - loss: 0.1804 - mse: 0.1804 - val_loss: 0.2291 - val_mse: 0.2291\n",
            "Epoch 77/100\n",
            "\u001b[1m90/90\u001b[0m \u001b[32m━━━━━━━━━━━━━━━━━━━━\u001b[0m\u001b[37m\u001b[0m \u001b[1m2s\u001b[0m 18ms/step - loss: 0.1901 - mse: 0.1901 - val_loss: 0.2294 - val_mse: 0.2294\n",
            "Epoch 78/100\n",
            "\u001b[1m90/90\u001b[0m \u001b[32m━━━━━━━━━━━━━━━━━━━━\u001b[0m\u001b[37m\u001b[0m \u001b[1m2s\u001b[0m 18ms/step - loss: 0.1928 - mse: 0.1928 - val_loss: 0.2397 - val_mse: 0.2397\n",
            "Epoch 79/100\n",
            "\u001b[1m90/90\u001b[0m \u001b[32m━━━━━━━━━━━━━━━━━━━━\u001b[0m\u001b[37m\u001b[0m \u001b[1m2s\u001b[0m 23ms/step - loss: 0.1850 - mse: 0.1850 - val_loss: 0.2292 - val_mse: 0.2292\n",
            "Epoch 80/100\n",
            "\u001b[1m90/90\u001b[0m \u001b[32m━━━━━━━━━━━━━━━━━━━━\u001b[0m\u001b[37m\u001b[0m \u001b[1m3s\u001b[0m 30ms/step - loss: 0.1828 - mse: 0.1828 - val_loss: 0.2277 - val_mse: 0.2277\n",
            "Epoch 81/100\n",
            "\u001b[1m90/90\u001b[0m \u001b[32m━━━━━━━━━━━━━━━━━━━━\u001b[0m\u001b[37m\u001b[0m \u001b[1m2s\u001b[0m 25ms/step - loss: 0.1917 - mse: 0.1917 - val_loss: 0.2454 - val_mse: 0.2454\n",
            "Epoch 82/100\n",
            "\u001b[1m90/90\u001b[0m \u001b[32m━━━━━━━━━━━━━━━━━━━━\u001b[0m\u001b[37m\u001b[0m \u001b[1m2s\u001b[0m 18ms/step - loss: 0.1839 - mse: 0.1839 - val_loss: 0.2319 - val_mse: 0.2319\n",
            "Epoch 83/100\n",
            "\u001b[1m90/90\u001b[0m \u001b[32m━━━━━━━━━━━━━━━━━━━━\u001b[0m\u001b[37m\u001b[0m \u001b[1m2s\u001b[0m 20ms/step - loss: 0.1843 - mse: 0.1843 - val_loss: 0.2278 - val_mse: 0.2278\n",
            "Epoch 84/100\n",
            "\u001b[1m90/90\u001b[0m \u001b[32m━━━━━━━━━━━━━━━━━━━━\u001b[0m\u001b[37m\u001b[0m \u001b[1m2s\u001b[0m 18ms/step - loss: 0.1838 - mse: 0.1838 - val_loss: 0.2404 - val_mse: 0.2404\n",
            "Epoch 85/100\n",
            "\u001b[1m90/90\u001b[0m \u001b[32m━━━━━━━━━━━━━━━━━━━━\u001b[0m\u001b[37m\u001b[0m \u001b[1m2s\u001b[0m 18ms/step - loss: 0.1890 - mse: 0.1890 - val_loss: 0.2603 - val_mse: 0.2603\n",
            "Epoch 86/100\n",
            "\u001b[1m90/90\u001b[0m \u001b[32m━━━━━━━━━━━━━━━━━━━━\u001b[0m\u001b[37m\u001b[0m \u001b[1m3s\u001b[0m 26ms/step - loss: 0.1885 - mse: 0.1885 - val_loss: 0.2496 - val_mse: 0.2496\n",
            "Epoch 87/100\n",
            "\u001b[1m90/90\u001b[0m \u001b[32m━━━━━━━━━━━━━━━━━━━━\u001b[0m\u001b[37m\u001b[0m \u001b[1m3s\u001b[0m 29ms/step - loss: 0.1847 - mse: 0.1847 - val_loss: 0.2288 - val_mse: 0.2288\n",
            "Epoch 88/100\n",
            "\u001b[1m90/90\u001b[0m \u001b[32m━━━━━━━━━━━━━━━━━━━━\u001b[0m\u001b[37m\u001b[0m \u001b[1m6s\u001b[0m 36ms/step - loss: 0.1819 - mse: 0.1819 - val_loss: 0.2329 - val_mse: 0.2329\n",
            "Epoch 89/100\n",
            "\u001b[1m90/90\u001b[0m \u001b[32m━━━━━━━━━━━━━━━━━━━━\u001b[0m\u001b[37m\u001b[0m \u001b[1m3s\u001b[0m 18ms/step - loss: 0.1775 - mse: 0.1775 - val_loss: 0.2250 - val_mse: 0.2250\n",
            "Epoch 90/100\n",
            "\u001b[1m90/90\u001b[0m \u001b[32m━━━━━━━━━━━━━━━━━━━━\u001b[0m\u001b[37m\u001b[0m \u001b[1m4s\u001b[0m 29ms/step - loss: 0.1883 - mse: 0.1883 - val_loss: 0.2284 - val_mse: 0.2284\n",
            "Epoch 91/100\n",
            "\u001b[1m90/90\u001b[0m \u001b[32m━━━━━━━━━━━━━━━━━━━━\u001b[0m\u001b[37m\u001b[0m \u001b[1m3s\u001b[0m 30ms/step - loss: 0.1935 - mse: 0.1935 - val_loss: 0.2616 - val_mse: 0.2616\n",
            "Epoch 92/100\n",
            "\u001b[1m90/90\u001b[0m \u001b[32m━━━━━━━━━━━━━━━━━━━━\u001b[0m\u001b[37m\u001b[0m \u001b[1m4s\u001b[0m 20ms/step - loss: 0.1843 - mse: 0.1843 - val_loss: 0.2522 - val_mse: 0.2522\n",
            "Epoch 93/100\n",
            "\u001b[1m90/90\u001b[0m \u001b[32m━━━━━━━━━━━━━━━━━━━━\u001b[0m\u001b[37m\u001b[0m \u001b[1m2s\u001b[0m 19ms/step - loss: 0.1801 - mse: 0.1801 - val_loss: 0.2484 - val_mse: 0.2484\n",
            "Epoch 94/100\n",
            "\u001b[1m90/90\u001b[0m \u001b[32m━━━━━━━━━━━━━━━━━━━━\u001b[0m\u001b[37m\u001b[0m \u001b[1m2s\u001b[0m 20ms/step - loss: 0.1858 - mse: 0.1858 - val_loss: 0.2397 - val_mse: 0.2397\n",
            "Epoch 95/100\n",
            "\u001b[1m90/90\u001b[0m \u001b[32m━━━━━━━━━━━━━━━━━━━━\u001b[0m\u001b[37m\u001b[0m \u001b[1m2s\u001b[0m 18ms/step - loss: 0.1881 - mse: 0.1881 - val_loss: 0.2409 - val_mse: 0.2409\n",
            "Epoch 96/100\n",
            "\u001b[1m90/90\u001b[0m \u001b[32m━━━━━━━━━━━━━━━━━━━━\u001b[0m\u001b[37m\u001b[0m \u001b[1m2s\u001b[0m 25ms/step - loss: 0.1854 - mse: 0.1854 - val_loss: 0.2302 - val_mse: 0.2302\n",
            "Epoch 97/100\n",
            "\u001b[1m90/90\u001b[0m \u001b[32m━━━━━━━━━━━━━━━━━━━━\u001b[0m\u001b[37m\u001b[0m \u001b[1m3s\u001b[0m 30ms/step - loss: 0.1909 - mse: 0.1909 - val_loss: 0.2329 - val_mse: 0.2329\n",
            "Epoch 98/100\n",
            "\u001b[1m90/90\u001b[0m \u001b[32m━━━━━━━━━━━━━━━━━━━━\u001b[0m\u001b[37m\u001b[0m \u001b[1m5s\u001b[0m 24ms/step - loss: 0.1807 - mse: 0.1807 - val_loss: 0.2243 - val_mse: 0.2243\n",
            "Epoch 99/100\n",
            "\u001b[1m90/90\u001b[0m \u001b[32m━━━━━━━━━━━━━━━━━━━━\u001b[0m\u001b[37m\u001b[0m \u001b[1m2s\u001b[0m 23ms/step - loss: 0.1817 - mse: 0.1817 - val_loss: 0.2508 - val_mse: 0.2508\n",
            "Epoch 100/100\n",
            "\u001b[1m90/90\u001b[0m \u001b[32m━━━━━━━━━━━━━━━━━━━━\u001b[0m\u001b[37m\u001b[0m \u001b[1m2s\u001b[0m 24ms/step - loss: 0.1912 - mse: 0.1912 - val_loss: 0.2442 - val_mse: 0.2442\n",
            "\u001b[1m45/45\u001b[0m \u001b[32m━━━━━━━━━━━━━━━━━━━━\u001b[0m\u001b[37m\u001b[0m \u001b[1m1s\u001b[0m 18ms/step\n"
          ]
        }
      ]
    },
    {
      "cell_type": "code",
      "source": [
        "plotLosses(history_lstm)"
      ],
      "metadata": {
        "id": "veqOluz0LiHv",
        "colab": {
          "base_uri": "https://localhost:8080/",
          "height": 545
        },
        "outputId": "a5b8777a-5aaa-4b83-abe4-dffe39149fd3"
      },
      "execution_count": 70,
      "outputs": [
        {
          "output_type": "display_data",
          "data": {
            "text/plain": [
              "<Figure size 800x600 with 1 Axes>"
            ],
            "image/png": "[encoded data removed]"
          },
          "metadata": {}
        }
      ]
    },
    {
      "cell_type": "code",
      "source": [
        "test_val_X_scaled_lstm = test_val_X_scaled_cnn\n",
        "\n",
        "getMetrics(y_pred_lstm, y_test_scaled)\n",
        "y_pred_test_lstm = lstm_model.predict(test_val_X_scaled_lstm)\n",
        "y_pred_test_original_lstm = (y_pred_test_lstm[0] * y_std) + y_mean\n",
        "\n",
        "print(y_pred_test_original_lstm)"
      ],
      "metadata": {
        "id": "iVwRIFVCHwl8",
        "colab": {
          "base_uri": "https://localhost:8080/"
        },
        "outputId": "1ef36098-e318-4031-c3aa-4f3f1905f7bd"
      },
      "execution_count": 71,
      "outputs": [
        {
          "output_type": "stream",
          "name": "stdout",
          "text": [
            "MSE:  0.24421060568056438\n",
            "R2:  0.759567443533074\n",
            "\u001b[1m1/1\u001b[0m \u001b[32m━━━━━━━━━━━━━━━━━━━━\u001b[0m\u001b[37m\u001b[0m \u001b[1m0s\u001b[0m 65ms/step\n",
            "[26.271488]\n"
          ]
        }
      ]
    },
    {
      "cell_type": "markdown",
      "source": [
        "# GRU"
      ],
      "metadata": {
        "id": "PBEzIeaQLQ_x"
      }
    },
    {
      "cell_type": "code",
      "source": [
        "history_gru, y_pred_gru, gru_model = gru_regression(input_cnn, X_train_reshaped, y_train_scaled, X_test_reshaped, y_test_scaled)"
      ],
      "metadata": {
        "collapsed": true,
        "id": "pilOpEtRLQp7",
        "colab": {
          "base_uri": "https://localhost:8080/"
        },
        "outputId": "16ccf864-9c44-4bdd-f558-f245b0f1695f"
      },
      "execution_count": 72,
      "outputs": [
        {
          "output_type": "stream",
          "name": "stdout",
          "text": [
            "Epoch 1/100\n",
            "\u001b[1m90/90\u001b[0m \u001b[32m━━━━━━━━━━━━━━━━━━━━\u001b[0m\u001b[37m\u001b[0m \u001b[1m9s\u001b[0m 29ms/step - loss: 0.6694 - mse: 0.6694 - val_loss: 0.3682 - val_mse: 0.3682\n",
            "Epoch 2/100\n",
            "\u001b[1m90/90\u001b[0m \u001b[32m━━━━━━━━━━━━━━━━━━━━\u001b[0m\u001b[37m\u001b[0m \u001b[1m2s\u001b[0m 23ms/step - loss: 0.3737 - mse: 0.3737 - val_loss: 0.3494 - val_mse: 0.3494\n",
            "Epoch 3/100\n",
            "\u001b[1m90/90\u001b[0m \u001b[32m━━━━━━━━━━━━━━━━━━━━\u001b[0m\u001b[37m\u001b[0m \u001b[1m2s\u001b[0m 24ms/step - loss: 0.3719 - mse: 0.3719 - val_loss: 0.3511 - val_mse: 0.3511\n",
            "Epoch 4/100\n",
            "\u001b[1m90/90\u001b[0m \u001b[32m━━━━━━━━━━━━━━━━━━━━\u001b[0m\u001b[37m\u001b[0m \u001b[1m3s\u001b[0m 36ms/step - loss: 0.3587 - mse: 0.3587 - val_loss: 0.3462 - val_mse: 0.3462\n",
            "Epoch 5/100\n",
            "\u001b[1m90/90\u001b[0m \u001b[32m━━━━━━━━━━━━━━━━━━━━\u001b[0m\u001b[37m\u001b[0m \u001b[1m4s\u001b[0m 24ms/step - loss: 0.3651 - mse: 0.3651 - val_loss: 0.3564 - val_mse: 0.3564\n",
            "Epoch 6/100\n",
            "\u001b[1m90/90\u001b[0m \u001b[32m━━━━━━━━━━━━━━━━━━━━\u001b[0m\u001b[37m\u001b[0m \u001b[1m2s\u001b[0m 22ms/step - loss: 0.3556 - mse: 0.3556 - val_loss: 0.3424 - val_mse: 0.3424\n",
            "Epoch 7/100\n",
            "\u001b[1m90/90\u001b[0m \u001b[32m━━━━━━━━━━━━━━━━━━━━\u001b[0m\u001b[37m\u001b[0m \u001b[1m3s\u001b[0m 23ms/step - loss: 0.3499 - mse: 0.3499 - val_loss: 0.3469 - val_mse: 0.3469\n",
            "Epoch 8/100\n",
            "\u001b[1m90/90\u001b[0m \u001b[32m━━━━━━━━━━━━━━━━━━━━\u001b[0m\u001b[37m\u001b[0m \u001b[1m3s\u001b[0m 27ms/step - loss: 0.3454 - mse: 0.3454 - val_loss: 0.3236 - val_mse: 0.3236\n",
            "Epoch 9/100\n",
            "\u001b[1m90/90\u001b[0m \u001b[32m━━━━━━━━━━━━━━━━━━━━\u001b[0m\u001b[37m\u001b[0m \u001b[1m3s\u001b[0m 36ms/step - loss: 0.3141 - mse: 0.3141 - val_loss: 0.2849 - val_mse: 0.2849\n",
            "Epoch 10/100\n",
            "\u001b[1m90/90\u001b[0m \u001b[32m━━━━━━━━━━━━━━━━━━━━\u001b[0m\u001b[37m\u001b[0m \u001b[1m2s\u001b[0m 23ms/step - loss: 0.2871 - mse: 0.2871 - val_loss: 0.2691 - val_mse: 0.2691\n",
            "Epoch 11/100\n",
            "\u001b[1m90/90\u001b[0m \u001b[32m━━━━━━━━━━━━━━━━━━━━\u001b[0m\u001b[37m\u001b[0m \u001b[1m2s\u001b[0m 21ms/step - loss: 0.2638 - mse: 0.2638 - val_loss: 0.2624 - val_mse: 0.2624\n",
            "Epoch 12/100\n",
            "\u001b[1m90/90\u001b[0m \u001b[32m━━━━━━━━━━━━━━━━━━━━\u001b[0m\u001b[37m\u001b[0m \u001b[1m2s\u001b[0m 21ms/step - loss: 0.2424 - mse: 0.2424 - val_loss: 0.2702 - val_mse: 0.2702\n",
            "Epoch 13/100\n",
            "\u001b[1m90/90\u001b[0m \u001b[32m━━━━━━━━━━━━━━━━━━━━\u001b[0m\u001b[37m\u001b[0m \u001b[1m3s\u001b[0m 21ms/step - loss: 0.2290 - mse: 0.2290 - val_loss: 0.2717 - val_mse: 0.2717\n",
            "Epoch 14/100\n",
            "\u001b[1m90/90\u001b[0m \u001b[32m━━━━━━━━━━━━━━━━━━━━\u001b[0m\u001b[37m\u001b[0m \u001b[1m3s\u001b[0m 29ms/step - loss: 0.2398 - mse: 0.2398 - val_loss: 0.2499 - val_mse: 0.2499\n",
            "Epoch 15/100\n",
            "\u001b[1m90/90\u001b[0m \u001b[32m━━━━━━━━━━━━━━━━━━━━\u001b[0m\u001b[37m\u001b[0m \u001b[1m3s\u001b[0m 37ms/step - loss: 0.2296 - mse: 0.2296 - val_loss: 0.2395 - val_mse: 0.2395\n",
            "Epoch 16/100\n",
            "\u001b[1m90/90\u001b[0m \u001b[32m━━━━━━━━━━━━━━━━━━━━\u001b[0m\u001b[37m\u001b[0m \u001b[1m4s\u001b[0m 22ms/step - loss: 0.2159 - mse: 0.2159 - val_loss: 0.2314 - val_mse: 0.2314\n",
            "Epoch 17/100\n",
            "\u001b[1m90/90\u001b[0m \u001b[32m━━━━━━━━━━━━━━━━━━━━\u001b[0m\u001b[37m\u001b[0m \u001b[1m2s\u001b[0m 23ms/step - loss: 0.2114 - mse: 0.2114 - val_loss: 0.2432 - val_mse: 0.2432\n",
            "Epoch 18/100\n",
            "\u001b[1m90/90\u001b[0m \u001b[32m━━━━━━━━━━━━━━━━━━━━\u001b[0m\u001b[37m\u001b[0m \u001b[1m2s\u001b[0m 22ms/step - loss: 0.2205 - mse: 0.2205 - val_loss: 0.2660 - val_mse: 0.2660\n",
            "Epoch 19/100\n",
            "\u001b[1m90/90\u001b[0m \u001b[32m━━━━━━━━━━━━━━━━━━━━\u001b[0m\u001b[37m\u001b[0m \u001b[1m3s\u001b[0m 25ms/step - loss: 0.2111 - mse: 0.2111 - val_loss: 0.2476 - val_mse: 0.2476\n",
            "Epoch 20/100\n",
            "\u001b[1m90/90\u001b[0m \u001b[32m━━━━━━━━━━━━━━━━━━━━\u001b[0m\u001b[37m\u001b[0m \u001b[1m4s\u001b[0m 36ms/step - loss: 0.2256 - mse: 0.2256 - val_loss: 0.2573 - val_mse: 0.2573\n",
            "Epoch 21/100\n",
            "\u001b[1m90/90\u001b[0m \u001b[32m━━━━━━━━━━━━━━━━━━━━\u001b[0m\u001b[37m\u001b[0m \u001b[1m4s\u001b[0m 21ms/step - loss: 0.2081 - mse: 0.2081 - val_loss: 0.2381 - val_mse: 0.2381\n",
            "Epoch 22/100\n",
            "\u001b[1m90/90\u001b[0m \u001b[32m━━━━━━━━━━━━━━━━━━━━\u001b[0m\u001b[37m\u001b[0m \u001b[1m2s\u001b[0m 21ms/step - loss: 0.2043 - mse: 0.2043 - val_loss: 0.2325 - val_mse: 0.2325\n",
            "Epoch 23/100\n",
            "\u001b[1m90/90\u001b[0m \u001b[32m━━━━━━━━━━━━━━━━━━━━\u001b[0m\u001b[37m\u001b[0m \u001b[1m3s\u001b[0m 29ms/step - loss: 0.2079 - mse: 0.2079 - val_loss: 0.2431 - val_mse: 0.2431\n",
            "Epoch 24/100\n",
            "\u001b[1m90/90\u001b[0m \u001b[32m━━━━━━━━━━━━━━━━━━━━\u001b[0m\u001b[37m\u001b[0m \u001b[1m6s\u001b[0m 36ms/step - loss: 0.2125 - mse: 0.2125 - val_loss: 0.2575 - val_mse: 0.2575\n",
            "Epoch 25/100\n",
            "\u001b[1m90/90\u001b[0m \u001b[32m━━━━━━━━━━━━━━━━━━━━\u001b[0m\u001b[37m\u001b[0m \u001b[1m2s\u001b[0m 21ms/step - loss: 0.2048 - mse: 0.2048 - val_loss: 0.2304 - val_mse: 0.2304\n",
            "Epoch 26/100\n",
            "\u001b[1m90/90\u001b[0m \u001b[32m━━━━━━━━━━━━━━━━━━━━\u001b[0m\u001b[37m\u001b[0m \u001b[1m3s\u001b[0m 22ms/step - loss: 0.2123 - mse: 0.2123 - val_loss: 0.2627 - val_mse: 0.2627\n",
            "Epoch 27/100\n",
            "\u001b[1m90/90\u001b[0m \u001b[32m━━━━━━━━━━━━━━━━━━━━\u001b[0m\u001b[37m\u001b[0m \u001b[1m3s\u001b[0m 24ms/step - loss: 0.2049 - mse: 0.2049 - val_loss: 0.2584 - val_mse: 0.2584\n",
            "Epoch 28/100\n",
            "\u001b[1m90/90\u001b[0m \u001b[32m━━━━━━━━━━━━━━━━━━━━\u001b[0m\u001b[37m\u001b[0m \u001b[1m2s\u001b[0m 22ms/step - loss: 0.1970 - mse: 0.1970 - val_loss: 0.2395 - val_mse: 0.2395\n",
            "Epoch 29/100\n",
            "\u001b[1m90/90\u001b[0m \u001b[32m━━━━━━━━━━━━━━━━━━━━\u001b[0m\u001b[37m\u001b[0m \u001b[1m4s\u001b[0m 36ms/step - loss: 0.2111 - mse: 0.2111 - val_loss: 0.2511 - val_mse: 0.2511\n",
            "Epoch 30/100\n",
            "\u001b[1m90/90\u001b[0m \u001b[32m━━━━━━━━━━━━━━━━━━━━\u001b[0m\u001b[37m\u001b[0m \u001b[1m4s\u001b[0m 23ms/step - loss: 0.1982 - mse: 0.1982 - val_loss: 0.2499 - val_mse: 0.2499\n",
            "Epoch 31/100\n",
            "\u001b[1m90/90\u001b[0m \u001b[32m━━━━━━━━━━━━━━━━━━━━\u001b[0m\u001b[37m\u001b[0m \u001b[1m2s\u001b[0m 21ms/step - loss: 0.1917 - mse: 0.1917 - val_loss: 0.2411 - val_mse: 0.2411\n",
            "Epoch 32/100\n",
            "\u001b[1m90/90\u001b[0m \u001b[32m━━━━━━━━━━━━━━━━━━━━\u001b[0m\u001b[37m\u001b[0m \u001b[1m2s\u001b[0m 21ms/step - loss: 0.1965 - mse: 0.1965 - val_loss: 0.2455 - val_mse: 0.2455\n",
            "Epoch 33/100\n",
            "\u001b[1m90/90\u001b[0m \u001b[32m━━━━━━━━━━━━━━━━━━━━\u001b[0m\u001b[37m\u001b[0m \u001b[1m2s\u001b[0m 23ms/step - loss: 0.2008 - mse: 0.2008 - val_loss: 0.2587 - val_mse: 0.2587\n",
            "Epoch 34/100\n",
            "\u001b[1m90/90\u001b[0m \u001b[32m━━━━━━━━━━━━━━━━━━━━\u001b[0m\u001b[37m\u001b[0m \u001b[1m3s\u001b[0m 33ms/step - loss: 0.2018 - mse: 0.2018 - val_loss: 0.2576 - val_mse: 0.2576\n",
            "Epoch 35/100\n",
            "\u001b[1m90/90\u001b[0m \u001b[32m━━━━━━━━━━━━━━━━━━━━\u001b[0m\u001b[37m\u001b[0m \u001b[1m3s\u001b[0m 34ms/step - loss: 0.2045 - mse: 0.2045 - val_loss: 0.2290 - val_mse: 0.2290\n",
            "Epoch 36/100\n",
            "\u001b[1m90/90\u001b[0m \u001b[32m━━━━━━━━━━━━━━━━━━━━\u001b[0m\u001b[37m\u001b[0m \u001b[1m4s\u001b[0m 21ms/step - loss: 0.1956 - mse: 0.1956 - val_loss: 0.2505 - val_mse: 0.2505\n",
            "Epoch 37/100\n",
            "\u001b[1m90/90\u001b[0m \u001b[32m━━━━━━━━━━━━━━━━━━━━\u001b[0m\u001b[37m\u001b[0m \u001b[1m2s\u001b[0m 21ms/step - loss: 0.1852 - mse: 0.1852 - val_loss: 0.2540 - val_mse: 0.2540\n",
            "Epoch 38/100\n",
            "\u001b[1m90/90\u001b[0m \u001b[32m━━━━━━━━━━━━━━━━━━━━\u001b[0m\u001b[37m\u001b[0m \u001b[1m2s\u001b[0m 21ms/step - loss: 0.2026 - mse: 0.2026 - val_loss: 0.2369 - val_mse: 0.2369\n",
            "Epoch 39/100\n",
            "\u001b[1m90/90\u001b[0m \u001b[32m━━━━━━━━━━━━━━━━━━━━\u001b[0m\u001b[37m\u001b[0m \u001b[1m2s\u001b[0m 21ms/step - loss: 0.1929 - mse: 0.1929 - val_loss: 0.2362 - val_mse: 0.2362\n",
            "Epoch 40/100\n",
            "\u001b[1m90/90\u001b[0m \u001b[32m━━━━━━━━━━━━━━━━━━━━\u001b[0m\u001b[37m\u001b[0m \u001b[1m4s\u001b[0m 35ms/step - loss: 0.1895 - mse: 0.1895 - val_loss: 0.2571 - val_mse: 0.2571\n",
            "Epoch 41/100\n",
            "\u001b[1m90/90\u001b[0m \u001b[32m━━━━━━━━━━━━━━━━━━━━\u001b[0m\u001b[37m\u001b[0m \u001b[1m3s\u001b[0m 30ms/step - loss: 0.1880 - mse: 0.1880 - val_loss: 0.2472 - val_mse: 0.2472\n",
            "Epoch 42/100\n",
            "\u001b[1m90/90\u001b[0m \u001b[32m━━━━━━━━━━━━━━━━━━━━\u001b[0m\u001b[37m\u001b[0m \u001b[1m2s\u001b[0m 23ms/step - loss: 0.1893 - mse: 0.1893 - val_loss: 0.2694 - val_mse: 0.2694\n",
            "Epoch 43/100\n",
            "\u001b[1m90/90\u001b[0m \u001b[32m━━━━━━━━━━━━━━━━━━━━\u001b[0m\u001b[37m\u001b[0m \u001b[1m2s\u001b[0m 20ms/step - loss: 0.1919 - mse: 0.1919 - val_loss: 0.2743 - val_mse: 0.2743\n",
            "Epoch 44/100\n",
            "\u001b[1m90/90\u001b[0m \u001b[32m━━━━━━━━━━━━━━━━━━━━\u001b[0m\u001b[37m\u001b[0m \u001b[1m3s\u001b[0m 21ms/step - loss: 0.1890 - mse: 0.1890 - val_loss: 0.2303 - val_mse: 0.2303\n",
            "Epoch 45/100\n",
            "\u001b[1m90/90\u001b[0m \u001b[32m━━━━━━━━━━━━━━━━━━━━\u001b[0m\u001b[37m\u001b[0m \u001b[1m2s\u001b[0m 21ms/step - loss: 0.1898 - mse: 0.1898 - val_loss: 0.2466 - val_mse: 0.2466\n",
            "Epoch 46/100\n",
            "\u001b[1m90/90\u001b[0m \u001b[32m━━━━━━━━━━━━━━━━━━━━\u001b[0m\u001b[37m\u001b[0m \u001b[1m4s\u001b[0m 35ms/step - loss: 0.1972 - mse: 0.1972 - val_loss: 0.2519 - val_mse: 0.2519\n",
            "Epoch 47/100\n",
            "\u001b[1m90/90\u001b[0m \u001b[32m━━━━━━━━━━━━━━━━━━━━\u001b[0m\u001b[37m\u001b[0m \u001b[1m3s\u001b[0m 31ms/step - loss: 0.2003 - mse: 0.2003 - val_loss: 0.2365 - val_mse: 0.2365\n",
            "Epoch 48/100\n",
            "\u001b[1m90/90\u001b[0m \u001b[32m━━━━━━━━━━━━━━━━━━━━\u001b[0m\u001b[37m\u001b[0m \u001b[1m2s\u001b[0m 23ms/step - loss: 0.1965 - mse: 0.1965 - val_loss: 0.2391 - val_mse: 0.2391\n",
            "Epoch 49/100\n",
            "\u001b[1m90/90\u001b[0m \u001b[32m━━━━━━━━━━━━━━━━━━━━\u001b[0m\u001b[37m\u001b[0m \u001b[1m2s\u001b[0m 24ms/step - loss: 0.1873 - mse: 0.1873 - val_loss: 0.2557 - val_mse: 0.2557\n",
            "Epoch 50/100\n",
            "\u001b[1m90/90\u001b[0m \u001b[32m━━━━━━━━━━━━━━━━━━━━\u001b[0m\u001b[37m\u001b[0m \u001b[1m2s\u001b[0m 22ms/step - loss: 0.1945 - mse: 0.1945 - val_loss: 0.2716 - val_mse: 0.2716\n",
            "Epoch 51/100\n",
            "\u001b[1m90/90\u001b[0m \u001b[32m━━━━━━━━━━━━━━━━━━━━\u001b[0m\u001b[37m\u001b[0m \u001b[1m3s\u001b[0m 22ms/step - loss: 0.1922 - mse: 0.1922 - val_loss: 0.2802 - val_mse: 0.2802\n",
            "Epoch 52/100\n",
            "\u001b[1m90/90\u001b[0m \u001b[32m━━━━━━━━━━━━━━━━━━━━\u001b[0m\u001b[37m\u001b[0m \u001b[1m4s\u001b[0m 40ms/step - loss: 0.1916 - mse: 0.1916 - val_loss: 0.2465 - val_mse: 0.2465\n",
            "Epoch 53/100\n",
            "\u001b[1m90/90\u001b[0m \u001b[32m━━━━━━━━━━━━━━━━━━━━\u001b[0m\u001b[37m\u001b[0m \u001b[1m3s\u001b[0m 22ms/step - loss: 0.1951 - mse: 0.1951 - val_loss: 0.2633 - val_mse: 0.2633\n",
            "Epoch 54/100\n",
            "\u001b[1m90/90\u001b[0m \u001b[32m━━━━━━━━━━━━━━━━━━━━\u001b[0m\u001b[37m\u001b[0m \u001b[1m2s\u001b[0m 20ms/step - loss: 0.1960 - mse: 0.1960 - val_loss: 0.2623 - val_mse: 0.2623\n",
            "Epoch 55/100\n",
            "\u001b[1m90/90\u001b[0m \u001b[32m━━━━━━━━━━━━━━━━━━━━\u001b[0m\u001b[37m\u001b[0m \u001b[1m2s\u001b[0m 21ms/step - loss: 0.1845 - mse: 0.1845 - val_loss: 0.2639 - val_mse: 0.2639\n",
            "Epoch 56/100\n",
            "\u001b[1m90/90\u001b[0m \u001b[32m━━━━━━━━━━━━━━━━━━━━\u001b[0m\u001b[37m\u001b[0m \u001b[1m2s\u001b[0m 21ms/step - loss: 0.1888 - mse: 0.1888 - val_loss: 0.2409 - val_mse: 0.2409\n",
            "Epoch 57/100\n",
            "\u001b[1m90/90\u001b[0m \u001b[32m━━━━━━━━━━━━━━━━━━━━\u001b[0m\u001b[37m\u001b[0m \u001b[1m3s\u001b[0m 26ms/step - loss: 0.2016 - mse: 0.2016 - val_loss: 0.2729 - val_mse: 0.2729\n",
            "Epoch 58/100\n",
            "\u001b[1m90/90\u001b[0m \u001b[32m━━━━━━━━━━━━━━━━━━━━\u001b[0m\u001b[37m\u001b[0m \u001b[1m3s\u001b[0m 35ms/step - loss: 0.1949 - mse: 0.1949 - val_loss: 0.2449 - val_mse: 0.2449\n",
            "Epoch 59/100\n",
            "\u001b[1m90/90\u001b[0m \u001b[32m━━━━━━━━━━━━━━━━━━━━\u001b[0m\u001b[37m\u001b[0m \u001b[1m3s\u001b[0m 27ms/step - loss: 0.1918 - mse: 0.1918 - val_loss: 0.2396 - val_mse: 0.2396\n",
            "Epoch 60/100\n",
            "\u001b[1m90/90\u001b[0m \u001b[32m━━━━━━━━━━━━━━━━━━━━\u001b[0m\u001b[37m\u001b[0m \u001b[1m2s\u001b[0m 22ms/step - loss: 0.1842 - mse: 0.1842 - val_loss: 0.2533 - val_mse: 0.2533\n",
            "Epoch 61/100\n",
            "\u001b[1m90/90\u001b[0m \u001b[32m━━━━━━━━━━━━━━━━━━━━\u001b[0m\u001b[37m\u001b[0m \u001b[1m2s\u001b[0m 21ms/step - loss: 0.1895 - mse: 0.1895 - val_loss: 0.2570 - val_mse: 0.2570\n",
            "Epoch 62/100\n",
            "\u001b[1m90/90\u001b[0m \u001b[32m━━━━━━━━━━━━━━━━━━━━\u001b[0m\u001b[37m\u001b[0m \u001b[1m2s\u001b[0m 21ms/step - loss: 0.1836 - mse: 0.1836 - val_loss: 0.2550 - val_mse: 0.2550\n",
            "Epoch 63/100\n",
            "\u001b[1m90/90\u001b[0m \u001b[32m━━━━━━━━━━━━━━━━━━━━\u001b[0m\u001b[37m\u001b[0m \u001b[1m4s\u001b[0m 36ms/step - loss: 0.1810 - mse: 0.1810 - val_loss: 0.2433 - val_mse: 0.2433\n",
            "Epoch 64/100\n",
            "\u001b[1m90/90\u001b[0m \u001b[32m━━━━━━━━━━━━━━━━━━━━\u001b[0m\u001b[37m\u001b[0m \u001b[1m3s\u001b[0m 37ms/step - loss: 0.1769 - mse: 0.1769 - val_loss: 0.2328 - val_mse: 0.2328\n",
            "Epoch 65/100\n",
            "\u001b[1m90/90\u001b[0m \u001b[32m━━━━━━━━━━━━━━━━━━━━\u001b[0m\u001b[37m\u001b[0m \u001b[1m2s\u001b[0m 21ms/step - loss: 0.1840 - mse: 0.1840 - val_loss: 0.2517 - val_mse: 0.2517\n",
            "Epoch 66/100\n",
            "\u001b[1m90/90\u001b[0m \u001b[32m━━━━━━━━━━━━━━━━━━━━\u001b[0m\u001b[37m\u001b[0m \u001b[1m3s\u001b[0m 28ms/step - loss: 0.1876 - mse: 0.1876 - val_loss: 0.2402 - val_mse: 0.2402\n",
            "Epoch 67/100\n",
            "\u001b[1m90/90\u001b[0m \u001b[32m━━━━━━━━━━━━━━━━━━━━\u001b[0m\u001b[37m\u001b[0m \u001b[1m2s\u001b[0m 21ms/step - loss: 0.1770 - mse: 0.1770 - val_loss: 0.2439 - val_mse: 0.2439\n",
            "Epoch 68/100\n",
            "\u001b[1m90/90\u001b[0m \u001b[32m━━━━━━━━━━━━━━━━━━━━\u001b[0m\u001b[37m\u001b[0m \u001b[1m3s\u001b[0m 23ms/step - loss: 0.1898 - mse: 0.1898 - val_loss: 0.2753 - val_mse: 0.2753\n",
            "Epoch 69/100\n",
            "\u001b[1m90/90\u001b[0m \u001b[32m━━━━━━━━━━━━━━━━━━━━\u001b[0m\u001b[37m\u001b[0m \u001b[1m4s\u001b[0m 35ms/step - loss: 0.1874 - mse: 0.1874 - val_loss: 0.2672 - val_mse: 0.2672\n",
            "Epoch 70/100\n",
            "\u001b[1m90/90\u001b[0m \u001b[32m━━━━━━━━━━━━━━━━━━━━\u001b[0m\u001b[37m\u001b[0m \u001b[1m3s\u001b[0m 31ms/step - loss: 0.1826 - mse: 0.1826 - val_loss: 0.2542 - val_mse: 0.2542\n",
            "Epoch 71/100\n",
            "\u001b[1m90/90\u001b[0m \u001b[32m━━━━━━━━━━━━━━━━━━━━\u001b[0m\u001b[37m\u001b[0m \u001b[1m4s\u001b[0m 21ms/step - loss: 0.1850 - mse: 0.1850 - val_loss: 0.2593 - val_mse: 0.2593\n",
            "Epoch 72/100\n",
            "\u001b[1m90/90\u001b[0m \u001b[32m━━━━━━━━━━━━━━━━━━━━\u001b[0m\u001b[37m\u001b[0m \u001b[1m3s\u001b[0m 23ms/step - loss: 0.1865 - mse: 0.1865 - val_loss: 0.2560 - val_mse: 0.2560\n",
            "Epoch 73/100\n",
            "\u001b[1m90/90\u001b[0m \u001b[32m━━━━━━━━━━━━━━━━━━━━\u001b[0m\u001b[37m\u001b[0m \u001b[1m2s\u001b[0m 23ms/step - loss: 0.1828 - mse: 0.1828 - val_loss: 0.2485 - val_mse: 0.2485\n",
            "Epoch 74/100\n",
            "\u001b[1m90/90\u001b[0m \u001b[32m━━━━━━━━━━━━━━━━━━━━\u001b[0m\u001b[37m\u001b[0m \u001b[1m4s\u001b[0m 36ms/step - loss: 0.1854 - mse: 0.1854 - val_loss: 0.2677 - val_mse: 0.2677\n",
            "Epoch 75/100\n",
            "\u001b[1m90/90\u001b[0m \u001b[32m━━━━━━━━━━━━━━━━━━━━\u001b[0m\u001b[37m\u001b[0m \u001b[1m3s\u001b[0m 32ms/step - loss: 0.1831 - mse: 0.1831 - val_loss: 0.2739 - val_mse: 0.2739\n",
            "Epoch 76/100\n",
            "\u001b[1m90/90\u001b[0m \u001b[32m━━━━━━━━━━━━━━━━━━━━\u001b[0m\u001b[37m\u001b[0m \u001b[1m2s\u001b[0m 21ms/step - loss: 0.1871 - mse: 0.1871 - val_loss: 0.2800 - val_mse: 0.2800\n",
            "Epoch 77/100\n",
            "\u001b[1m90/90\u001b[0m \u001b[32m━━━━━━━━━━━━━━━━━━━━\u001b[0m\u001b[37m\u001b[0m \u001b[1m3s\u001b[0m 21ms/step - loss: 0.1784 - mse: 0.1784 - val_loss: 0.2580 - val_mse: 0.2580\n",
            "Epoch 78/100\n",
            "\u001b[1m90/90\u001b[0m \u001b[32m━━━━━━━━━━━━━━━━━━━━\u001b[0m\u001b[37m\u001b[0m \u001b[1m3s\u001b[0m 21ms/step - loss: 0.1782 - mse: 0.1782 - val_loss: 0.2448 - val_mse: 0.2448\n",
            "Epoch 79/100\n",
            "\u001b[1m90/90\u001b[0m \u001b[32m━━━━━━━━━━━━━━━━━━━━\u001b[0m\u001b[37m\u001b[0m \u001b[1m2s\u001b[0m 21ms/step - loss: 0.1934 - mse: 0.1934 - val_loss: 0.2534 - val_mse: 0.2534\n",
            "Epoch 80/100\n",
            "\u001b[1m90/90\u001b[0m \u001b[32m━━━━━━━━━━━━━━━━━━━━\u001b[0m\u001b[37m\u001b[0m \u001b[1m4s\u001b[0m 34ms/step - loss: 0.1873 - mse: 0.1873 - val_loss: 0.2470 - val_mse: 0.2470\n",
            "Epoch 81/100\n",
            "\u001b[1m90/90\u001b[0m \u001b[32m━━━━━━━━━━━━━━━━━━━━\u001b[0m\u001b[37m\u001b[0m \u001b[1m3s\u001b[0m 32ms/step - loss: 0.1830 - mse: 0.1830 - val_loss: 0.2632 - val_mse: 0.2632\n",
            "Epoch 82/100\n",
            "\u001b[1m90/90\u001b[0m \u001b[32m━━━━━━━━━━━━━━━━━━━━\u001b[0m\u001b[37m\u001b[0m \u001b[1m4s\u001b[0m 23ms/step - loss: 0.1768 - mse: 0.1768 - val_loss: 0.2413 - val_mse: 0.2413\n",
            "Epoch 83/100\n",
            "\u001b[1m90/90\u001b[0m \u001b[32m━━━━━━━━━━━━━━━━━━━━\u001b[0m\u001b[37m\u001b[0m \u001b[1m2s\u001b[0m 21ms/step - loss: 0.1859 - mse: 0.1859 - val_loss: 0.2609 - val_mse: 0.2609\n",
            "Epoch 84/100\n",
            "\u001b[1m90/90\u001b[0m \u001b[32m━━━━━━━━━━━━━━━━━━━━\u001b[0m\u001b[37m\u001b[0m \u001b[1m3s\u001b[0m 22ms/step - loss: 0.1759 - mse: 0.1759 - val_loss: 0.2748 - val_mse: 0.2748\n",
            "Epoch 85/100\n",
            "\u001b[1m90/90\u001b[0m \u001b[32m━━━━━━━━━━━━━━━━━━━━\u001b[0m\u001b[37m\u001b[0m \u001b[1m3s\u001b[0m 31ms/step - loss: 0.1825 - mse: 0.1825 - val_loss: 0.2561 - val_mse: 0.2561\n",
            "Epoch 86/100\n",
            "\u001b[1m90/90\u001b[0m \u001b[32m━━━━━━━━━━━━━━━━━━━━\u001b[0m\u001b[37m\u001b[0m \u001b[1m3s\u001b[0m 35ms/step - loss: 0.1733 - mse: 0.1733 - val_loss: 0.2623 - val_mse: 0.2623\n",
            "Epoch 87/100\n",
            "\u001b[1m90/90\u001b[0m \u001b[32m━━━━━━━━━━━━━━━━━━━━\u001b[0m\u001b[37m\u001b[0m \u001b[1m4s\u001b[0m 22ms/step - loss: 0.1824 - mse: 0.1824 - val_loss: 0.2720 - val_mse: 0.2720\n",
            "Epoch 88/100\n",
            "\u001b[1m90/90\u001b[0m \u001b[32m━━━━━━━━━━━━━━━━━━━━\u001b[0m\u001b[37m\u001b[0m \u001b[1m2s\u001b[0m 21ms/step - loss: 0.1889 - mse: 0.1889 - val_loss: 0.2592 - val_mse: 0.2592\n",
            "Epoch 89/100\n",
            "\u001b[1m90/90\u001b[0m \u001b[32m━━━━━━━━━━━━━━━━━━━━\u001b[0m\u001b[37m\u001b[0m \u001b[1m2s\u001b[0m 21ms/step - loss: 0.1806 - mse: 0.1806 - val_loss: 0.2573 - val_mse: 0.2573\n",
            "Epoch 90/100\n",
            "\u001b[1m90/90\u001b[0m \u001b[32m━━━━━━━━━━━━━━━━━━━━\u001b[0m\u001b[37m\u001b[0m \u001b[1m3s\u001b[0m 23ms/step - loss: 0.1828 - mse: 0.1828 - val_loss: 0.2608 - val_mse: 0.2608\n",
            "Epoch 91/100\n",
            "\u001b[1m90/90\u001b[0m \u001b[32m━━━━━━━━━━━━━━━━━━━━\u001b[0m\u001b[37m\u001b[0m \u001b[1m3s\u001b[0m 34ms/step - loss: 0.1810 - mse: 0.1810 - val_loss: 0.2688 - val_mse: 0.2688\n",
            "Epoch 92/100\n",
            "\u001b[1m90/90\u001b[0m \u001b[32m━━━━━━━━━━━━━━━━━━━━\u001b[0m\u001b[37m\u001b[0m \u001b[1m4s\u001b[0m 21ms/step - loss: 0.1784 - mse: 0.1784 - val_loss: 0.2593 - val_mse: 0.2593\n",
            "Epoch 93/100\n",
            "\u001b[1m90/90\u001b[0m \u001b[32m━━━━━━━━━━━━━━━━━━━━\u001b[0m\u001b[37m\u001b[0m \u001b[1m3s\u001b[0m 21ms/step - loss: 0.1762 - mse: 0.1762 - val_loss: 0.2835 - val_mse: 0.2835\n",
            "Epoch 94/100\n",
            "\u001b[1m90/90\u001b[0m \u001b[32m━━━━━━━━━━━━━━━━━━━━\u001b[0m\u001b[37m\u001b[0m \u001b[1m2s\u001b[0m 21ms/step - loss: 0.1892 - mse: 0.1892 - val_loss: 0.2728 - val_mse: 0.2728\n",
            "Epoch 95/100\n",
            "\u001b[1m90/90\u001b[0m \u001b[32m━━━━━━━━━━━━━━━━━━━━\u001b[0m\u001b[37m\u001b[0m \u001b[1m2s\u001b[0m 21ms/step - loss: 0.1852 - mse: 0.1852 - val_loss: 0.2642 - val_mse: 0.2642\n",
            "Epoch 96/100\n",
            "\u001b[1m90/90\u001b[0m \u001b[32m━━━━━━━━━━━━━━━━━━━━\u001b[0m\u001b[37m\u001b[0m \u001b[1m3s\u001b[0m 36ms/step - loss: 0.1790 - mse: 0.1790 - val_loss: 0.2810 - val_mse: 0.2810\n",
            "Epoch 97/100\n",
            "\u001b[1m90/90\u001b[0m \u001b[32m━━━━━━━━━━━━━━━━━━━━\u001b[0m\u001b[37m\u001b[0m \u001b[1m4s\u001b[0m 21ms/step - loss: 0.1787 - mse: 0.1787 - val_loss: 0.2708 - val_mse: 0.2708\n",
            "Epoch 98/100\n",
            "\u001b[1m90/90\u001b[0m \u001b[32m━━━━━━━━━━━━━━━━━━━━\u001b[0m\u001b[37m\u001b[0m \u001b[1m2s\u001b[0m 21ms/step - loss: 0.1791 - mse: 0.1791 - val_loss: 0.2606 - val_mse: 0.2606\n",
            "Epoch 99/100\n",
            "\u001b[1m90/90\u001b[0m \u001b[32m━━━━━━━━━━━━━━━━━━━━\u001b[0m\u001b[37m\u001b[0m \u001b[1m3s\u001b[0m 21ms/step - loss: 0.1738 - mse: 0.1738 - val_loss: 0.2505 - val_mse: 0.2505\n",
            "Epoch 100/100\n",
            "\u001b[1m90/90\u001b[0m \u001b[32m━━━━━━━━━━━━━━━━━━━━\u001b[0m\u001b[37m\u001b[0m \u001b[1m3s\u001b[0m 24ms/step - loss: 0.1708 - mse: 0.1708 - val_loss: 0.2441 - val_mse: 0.2441\n",
            "\u001b[1m45/45\u001b[0m \u001b[32m━━━━━━━━━━━━━━━━━━━━\u001b[0m\u001b[37m\u001b[0m \u001b[1m2s\u001b[0m 20ms/step\n"
          ]
        }
      ]
    },
    {
      "cell_type": "code",
      "source": [
        "plotLosses(history_gru)"
      ],
      "metadata": {
        "id": "T7UXqGtzLkuB",
        "colab": {
          "base_uri": "https://localhost:8080/",
          "height": 545
        },
        "outputId": "5af827b7-681b-4758-fde3-ecd480cb922d"
      },
      "execution_count": 73,
      "outputs": [
        {
          "output_type": "display_data",
          "data": {
            "text/plain": [
              "<Figure size 800x600 with 1 Axes>"
            ],
            "image/png": "[encoded data removed]"
          },
          "metadata": {}
        }
      ]
    },
    {
      "cell_type": "code",
      "source": [
        "test_val_X_scaled_gru = test_val_X_scaled_cnn\n",
        "\n",
        "getMetrics(y_pred_gru, y_test_scaled)\n",
        "y_pred_test_gru = gru_model.predict(test_val_X_scaled_gru)\n",
        "y_pred_test_original_gru = (y_pred_test_gru[0] * y_std) + y_mean\n",
        "\n",
        "print(y_pred_test_original_gru)\n"
      ],
      "metadata": {
        "id": "jTYUpBTsLp58",
        "colab": {
          "base_uri": "https://localhost:8080/"
        },
        "outputId": "ecd8ad4d-2a42-4155-f2f0-061d70060d03"
      },
      "execution_count": 74,
      "outputs": [
        {
          "output_type": "stream",
          "name": "stdout",
          "text": [
            "MSE:  0.24414670656382942\n",
            "R2:  0.7596303541013918\n",
            "\u001b[1m1/1\u001b[0m \u001b[32m━━━━━━━━━━━━━━━━━━━━\u001b[0m\u001b[37m\u001b[0m \u001b[1m0s\u001b[0m 41ms/step\n",
            "[29.4526]\n"
          ]
        }
      ]
    },
    {
      "cell_type": "markdown",
      "source": [
        "# Extra tree"
      ],
      "metadata": {
        "id": "6YtYtvR-MIs4"
      }
    },
    {
      "cell_type": "code",
      "source": [
        "y_pred_extra, model_extra = extra_tree_regression(x_train_scaled, y_train_scaled, x_test_scaled, y_test_scaled)"
      ],
      "metadata": {
        "id": "rDCvr0xfMIZo"
      },
      "execution_count": 75,
      "outputs": []
    },
    {
      "cell_type": "code",
      "source": [
        "getMetrics(y_pred_extra, y_test_scaled)\n",
        "y_pred_test_extra = model_extra.predict(test_val_X_scaled)\n",
        "y_pred_test_original_extra = (y_pred_test_extra[0] * y_std) + y_mean\n",
        "\n",
        "print(y_pred_test_original_extra)"
      ],
      "metadata": {
        "id": "we27CJ1tMo7H",
        "colab": {
          "base_uri": "https://localhost:8080/"
        },
        "outputId": "a7b3b8e5-0f04-488d-e8e5-48fa59b8bc5a"
      },
      "execution_count": 76,
      "outputs": [
        {
          "output_type": "stream",
          "name": "stdout",
          "text": [
            "MSE:  0.2101616516844356\n",
            "R2:  0.7930896447147139\n",
            "20.750000000000007\n"
          ]
        }
      ]
    },
    {
      "cell_type": "markdown",
      "source": [
        "# Average"
      ],
      "metadata": {
        "id": "b12EWanycZ2o"
      }
    },
    {
      "cell_type": "code",
      "source": [
        "(y_pred_test_RM[0] + y_pred_test_LM[0] + y_pred_test_XGB[0] + y_pred_test_original + y_pred_test_original_cnn + y_pred_test_original_lstm + y_pred_test_original_gru + y_pred_test_original_extra)/8"
      ],
      "metadata": {
        "id": "xViHkBJwcZVF",
        "colab": {
          "base_uri": "https://localhost:8080/"
        },
        "outputId": "813fde30-5b24-4a67-eabe-0528adf499ac"
      },
      "execution_count": 77,
      "outputs": [
        {
          "output_type": "execute_result",
          "data": {
            "text/plain": [
              "array([[27.012297]], dtype=float32)"
            ]
          },
          "metadata": {},
          "execution_count": 77
        }
      ]
    }
  ]
}